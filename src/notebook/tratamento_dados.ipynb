{
 "cells": [
  {
   "cell_type": "markdown",
   "metadata": {},
   "source": [
    "# Tratamento dos dados\n",
    "\n",
    "Este notebook realiza o tratamento dos dados que serão utilizados ao longo do projeto. O tratamento de dados presente está sendo realizado para que, posteriormente, as análises e a construção do modelo sejam feitas de forma mais prática e eficiente, e coletando todos os dados da forma correta, visto a diferença dos formatos trabalhados (.csv e .xlsx), além de organizar colunas e linhas que não estão posicionadas corretamente."
   ]
  },
  {
   "cell_type": "markdown",
   "metadata": {},
   "source": [
    "##### Importando bibliotecas necessárias"
   ]
  },
  {
   "cell_type": "code",
   "execution_count": 1,
   "metadata": {},
   "outputs": [],
   "source": [
    "import pandas as pd\n",
    "import numpy as np"
   ]
  },
  {
   "cell_type": "markdown",
   "metadata": {},
   "source": [
    "### Tratamento dos resultados"
   ]
  },
  {
   "cell_type": "markdown",
   "metadata": {},
   "source": [
    "Tratamento do resultado 08_2023_09_2023"
   ]
  },
  {
   "cell_type": "code",
   "execution_count": 2,
   "metadata": {},
   "outputs": [
    {
     "name": "stderr",
     "output_type": "stream",
     "text": [
      "/home/rafa/.local/lib/python3.10/site-packages/openpyxl/styles/stylesheet.py:237: UserWarning: Workbook contains no default style, apply openpyxl's default\n",
      "  warn(\"Workbook contains no default style, apply openpyxl's default\")\n",
      "Exception ignored in: <bound method IPythonKernel._clean_thread_parent_frames of <ipykernel.ipkernel.IPythonKernel object at 0x7cfffcf60610>>\n",
      "Traceback (most recent call last):\n",
      "  File \"/home/rafa/.local/lib/python3.10/site-packages/ipykernel/ipkernel.py\", line 775, in _clean_thread_parent_frames\n",
      "    def _clean_thread_parent_frames(\n",
      "KeyboardInterrupt: \n"
     ]
    },
    {
     "ename": "KeyboardInterrupt",
     "evalue": "",
     "output_type": "error",
     "traceback": [
      "\u001b[0;31m---------------------------------------------------------------------------\u001b[0m",
      "\u001b[0;31mKeyboardInterrupt\u001b[0m                         Traceback (most recent call last)",
      "Cell \u001b[0;32mIn[2], line 1\u001b[0m\n\u001b[0;32m----> 1\u001b[0m df_resultados_08 \u001b[38;5;241m=\u001b[39m \u001b[43mpd\u001b[49m\u001b[38;5;241;43m.\u001b[39;49m\u001b[43mread_excel\u001b[49m\u001b[43m(\u001b[49m\u001b[38;5;124;43m\"\u001b[39;49m\u001b[38;5;124;43mRESULTADOS_08_2023_09_2023.xlsx\u001b[39;49m\u001b[38;5;124;43m\"\u001b[39;49m\u001b[43m,\u001b[49m\u001b[43m \u001b[49m\u001b[43msheet_name\u001b[49m\u001b[38;5;241;43m=\u001b[39;49m\u001b[38;5;28;43;01mNone\u001b[39;49;00m\u001b[43m)\u001b[49m\n\u001b[1;32m      3\u001b[0m df_resultados_08\n",
      "File \u001b[0;32m~/.local/lib/python3.10/site-packages/pandas/io/excel/_base.py:508\u001b[0m, in \u001b[0;36mread_excel\u001b[0;34m(io, sheet_name, header, names, index_col, usecols, dtype, engine, converters, true_values, false_values, skiprows, nrows, na_values, keep_default_na, na_filter, verbose, parse_dates, date_parser, date_format, thousands, decimal, comment, skipfooter, storage_options, dtype_backend, engine_kwargs)\u001b[0m\n\u001b[1;32m    502\u001b[0m     \u001b[38;5;28;01mraise\u001b[39;00m \u001b[38;5;167;01mValueError\u001b[39;00m(\n\u001b[1;32m    503\u001b[0m         \u001b[38;5;124m\"\u001b[39m\u001b[38;5;124mEngine should not be specified when passing \u001b[39m\u001b[38;5;124m\"\u001b[39m\n\u001b[1;32m    504\u001b[0m         \u001b[38;5;124m\"\u001b[39m\u001b[38;5;124man ExcelFile - ExcelFile already has the engine set\u001b[39m\u001b[38;5;124m\"\u001b[39m\n\u001b[1;32m    505\u001b[0m     )\n\u001b[1;32m    507\u001b[0m \u001b[38;5;28;01mtry\u001b[39;00m:\n\u001b[0;32m--> 508\u001b[0m     data \u001b[38;5;241m=\u001b[39m \u001b[43mio\u001b[49m\u001b[38;5;241;43m.\u001b[39;49m\u001b[43mparse\u001b[49m\u001b[43m(\u001b[49m\n\u001b[1;32m    509\u001b[0m \u001b[43m        \u001b[49m\u001b[43msheet_name\u001b[49m\u001b[38;5;241;43m=\u001b[39;49m\u001b[43msheet_name\u001b[49m\u001b[43m,\u001b[49m\n\u001b[1;32m    510\u001b[0m \u001b[43m        \u001b[49m\u001b[43mheader\u001b[49m\u001b[38;5;241;43m=\u001b[39;49m\u001b[43mheader\u001b[49m\u001b[43m,\u001b[49m\n\u001b[1;32m    511\u001b[0m \u001b[43m        \u001b[49m\u001b[43mnames\u001b[49m\u001b[38;5;241;43m=\u001b[39;49m\u001b[43mnames\u001b[49m\u001b[43m,\u001b[49m\n\u001b[1;32m    512\u001b[0m \u001b[43m        \u001b[49m\u001b[43mindex_col\u001b[49m\u001b[38;5;241;43m=\u001b[39;49m\u001b[43mindex_col\u001b[49m\u001b[43m,\u001b[49m\n\u001b[1;32m    513\u001b[0m \u001b[43m        \u001b[49m\u001b[43musecols\u001b[49m\u001b[38;5;241;43m=\u001b[39;49m\u001b[43musecols\u001b[49m\u001b[43m,\u001b[49m\n\u001b[1;32m    514\u001b[0m \u001b[43m        \u001b[49m\u001b[43mdtype\u001b[49m\u001b[38;5;241;43m=\u001b[39;49m\u001b[43mdtype\u001b[49m\u001b[43m,\u001b[49m\n\u001b[1;32m    515\u001b[0m \u001b[43m        \u001b[49m\u001b[43mconverters\u001b[49m\u001b[38;5;241;43m=\u001b[39;49m\u001b[43mconverters\u001b[49m\u001b[43m,\u001b[49m\n\u001b[1;32m    516\u001b[0m \u001b[43m        \u001b[49m\u001b[43mtrue_values\u001b[49m\u001b[38;5;241;43m=\u001b[39;49m\u001b[43mtrue_values\u001b[49m\u001b[43m,\u001b[49m\n\u001b[1;32m    517\u001b[0m \u001b[43m        \u001b[49m\u001b[43mfalse_values\u001b[49m\u001b[38;5;241;43m=\u001b[39;49m\u001b[43mfalse_values\u001b[49m\u001b[43m,\u001b[49m\n\u001b[1;32m    518\u001b[0m \u001b[43m        \u001b[49m\u001b[43mskiprows\u001b[49m\u001b[38;5;241;43m=\u001b[39;49m\u001b[43mskiprows\u001b[49m\u001b[43m,\u001b[49m\n\u001b[1;32m    519\u001b[0m \u001b[43m        \u001b[49m\u001b[43mnrows\u001b[49m\u001b[38;5;241;43m=\u001b[39;49m\u001b[43mnrows\u001b[49m\u001b[43m,\u001b[49m\n\u001b[1;32m    520\u001b[0m \u001b[43m        \u001b[49m\u001b[43mna_values\u001b[49m\u001b[38;5;241;43m=\u001b[39;49m\u001b[43mna_values\u001b[49m\u001b[43m,\u001b[49m\n\u001b[1;32m    521\u001b[0m \u001b[43m        \u001b[49m\u001b[43mkeep_default_na\u001b[49m\u001b[38;5;241;43m=\u001b[39;49m\u001b[43mkeep_default_na\u001b[49m\u001b[43m,\u001b[49m\n\u001b[1;32m    522\u001b[0m \u001b[43m        \u001b[49m\u001b[43mna_filter\u001b[49m\u001b[38;5;241;43m=\u001b[39;49m\u001b[43mna_filter\u001b[49m\u001b[43m,\u001b[49m\n\u001b[1;32m    523\u001b[0m \u001b[43m        \u001b[49m\u001b[43mverbose\u001b[49m\u001b[38;5;241;43m=\u001b[39;49m\u001b[43mverbose\u001b[49m\u001b[43m,\u001b[49m\n\u001b[1;32m    524\u001b[0m \u001b[43m        \u001b[49m\u001b[43mparse_dates\u001b[49m\u001b[38;5;241;43m=\u001b[39;49m\u001b[43mparse_dates\u001b[49m\u001b[43m,\u001b[49m\n\u001b[1;32m    525\u001b[0m \u001b[43m        \u001b[49m\u001b[43mdate_parser\u001b[49m\u001b[38;5;241;43m=\u001b[39;49m\u001b[43mdate_parser\u001b[49m\u001b[43m,\u001b[49m\n\u001b[1;32m    526\u001b[0m \u001b[43m        \u001b[49m\u001b[43mdate_format\u001b[49m\u001b[38;5;241;43m=\u001b[39;49m\u001b[43mdate_format\u001b[49m\u001b[43m,\u001b[49m\n\u001b[1;32m    527\u001b[0m \u001b[43m        \u001b[49m\u001b[43mthousands\u001b[49m\u001b[38;5;241;43m=\u001b[39;49m\u001b[43mthousands\u001b[49m\u001b[43m,\u001b[49m\n\u001b[1;32m    528\u001b[0m \u001b[43m        \u001b[49m\u001b[43mdecimal\u001b[49m\u001b[38;5;241;43m=\u001b[39;49m\u001b[43mdecimal\u001b[49m\u001b[43m,\u001b[49m\n\u001b[1;32m    529\u001b[0m \u001b[43m        \u001b[49m\u001b[43mcomment\u001b[49m\u001b[38;5;241;43m=\u001b[39;49m\u001b[43mcomment\u001b[49m\u001b[43m,\u001b[49m\n\u001b[1;32m    530\u001b[0m \u001b[43m        \u001b[49m\u001b[43mskipfooter\u001b[49m\u001b[38;5;241;43m=\u001b[39;49m\u001b[43mskipfooter\u001b[49m\u001b[43m,\u001b[49m\n\u001b[1;32m    531\u001b[0m \u001b[43m        \u001b[49m\u001b[43mdtype_backend\u001b[49m\u001b[38;5;241;43m=\u001b[39;49m\u001b[43mdtype_backend\u001b[49m\u001b[43m,\u001b[49m\n\u001b[1;32m    532\u001b[0m \u001b[43m    \u001b[49m\u001b[43m)\u001b[49m\n\u001b[1;32m    533\u001b[0m \u001b[38;5;28;01mfinally\u001b[39;00m:\n\u001b[1;32m    534\u001b[0m     \u001b[38;5;66;03m# make sure to close opened file handles\u001b[39;00m\n\u001b[1;32m    535\u001b[0m     \u001b[38;5;28;01mif\u001b[39;00m should_close:\n",
      "File \u001b[0;32m~/.local/lib/python3.10/site-packages/pandas/io/excel/_base.py:1616\u001b[0m, in \u001b[0;36mExcelFile.parse\u001b[0;34m(self, sheet_name, header, names, index_col, usecols, converters, true_values, false_values, skiprows, nrows, na_values, parse_dates, date_parser, date_format, thousands, comment, skipfooter, dtype_backend, **kwds)\u001b[0m\n\u001b[1;32m   1576\u001b[0m \u001b[38;5;28;01mdef\u001b[39;00m \u001b[38;5;21mparse\u001b[39m(\n\u001b[1;32m   1577\u001b[0m     \u001b[38;5;28mself\u001b[39m,\n\u001b[1;32m   1578\u001b[0m     sheet_name: \u001b[38;5;28mstr\u001b[39m \u001b[38;5;241m|\u001b[39m \u001b[38;5;28mint\u001b[39m \u001b[38;5;241m|\u001b[39m \u001b[38;5;28mlist\u001b[39m[\u001b[38;5;28mint\u001b[39m] \u001b[38;5;241m|\u001b[39m \u001b[38;5;28mlist\u001b[39m[\u001b[38;5;28mstr\u001b[39m] \u001b[38;5;241m|\u001b[39m \u001b[38;5;28;01mNone\u001b[39;00m \u001b[38;5;241m=\u001b[39m \u001b[38;5;241m0\u001b[39m,\n\u001b[0;32m   (...)\u001b[0m\n\u001b[1;32m   1596\u001b[0m     \u001b[38;5;241m*\u001b[39m\u001b[38;5;241m*\u001b[39mkwds,\n\u001b[1;32m   1597\u001b[0m ) \u001b[38;5;241m-\u001b[39m\u001b[38;5;241m>\u001b[39m DataFrame \u001b[38;5;241m|\u001b[39m \u001b[38;5;28mdict\u001b[39m[\u001b[38;5;28mstr\u001b[39m, DataFrame] \u001b[38;5;241m|\u001b[39m \u001b[38;5;28mdict\u001b[39m[\u001b[38;5;28mint\u001b[39m, DataFrame]:\n\u001b[1;32m   1598\u001b[0m \u001b[38;5;250m    \u001b[39m\u001b[38;5;124;03m\"\"\"\u001b[39;00m\n\u001b[1;32m   1599\u001b[0m \u001b[38;5;124;03m    Parse specified sheet(s) into a DataFrame.\u001b[39;00m\n\u001b[1;32m   1600\u001b[0m \n\u001b[0;32m   (...)\u001b[0m\n\u001b[1;32m   1614\u001b[0m \u001b[38;5;124;03m    >>> file.parse()  # doctest: +SKIP\u001b[39;00m\n\u001b[1;32m   1615\u001b[0m \u001b[38;5;124;03m    \"\"\"\u001b[39;00m\n\u001b[0;32m-> 1616\u001b[0m     \u001b[38;5;28;01mreturn\u001b[39;00m \u001b[38;5;28;43mself\u001b[39;49m\u001b[38;5;241;43m.\u001b[39;49m\u001b[43m_reader\u001b[49m\u001b[38;5;241;43m.\u001b[39;49m\u001b[43mparse\u001b[49m\u001b[43m(\u001b[49m\n\u001b[1;32m   1617\u001b[0m \u001b[43m        \u001b[49m\u001b[43msheet_name\u001b[49m\u001b[38;5;241;43m=\u001b[39;49m\u001b[43msheet_name\u001b[49m\u001b[43m,\u001b[49m\n\u001b[1;32m   1618\u001b[0m \u001b[43m        \u001b[49m\u001b[43mheader\u001b[49m\u001b[38;5;241;43m=\u001b[39;49m\u001b[43mheader\u001b[49m\u001b[43m,\u001b[49m\n\u001b[1;32m   1619\u001b[0m \u001b[43m        \u001b[49m\u001b[43mnames\u001b[49m\u001b[38;5;241;43m=\u001b[39;49m\u001b[43mnames\u001b[49m\u001b[43m,\u001b[49m\n\u001b[1;32m   1620\u001b[0m \u001b[43m        \u001b[49m\u001b[43mindex_col\u001b[49m\u001b[38;5;241;43m=\u001b[39;49m\u001b[43mindex_col\u001b[49m\u001b[43m,\u001b[49m\n\u001b[1;32m   1621\u001b[0m \u001b[43m        \u001b[49m\u001b[43musecols\u001b[49m\u001b[38;5;241;43m=\u001b[39;49m\u001b[43musecols\u001b[49m\u001b[43m,\u001b[49m\n\u001b[1;32m   1622\u001b[0m \u001b[43m        \u001b[49m\u001b[43mconverters\u001b[49m\u001b[38;5;241;43m=\u001b[39;49m\u001b[43mconverters\u001b[49m\u001b[43m,\u001b[49m\n\u001b[1;32m   1623\u001b[0m \u001b[43m        \u001b[49m\u001b[43mtrue_values\u001b[49m\u001b[38;5;241;43m=\u001b[39;49m\u001b[43mtrue_values\u001b[49m\u001b[43m,\u001b[49m\n\u001b[1;32m   1624\u001b[0m \u001b[43m        \u001b[49m\u001b[43mfalse_values\u001b[49m\u001b[38;5;241;43m=\u001b[39;49m\u001b[43mfalse_values\u001b[49m\u001b[43m,\u001b[49m\n\u001b[1;32m   1625\u001b[0m \u001b[43m        \u001b[49m\u001b[43mskiprows\u001b[49m\u001b[38;5;241;43m=\u001b[39;49m\u001b[43mskiprows\u001b[49m\u001b[43m,\u001b[49m\n\u001b[1;32m   1626\u001b[0m \u001b[43m        \u001b[49m\u001b[43mnrows\u001b[49m\u001b[38;5;241;43m=\u001b[39;49m\u001b[43mnrows\u001b[49m\u001b[43m,\u001b[49m\n\u001b[1;32m   1627\u001b[0m \u001b[43m        \u001b[49m\u001b[43mna_values\u001b[49m\u001b[38;5;241;43m=\u001b[39;49m\u001b[43mna_values\u001b[49m\u001b[43m,\u001b[49m\n\u001b[1;32m   1628\u001b[0m \u001b[43m        \u001b[49m\u001b[43mparse_dates\u001b[49m\u001b[38;5;241;43m=\u001b[39;49m\u001b[43mparse_dates\u001b[49m\u001b[43m,\u001b[49m\n\u001b[1;32m   1629\u001b[0m \u001b[43m        \u001b[49m\u001b[43mdate_parser\u001b[49m\u001b[38;5;241;43m=\u001b[39;49m\u001b[43mdate_parser\u001b[49m\u001b[43m,\u001b[49m\n\u001b[1;32m   1630\u001b[0m \u001b[43m        \u001b[49m\u001b[43mdate_format\u001b[49m\u001b[38;5;241;43m=\u001b[39;49m\u001b[43mdate_format\u001b[49m\u001b[43m,\u001b[49m\n\u001b[1;32m   1631\u001b[0m \u001b[43m        \u001b[49m\u001b[43mthousands\u001b[49m\u001b[38;5;241;43m=\u001b[39;49m\u001b[43mthousands\u001b[49m\u001b[43m,\u001b[49m\n\u001b[1;32m   1632\u001b[0m \u001b[43m        \u001b[49m\u001b[43mcomment\u001b[49m\u001b[38;5;241;43m=\u001b[39;49m\u001b[43mcomment\u001b[49m\u001b[43m,\u001b[49m\n\u001b[1;32m   1633\u001b[0m \u001b[43m        \u001b[49m\u001b[43mskipfooter\u001b[49m\u001b[38;5;241;43m=\u001b[39;49m\u001b[43mskipfooter\u001b[49m\u001b[43m,\u001b[49m\n\u001b[1;32m   1634\u001b[0m \u001b[43m        \u001b[49m\u001b[43mdtype_backend\u001b[49m\u001b[38;5;241;43m=\u001b[39;49m\u001b[43mdtype_backend\u001b[49m\u001b[43m,\u001b[49m\n\u001b[1;32m   1635\u001b[0m \u001b[43m        \u001b[49m\u001b[38;5;241;43m*\u001b[39;49m\u001b[38;5;241;43m*\u001b[39;49m\u001b[43mkwds\u001b[49m\u001b[43m,\u001b[49m\n\u001b[1;32m   1636\u001b[0m \u001b[43m    \u001b[49m\u001b[43m)\u001b[49m\n",
      "File \u001b[0;32m~/.local/lib/python3.10/site-packages/pandas/io/excel/_base.py:778\u001b[0m, in \u001b[0;36mBaseExcelReader.parse\u001b[0;34m(self, sheet_name, header, names, index_col, usecols, dtype, true_values, false_values, skiprows, nrows, na_values, verbose, parse_dates, date_parser, date_format, thousands, decimal, comment, skipfooter, dtype_backend, **kwds)\u001b[0m\n\u001b[1;32m    775\u001b[0m     sheet \u001b[38;5;241m=\u001b[39m \u001b[38;5;28mself\u001b[39m\u001b[38;5;241m.\u001b[39mget_sheet_by_index(asheetname)\n\u001b[1;32m    777\u001b[0m file_rows_needed \u001b[38;5;241m=\u001b[39m \u001b[38;5;28mself\u001b[39m\u001b[38;5;241m.\u001b[39m_calc_rows(header, index_col, skiprows, nrows)\n\u001b[0;32m--> 778\u001b[0m data \u001b[38;5;241m=\u001b[39m \u001b[38;5;28;43mself\u001b[39;49m\u001b[38;5;241;43m.\u001b[39;49m\u001b[43mget_sheet_data\u001b[49m\u001b[43m(\u001b[49m\u001b[43msheet\u001b[49m\u001b[43m,\u001b[49m\u001b[43m \u001b[49m\u001b[43mfile_rows_needed\u001b[49m\u001b[43m)\u001b[49m\n\u001b[1;32m    779\u001b[0m \u001b[38;5;28;01mif\u001b[39;00m \u001b[38;5;28mhasattr\u001b[39m(sheet, \u001b[38;5;124m\"\u001b[39m\u001b[38;5;124mclose\u001b[39m\u001b[38;5;124m\"\u001b[39m):\n\u001b[1;32m    780\u001b[0m     \u001b[38;5;66;03m# pyxlsb opens two TemporaryFiles\u001b[39;00m\n\u001b[1;32m    781\u001b[0m     sheet\u001b[38;5;241m.\u001b[39mclose()\n",
      "File \u001b[0;32m~/.local/lib/python3.10/site-packages/pandas/io/excel/_openpyxl.py:615\u001b[0m, in \u001b[0;36mOpenpyxlReader.get_sheet_data\u001b[0;34m(self, sheet, file_rows_needed)\u001b[0m\n\u001b[1;32m    613\u001b[0m data: \u001b[38;5;28mlist\u001b[39m[\u001b[38;5;28mlist\u001b[39m[Scalar]] \u001b[38;5;241m=\u001b[39m []\n\u001b[1;32m    614\u001b[0m last_row_with_data \u001b[38;5;241m=\u001b[39m \u001b[38;5;241m-\u001b[39m\u001b[38;5;241m1\u001b[39m\n\u001b[0;32m--> 615\u001b[0m \u001b[38;5;28;01mfor\u001b[39;00m row_number, row \u001b[38;5;129;01min\u001b[39;00m \u001b[38;5;28menumerate\u001b[39m(sheet\u001b[38;5;241m.\u001b[39mrows):\n\u001b[1;32m    616\u001b[0m     converted_row \u001b[38;5;241m=\u001b[39m [\u001b[38;5;28mself\u001b[39m\u001b[38;5;241m.\u001b[39m_convert_cell(cell) \u001b[38;5;28;01mfor\u001b[39;00m cell \u001b[38;5;129;01min\u001b[39;00m row]\n\u001b[1;32m    617\u001b[0m     \u001b[38;5;28;01mwhile\u001b[39;00m converted_row \u001b[38;5;129;01mand\u001b[39;00m converted_row[\u001b[38;5;241m-\u001b[39m\u001b[38;5;241m1\u001b[39m] \u001b[38;5;241m==\u001b[39m \u001b[38;5;124m\"\u001b[39m\u001b[38;5;124m\"\u001b[39m:\n\u001b[1;32m    618\u001b[0m         \u001b[38;5;66;03m# trim trailing empty elements\u001b[39;00m\n",
      "File \u001b[0;32m~/.local/lib/python3.10/site-packages/openpyxl/worksheet/_read_only.py:85\u001b[0m, in \u001b[0;36mReadOnlyWorksheet._cells_by_row\u001b[0;34m(self, min_col, min_row, max_col, max_row, values_only)\u001b[0m\n\u001b[1;32m     77\u001b[0m \u001b[38;5;28;01mwith\u001b[39;00m \u001b[38;5;28mself\u001b[39m\u001b[38;5;241m.\u001b[39m_get_source() \u001b[38;5;28;01mas\u001b[39;00m src:\n\u001b[1;32m     78\u001b[0m     parser \u001b[38;5;241m=\u001b[39m WorkSheetParser(src,\n\u001b[1;32m     79\u001b[0m                              \u001b[38;5;28mself\u001b[39m\u001b[38;5;241m.\u001b[39m_shared_strings,\n\u001b[1;32m     80\u001b[0m                              data_only\u001b[38;5;241m=\u001b[39m\u001b[38;5;28mself\u001b[39m\u001b[38;5;241m.\u001b[39mparent\u001b[38;5;241m.\u001b[39mdata_only,\n\u001b[1;32m     81\u001b[0m                              epoch\u001b[38;5;241m=\u001b[39m\u001b[38;5;28mself\u001b[39m\u001b[38;5;241m.\u001b[39mparent\u001b[38;5;241m.\u001b[39mepoch,\n\u001b[1;32m     82\u001b[0m                              date_formats\u001b[38;5;241m=\u001b[39m\u001b[38;5;28mself\u001b[39m\u001b[38;5;241m.\u001b[39mparent\u001b[38;5;241m.\u001b[39m_date_formats,\n\u001b[1;32m     83\u001b[0m                              timedelta_formats\u001b[38;5;241m=\u001b[39m\u001b[38;5;28mself\u001b[39m\u001b[38;5;241m.\u001b[39mparent\u001b[38;5;241m.\u001b[39m_timedelta_formats)\n\u001b[0;32m---> 85\u001b[0m     \u001b[38;5;28;01mfor\u001b[39;00m idx, row \u001b[38;5;129;01min\u001b[39;00m parser\u001b[38;5;241m.\u001b[39mparse():\n\u001b[1;32m     86\u001b[0m         \u001b[38;5;28;01mif\u001b[39;00m max_row \u001b[38;5;129;01mis\u001b[39;00m \u001b[38;5;129;01mnot\u001b[39;00m \u001b[38;5;28;01mNone\u001b[39;00m \u001b[38;5;129;01mand\u001b[39;00m idx \u001b[38;5;241m>\u001b[39m max_row:\n\u001b[1;32m     87\u001b[0m             \u001b[38;5;28;01mbreak\u001b[39;00m\n",
      "File \u001b[0;32m~/.local/lib/python3.10/site-packages/openpyxl/worksheet/_reader.py:156\u001b[0m, in \u001b[0;36mWorkSheetParser.parse\u001b[0;34m(self)\u001b[0m\n\u001b[1;32m    137\u001b[0m properties \u001b[38;5;241m=\u001b[39m {\n\u001b[1;32m    138\u001b[0m     PRINT_TAG: (\u001b[38;5;124m'\u001b[39m\u001b[38;5;124mprint_options\u001b[39m\u001b[38;5;124m'\u001b[39m, PrintOptions),\n\u001b[1;32m    139\u001b[0m     MARGINS_TAG: (\u001b[38;5;124m'\u001b[39m\u001b[38;5;124mpage_margins\u001b[39m\u001b[38;5;124m'\u001b[39m, PageMargins),\n\u001b[0;32m   (...)\u001b[0m\n\u001b[1;32m    151\u001b[0m \n\u001b[1;32m    152\u001b[0m }\n\u001b[1;32m    154\u001b[0m it \u001b[38;5;241m=\u001b[39m iterparse(\u001b[38;5;28mself\u001b[39m\u001b[38;5;241m.\u001b[39msource) \u001b[38;5;66;03m# add a finaliser to close the source when this becomes possible\u001b[39;00m\n\u001b[0;32m--> 156\u001b[0m \u001b[38;5;28;01mfor\u001b[39;00m _, element \u001b[38;5;129;01min\u001b[39;00m it:\n\u001b[1;32m    157\u001b[0m     tag_name \u001b[38;5;241m=\u001b[39m element\u001b[38;5;241m.\u001b[39mtag\n\u001b[1;32m    158\u001b[0m     \u001b[38;5;28;01mif\u001b[39;00m tag_name \u001b[38;5;129;01min\u001b[39;00m dispatcher:\n",
      "File \u001b[0;32m/usr/lib/python3.10/xml/etree/ElementTree.py:1258\u001b[0m, in \u001b[0;36miterparse.<locals>.iterator\u001b[0;34m(source)\u001b[0m\n\u001b[1;32m   1256\u001b[0m     \u001b[38;5;28;01mif\u001b[39;00m \u001b[38;5;129;01mnot\u001b[39;00m data:\n\u001b[1;32m   1257\u001b[0m         \u001b[38;5;28;01mbreak\u001b[39;00m\n\u001b[0;32m-> 1258\u001b[0m     \u001b[43mpullparser\u001b[49m\u001b[38;5;241;43m.\u001b[39;49m\u001b[43mfeed\u001b[49m\u001b[43m(\u001b[49m\u001b[43mdata\u001b[49m\u001b[43m)\u001b[49m\n\u001b[1;32m   1259\u001b[0m root \u001b[38;5;241m=\u001b[39m pullparser\u001b[38;5;241m.\u001b[39m_close_and_return_root()\n\u001b[1;32m   1260\u001b[0m \u001b[38;5;28;01myield from\u001b[39;00m pullparser\u001b[38;5;241m.\u001b[39mread_events()\n",
      "File \u001b[0;32m/usr/lib/python3.10/xml/etree/ElementTree.py:1296\u001b[0m, in \u001b[0;36mXMLPullParser.feed\u001b[0;34m(self, data)\u001b[0m\n\u001b[1;32m   1294\u001b[0m \u001b[38;5;28;01mif\u001b[39;00m data:\n\u001b[1;32m   1295\u001b[0m     \u001b[38;5;28;01mtry\u001b[39;00m:\n\u001b[0;32m-> 1296\u001b[0m         \u001b[38;5;28;43mself\u001b[39;49m\u001b[38;5;241;43m.\u001b[39;49m\u001b[43m_parser\u001b[49m\u001b[38;5;241;43m.\u001b[39;49m\u001b[43mfeed\u001b[49m\u001b[43m(\u001b[49m\u001b[43mdata\u001b[49m\u001b[43m)\u001b[49m\n\u001b[1;32m   1297\u001b[0m     \u001b[38;5;28;01mexcept\u001b[39;00m \u001b[38;5;167;01mSyntaxError\u001b[39;00m \u001b[38;5;28;01mas\u001b[39;00m exc:\n\u001b[1;32m   1298\u001b[0m         \u001b[38;5;28mself\u001b[39m\u001b[38;5;241m.\u001b[39m_events_queue\u001b[38;5;241m.\u001b[39mappend(exc)\n",
      "File \u001b[0;32m/usr/lib/python3.10/xml/etree/ElementTree.py:1713\u001b[0m, in \u001b[0;36mXMLParser.feed\u001b[0;34m(self, data)\u001b[0m\n\u001b[1;32m   1711\u001b[0m \u001b[38;5;250m\u001b[39m\u001b[38;5;124;03m\"\"\"Feed encoded data to parser.\"\"\"\u001b[39;00m\n\u001b[1;32m   1712\u001b[0m \u001b[38;5;28;01mtry\u001b[39;00m:\n\u001b[0;32m-> 1713\u001b[0m     \u001b[38;5;28;43mself\u001b[39;49m\u001b[38;5;241;43m.\u001b[39;49m\u001b[43mparser\u001b[49m\u001b[38;5;241;43m.\u001b[39;49m\u001b[43mParse\u001b[49m\u001b[43m(\u001b[49m\u001b[43mdata\u001b[49m\u001b[43m,\u001b[49m\u001b[43m \u001b[49m\u001b[38;5;28;43;01mFalse\u001b[39;49;00m\u001b[43m)\u001b[49m\n\u001b[1;32m   1714\u001b[0m \u001b[38;5;28;01mexcept\u001b[39;00m \u001b[38;5;28mself\u001b[39m\u001b[38;5;241m.\u001b[39m_error \u001b[38;5;28;01mas\u001b[39;00m v:\n\u001b[1;32m   1715\u001b[0m     \u001b[38;5;28mself\u001b[39m\u001b[38;5;241m.\u001b[39m_raiseerror(v)\n",
      "File \u001b[0;32m../Modules/pyexpat.c:416\u001b[0m, in \u001b[0;36mStartElement\u001b[0;34m()\u001b[0m\n",
      "File \u001b[0;32m/usr/lib/python3.10/xml/etree/ElementTree.py:1641\u001b[0m, in \u001b[0;36mXMLParser._start\u001b[0;34m(self, tag, attr_list)\u001b[0m\n\u001b[1;32m   1638\u001b[0m \u001b[38;5;28;01mdef\u001b[39;00m \u001b[38;5;21m_end_ns\u001b[39m(\u001b[38;5;28mself\u001b[39m, prefix):\n\u001b[1;32m   1639\u001b[0m     \u001b[38;5;28;01mreturn\u001b[39;00m \u001b[38;5;28mself\u001b[39m\u001b[38;5;241m.\u001b[39mtarget\u001b[38;5;241m.\u001b[39mend_ns(prefix \u001b[38;5;129;01mor\u001b[39;00m \u001b[38;5;124m'\u001b[39m\u001b[38;5;124m'\u001b[39m)\n\u001b[0;32m-> 1641\u001b[0m \u001b[38;5;28;01mdef\u001b[39;00m \u001b[38;5;21m_start\u001b[39m(\u001b[38;5;28mself\u001b[39m, tag, attr_list):\n\u001b[1;32m   1642\u001b[0m     \u001b[38;5;66;03m# Handler for expat's StartElementHandler. Since ordered_attributes\u001b[39;00m\n\u001b[1;32m   1643\u001b[0m     \u001b[38;5;66;03m# is set, the attributes are reported as a list of alternating\u001b[39;00m\n\u001b[1;32m   1644\u001b[0m     \u001b[38;5;66;03m# attribute name,value.\u001b[39;00m\n\u001b[1;32m   1645\u001b[0m     fixname \u001b[38;5;241m=\u001b[39m \u001b[38;5;28mself\u001b[39m\u001b[38;5;241m.\u001b[39m_fixname\n\u001b[1;32m   1646\u001b[0m     tag \u001b[38;5;241m=\u001b[39m fixname(tag)\n",
      "\u001b[0;31mKeyboardInterrupt\u001b[0m: "
     ]
    }
   ],
   "source": [
    "df_resultados_08 = pd.read_excel(\"RESULTADOS_08_2023_09_2023.xlsx\", sheet_name=None)\n",
    "\n",
    "df_resultados_08"
   ]
  },
  {
   "cell_type": "code",
   "execution_count": null,
   "metadata": {},
   "outputs": [],
   "source": [
    "planilhas = []\n",
    "for planilha,df in df_resultados_08.items():\n",
    "    planilhas.append(planilha)\n",
    "    print(planilha)"
   ]
  },
  {
   "cell_type": "code",
   "execution_count": null,
   "metadata": {},
   "outputs": [],
   "source": [
    "df1_08 = df_resultados_08['Relatório 1']\n",
    "df1_08.head()"
   ]
  },
  {
   "cell_type": "code",
   "execution_count": null,
   "metadata": {},
   "outputs": [],
   "source": [
    "df1_08.drop(df1_08.columns[0], axis=1, inplace=True)\n",
    "# Pega a primeira linha e coloca ela como as colunas do DataFrame\n",
    "colunas = df1_08.iloc[0]\n",
    "# Pega todos os dados sem a primeira linha\n",
    "df1_08 = df1_08[1:]\n",
    "# Pega a primeira linha e coloca ela como as colunas do DataFrame\n",
    "colunas = df1_08.iloc[0]\n",
    "# Pega todos os dados sem a primeira linha\n",
    "df1_08 = df1_08[1:]\n",
    "# Pega a primeira linha e coloca ela como as colunas do DataFrame\n",
    "colunas = df1_08.iloc[0]\n",
    "# Pega todos os dados sem a primeira linha\n",
    "df1_08 = df1_08[1:]\n",
    "#Atualiza as linhas\n",
    "df1_08.columns = colunas"
   ]
  },
  {
   "cell_type": "code",
   "execution_count": null,
   "metadata": {},
   "outputs": [],
   "source": [
    "lista = ['Relatório 1(1)',\n",
    "'Relatório 1(2)',\n",
    "'Relatório 1(3)',\n",
    "'Relatório 1(4)',\n",
    "'Relatório 1(5)',\n",
    "'Relatório 1(6)',\n",
    "'Relatório 1(7)',\n",
    "'Relatório 1(8)',\n",
    "'Relatório 1(9)',\n",
    "'Relatório 1(10)']"
   ]
  },
  {
   "cell_type": "code",
   "execution_count": null,
   "metadata": {},
   "outputs": [],
   "source": [
    "dfs = {}\n",
    "for atual_df in lista:\n",
    "    dfs[atual_df] = None\n",
    "for atual_df in lista:\n",
    "    # Preparando os demais dataframes\n",
    "    dfs[atual_df] = df_resultados_08[atual_df]\n",
    "    # Remover a primeira coluna\n",
    "    dfs[atual_df].drop(dfs[atual_df].columns[0], axis=1, inplace=True)\n",
    "    # Pega a primeira linha e coloca ela como dados do DataFrame\n",
    "    linha_extra = dfs[atual_df].columns\n",
    "    # Pega todos os dados sem a primeira linha\n",
    "    dfs[atual_df].loc[-1] = linha_extra\n",
    "    # Ajusta os indices\n",
    "    dfs[atual_df].index = dfs[atual_df].index + 1\n",
    "    dfs[atual_df] = dfs[atual_df].sort_index()\n",
    "    #Atualiza as linhas\n",
    "    dfs[atual_df].columns = colunas"
   ]
  },
  {
   "cell_type": "code",
   "execution_count": null,
   "metadata": {},
   "outputs": [],
   "source": [
    "df_uniao_08 = df1_08\n",
    "for atual_df in lista:\n",
    "    df_uniao_08 = pd.concat([df_uniao_08, dfs[atual_df]], ignore_index=True)"
   ]
  },
  {
   "cell_type": "code",
   "execution_count": null,
   "metadata": {},
   "outputs": [],
   "source": [
    "# df_uniao_08.to_csv('../static/RESULTADOS_08_2023_09_2023_juntados.csv')"
   ]
  },
  {
   "cell_type": "markdown",
   "metadata": {},
   "source": [
    "Tratamento do resultado 02_03_2024"
   ]
  },
  {
   "cell_type": "code",
   "execution_count": null,
   "metadata": {},
   "outputs": [],
   "source": [
    "df_resultados_02 = pd.read_excel(\"RESULTADOS_02_03_2024.xlsx\", sheet_name=None)\n",
    "\n",
    "df_resultados_02"
   ]
  },
  {
   "cell_type": "code",
   "execution_count": null,
   "metadata": {},
   "outputs": [],
   "source": [
    "planilhas = []\n",
    "for planilha,df in df_resultados_02.items():\n",
    "    planilhas.append(planilha)\n",
    "    print(planilha)"
   ]
  },
  {
   "cell_type": "code",
   "execution_count": null,
   "metadata": {},
   "outputs": [],
   "source": [
    "df1_02 = df_resultados_02['Relatório 1']\n",
    "df1_02.head()"
   ]
  },
  {
   "cell_type": "code",
   "execution_count": null,
   "metadata": {},
   "outputs": [],
   "source": [
    "df1_02.drop(df1_02.columns[0], axis=1, inplace=True)\n",
    "# Pega a primeira linha e coloca ela como as colunas do DataFrame\n",
    "colunas = df1_02.iloc[0]\n",
    "# Pega todos os dados sem a primeira linha\n",
    "df1_02 = df1_02[1:]\n",
    "#Atualiza as linhas\n",
    "df1_02.columns = colunas\n",
    "df1_02.head()"
   ]
  },
  {
   "cell_type": "code",
   "execution_count": null,
   "metadata": {},
   "outputs": [],
   "source": [
    "lista = ['Relatório 1(1)',\n",
    "'Relatório 1(2)',\n",
    "'Relatório 1(3)',\n",
    "'Relatório 1(4)',\n",
    "'Relatório 1(5)',\n",
    "'Relatório 1(6)',\n",
    "'Relatório 1(7)',\n",
    "'Relatório 1(8)',\n",
    "'Relatório 1(9)',\n",
    "'Relatório 1(10)']"
   ]
  },
  {
   "cell_type": "code",
   "execution_count": null,
   "metadata": {},
   "outputs": [],
   "source": [
    "dfs = {}\n",
    "for atual_df in lista:\n",
    "    dfs[atual_df] = None\n",
    "for atual_df in lista:\n",
    "    # Preparando os demais dataframes\n",
    "    dfs[atual_df] = df_resultados_02[atual_df]\n",
    "    # Remover a primeira coluna\n",
    "    dfs[atual_df].drop(dfs[atual_df].columns[0], axis=1, inplace=True)\n",
    "    # Pega a primeira linha e coloca ela como dados do DataFrame\n",
    "    linha_extra = dfs[atual_df].columns\n",
    "    # Pega todos os dados sem a primeira linha\n",
    "    dfs[atual_df].loc[-1] = linha_extra\n",
    "    # Ajusta os indices\n",
    "    dfs[atual_df].index = dfs[atual_df].index + 1\n",
    "    dfs[atual_df] = dfs[atual_df].sort_index()\n",
    "    #Atualiza as linhas\n",
    "    dfs[atual_df].columns = colunas"
   ]
  },
  {
   "cell_type": "code",
   "execution_count": null,
   "metadata": {},
   "outputs": [],
   "source": [
    "df_uniao_02 = df1_02\n",
    "for atual_df in lista:\n",
    "    df_uniao_02 = pd.concat([df_uniao_02, dfs[atual_df]], ignore_index=True)"
   ]
  },
  {
   "cell_type": "code",
   "execution_count": null,
   "metadata": {},
   "outputs": [],
   "source": [
    "# df_uniao_02.to_csv('../static/RESULTADOS_02_03_2024_juntados.csv')"
   ]
  },
  {
   "cell_type": "markdown",
   "metadata": {},
   "source": [
    "Tratamento do resultado 04_06_2024"
   ]
  },
  {
   "cell_type": "code",
   "execution_count": null,
   "metadata": {},
   "outputs": [],
   "source": [
    "df_resultados_04 = pd.read_excel(\"RESULTADOS_04_06_2024.xlsx\", sheet_name=None)\n",
    "\n",
    "df_resultados_04"
   ]
  },
  {
   "cell_type": "code",
   "execution_count": null,
   "metadata": {},
   "outputs": [],
   "source": [
    "planilhas = []\n",
    "for planilha,df in df_resultados_04.items():\n",
    "    planilhas.append(planilha)\n",
    "    print(planilha)"
   ]
  },
  {
   "cell_type": "code",
   "execution_count": null,
   "metadata": {},
   "outputs": [],
   "source": [
    "df1_04 = df_resultados_04['Relatório 1']\n",
    "df1_04.head()"
   ]
  },
  {
   "cell_type": "code",
   "execution_count": null,
   "metadata": {},
   "outputs": [],
   "source": [
    "df1_04.drop(df1_04.columns[0], axis=1, inplace=True)\n",
    "# Pega a primeira linha e coloca ela como as colunas do DataFrame\n",
    "colunas = df1_04.iloc[0]\n",
    "# Pega todos os dados sem a primeira linha\n",
    "df1_04 = df1_04[1:]\n",
    "#Atualiza as linhas\n",
    "df1_04.columns = colunas\n",
    "df1_04.head()"
   ]
  },
  {
   "cell_type": "code",
   "execution_count": null,
   "metadata": {},
   "outputs": [],
   "source": [
    "lista = ['Relatório 1(1)',\n",
    "'Relatório 1(2)',\n",
    "'Relatório 1(3)',\n",
    "'Relatório 1(4)',\n",
    "'Relatório 1(5)',\n",
    "'Relatório 1(6)',\n",
    "'Relatório 1(7)',\n",
    "'Relatório 1(8)',\n",
    "'Relatório 1(9)',\n",
    "'Relatório 1(10)',\n",
    "'Relatório 1(11)',\n",
    "'Relatório 1(12)',\n",
    "'Relatório 1(13)',\n",
    "'Relatório 1(14)',\n",
    "'Relatório 1(15)',\n",
    "'Relatório 1(16)',\n",
    "'Relatório 1(17)',\n",
    "'Relatório 1(18)',\n",
    "'Relatório 1(19)',\n",
    "'Relatório 1(20)']"
   ]
  },
  {
   "cell_type": "code",
   "execution_count": null,
   "metadata": {},
   "outputs": [],
   "source": [
    "dfs = {}\n",
    "for atual_df in lista:\n",
    "    dfs[atual_df] = None\n",
    "for atual_df in lista:\n",
    "    # Preparando os demais dataframes\n",
    "    dfs[atual_df] = df_resultados_04[atual_df]\n",
    "    # Remover a primeira coluna\n",
    "    dfs[atual_df].drop(dfs[atual_df].columns[0], axis=1, inplace=True)\n",
    "    # Pega a primeira linha e coloca ela como dados do DataFrame\n",
    "    linha_extra = dfs[atual_df].columns\n",
    "    # Pega todos os dados sem a primeira linha\n",
    "    dfs[atual_df].loc[-1] = linha_extra\n",
    "    # Ajusta os indices\n",
    "    dfs[atual_df].index = dfs[atual_df].index + 1\n",
    "    dfs[atual_df] = dfs[atual_df].sort_index()\n",
    "    #Atualiza as linhas\n",
    "    dfs[atual_df].columns = colunas"
   ]
  },
  {
   "cell_type": "code",
   "execution_count": null,
   "metadata": {},
   "outputs": [],
   "source": [
    "df_uniao_04 = df1_04\n",
    "for atual_df in lista:\n",
    "    df_uniao_04 = pd.concat([df_uniao_04, dfs[atual_df]], ignore_index=True)"
   ]
  },
  {
   "cell_type": "code",
   "execution_count": null,
   "metadata": {},
   "outputs": [],
   "source": [
    "# df_uniao_04.to_csv('../static/RESULTADOS_04_06_2024_juntados.csv')"
   ]
  },
  {
   "cell_type": "markdown",
   "metadata": {},
   "source": [
    "Tratamento do resultado 06_2023_07_2023"
   ]
  },
  {
   "cell_type": "code",
   "execution_count": null,
   "metadata": {},
   "outputs": [],
   "source": [
    "df_resultados_06 = pd.read_excel(\"../static/RESULTADOS_06_2023_07_2023.xlsx\", sheet_name=None)\n",
    "\n",
    "df_resultados_06"
   ]
  },
  {
   "cell_type": "code",
   "execution_count": null,
   "metadata": {},
   "outputs": [],
   "source": [
    "planilhas = []\n",
    "for planilha,df in df_resultados_06.items():\n",
    "    planilhas.append(planilha)\n",
    "    print(planilha)"
   ]
  },
  {
   "cell_type": "code",
   "execution_count": null,
   "metadata": {},
   "outputs": [],
   "source": [
    "df1_06 = df_resultados_06['Relatório 1']\n",
    "df1_06.head()"
   ]
  },
  {
   "cell_type": "code",
   "execution_count": null,
   "metadata": {},
   "outputs": [],
   "source": [
    "df1_06.drop(df1_06.columns[0], axis=1, inplace=True)\n",
    "# Pega a primeira linha e coloca ela como as colunas do DataFrame\n",
    "colunas = df1_06.iloc[0]\n",
    "# Pega todos os dados sem a primeira linha\n",
    "df1_06 = df1_06[1:]\n",
    "#Atualiza as linhas\n",
    "df1_06.columns = colunas\n",
    "df1_06.head()"
   ]
  },
  {
   "cell_type": "code",
   "execution_count": null,
   "metadata": {},
   "outputs": [],
   "source": [
    "lista = ['Relatório 1(1)',\n",
    "'Relatório 1(2)',\n",
    "'Relatório 1(3)',\n",
    "'Relatório 1(4)',\n",
    "'Relatório 1(5)',\n",
    "'Relatório 1(6)',\n",
    "'Relatório 1(7)',\n",
    "'Relatório 1(8)',\n",
    "'Relatório 1(9)',\n",
    "'Relatório 1(10)',]"
   ]
  },
  {
   "cell_type": "code",
   "execution_count": null,
   "metadata": {},
   "outputs": [],
   "source": [
    "dfs = {}\n",
    "for atual_df in lista:\n",
    "    dfs[atual_df] = None\n",
    "for atual_df in lista:\n",
    "    # Preparando os demais dataframes\n",
    "    dfs[atual_df] = df_resultados_06[atual_df]\n",
    "    # Remover a primeira coluna\n",
    "    dfs[atual_df].drop(dfs[atual_df].columns[0], axis=1, inplace=True)\n",
    "    # Pega a primeira linha e coloca ela como dados do DataFrame\n",
    "    linha_extra = dfs[atual_df].columns\n",
    "    # Pega todos os dados sem a primeira linha\n",
    "    dfs[atual_df].loc[-1] = linha_extra\n",
    "    # Ajusta os indices\n",
    "    dfs[atual_df].index = dfs[atual_df].index + 1\n",
    "    dfs[atual_df] = dfs[atual_df].sort_index()\n",
    "    #Atualiza as linhas\n",
    "    dfs[atual_df].columns = colunas"
   ]
  },
  {
   "cell_type": "code",
   "execution_count": null,
   "metadata": {},
   "outputs": [],
   "source": [
    "df_uniao_06 = df1_06\n",
    "for atual_df in lista:\n",
    "    df_uniao_06 = pd.concat([df_uniao_06, dfs[atual_df]], ignore_index=True)"
   ]
  },
  {
   "cell_type": "code",
   "execution_count": null,
   "metadata": {},
   "outputs": [],
   "source": [
    "# df_uniao_06.to_csv('../static/RESULTADOS_06_2023_07_2023_juntados.csv')"
   ]
  },
  {
   "cell_type": "markdown",
   "metadata": {},
   "source": [
    "Tratamento do resultado 10_2023_11_2023"
   ]
  },
  {
   "cell_type": "code",
   "execution_count": null,
   "metadata": {},
   "outputs": [],
   "source": [
    "df_resultados_10 = pd.read_excel(\"../static/RESULTADOS_10_2023_11_2023.xlsx\", sheet_name=None)\n",
    "\n",
    "df_resultados_10"
   ]
  },
  {
   "cell_type": "code",
   "execution_count": null,
   "metadata": {},
   "outputs": [],
   "source": [
    "planilhas = []\n",
    "for planilha,df in df_resultados_10.items():\n",
    "    planilhas.append(planilha)\n",
    "    print(planilha)"
   ]
  },
  {
   "cell_type": "code",
   "execution_count": null,
   "metadata": {},
   "outputs": [],
   "source": [
    "df1_10 = df_resultados_10['Relatório 1']\n",
    "df1_10.head()"
   ]
  },
  {
   "cell_type": "code",
   "execution_count": null,
   "metadata": {},
   "outputs": [],
   "source": [
    "df1_10.drop(df1_10.columns[0], axis=1, inplace=True)\n",
    "# Pega a primeira linha e coloca ela como as colunas do DataFrame\n",
    "colunas = df1_10.iloc[0]\n",
    "# Pega todos os dados sem a primeira linha\n",
    "df1_10 = df1_10[1:]\n",
    "#Atualiza as linhas\n",
    "df1_10.columns = colunas\n",
    "df1_10.head()"
   ]
  },
  {
   "cell_type": "code",
   "execution_count": null,
   "metadata": {},
   "outputs": [],
   "source": [
    "lista = ['Relatório 1(1)',\n",
    "'Relatório 1(2)',\n",
    "'Relatório 1(3)',\n",
    "'Relatório 1(4)',\n",
    "'Relatório 1(5)',\n",
    "'Relatório 1(6)',\n",
    "'Relatório 1(7)',\n",
    "'Relatório 1(8)',\n",
    "'Relatório 1(9)',\n",
    "'Relatório 1(10)',\n",
    "'Relatório 1(11)',\n",
    "'Relatório 1(12)',\n",
    "'Relatório 1(13)']"
   ]
  },
  {
   "cell_type": "code",
   "execution_count": null,
   "metadata": {},
   "outputs": [],
   "source": [
    "dfs = {}\n",
    "for atual_df in lista:\n",
    "    dfs[atual_df] = None\n",
    "for atual_df in lista:\n",
    "    # Preparando os demais dataframes\n",
    "    dfs[atual_df] = df_resultados_10[atual_df]\n",
    "    # Remover a primeira coluna\n",
    "    dfs[atual_df].drop(dfs[atual_df].columns[0], axis=1, inplace=True)\n",
    "    # Pega a primeira linha e coloca ela como dados do DataFrame\n",
    "    linha_extra = dfs[atual_df].columns\n",
    "    # Pega todos os dados sem a primeira linha\n",
    "    dfs[atual_df].loc[-1] = linha_extra\n",
    "    # Ajusta os indices\n",
    "    dfs[atual_df].index = dfs[atual_df].index + 1\n",
    "    dfs[atual_df] = dfs[atual_df].sort_index()\n",
    "    #Atualiza as linhas\n",
    "    dfs[atual_df].columns = colunas"
   ]
  },
  {
   "cell_type": "code",
   "execution_count": null,
   "metadata": {},
   "outputs": [],
   "source": [
    "df_uniao_10 = df1_10\n",
    "for atual_df in lista:\n",
    "    df_uniao_10 = pd.concat([df_uniao_10, dfs[atual_df]], ignore_index=True)"
   ]
  },
  {
   "cell_type": "code",
   "execution_count": null,
   "metadata": {},
   "outputs": [],
   "source": [
    "# df_uniao_10.to_csv('../static/RESULTADOS_10_2023_11_2023_juntados.csv')"
   ]
  },
  {
   "cell_type": "markdown",
   "metadata": {},
   "source": [
    "Tratamento do resultado 12_2023_01_2024"
   ]
  },
  {
   "cell_type": "code",
   "execution_count": null,
   "metadata": {},
   "outputs": [],
   "source": [
    "df_resultados_12 = pd.read_excel(\"../static/RESULTADOS_12_2023_01_2024.xlsx\", sheet_name=None)\n",
    "\n",
    "df_resultados_12"
   ]
  },
  {
   "cell_type": "code",
   "execution_count": null,
   "metadata": {},
   "outputs": [],
   "source": [
    "planilhas = []\n",
    "for planilha,df in df_resultados_12.items():\n",
    "    planilhas.append(planilha)\n",
    "    print(planilha)"
   ]
  },
  {
   "cell_type": "code",
   "execution_count": null,
   "metadata": {},
   "outputs": [],
   "source": [
    "df1_12 = df_resultados_12['Relatório 1']\n",
    "df1_12.head()"
   ]
  },
  {
   "cell_type": "code",
   "execution_count": null,
   "metadata": {},
   "outputs": [],
   "source": [
    "df1_12.drop(df1_12.columns[0], axis=1, inplace=True)\n",
    "# Pega a primeira linha e coloca ela como as colunas do DataFrame\n",
    "colunas = df1_12.iloc[0]\n",
    "# Pega todos os dados sem a primeira linha\n",
    "df1_12 = df1_12[1:]\n",
    "#Atualiza as linhas\n",
    "df1_12.columns = colunas\n",
    "df1_12.head()"
   ]
  },
  {
   "cell_type": "code",
   "execution_count": null,
   "metadata": {},
   "outputs": [],
   "source": [
    "lista = ['Relatório 1(1)',\n",
    "'Relatório 1(2)',\n",
    "'Relatório 1(3)',\n",
    "'Relatório 1(4)',\n",
    "'Relatório 1(5)',\n",
    "'Relatório 1(6)',\n",
    "'Relatório 1(7)',\n",
    "'Relatório 1(8)']"
   ]
  },
  {
   "cell_type": "code",
   "execution_count": null,
   "metadata": {},
   "outputs": [],
   "source": [
    "dfs = {}\n",
    "for atual_df in lista:\n",
    "    dfs[atual_df] = None\n",
    "for atual_df in lista:\n",
    "    # Preparando os demais dataframes\n",
    "    dfs[atual_df] = df_resultados_12[atual_df]\n",
    "    # Remover a primeira coluna\n",
    "    dfs[atual_df].drop(dfs[atual_df].columns[0], axis=1, inplace=True)\n",
    "    # Pega a primeira linha e coloca ela como dados do DataFrame\n",
    "    linha_extra = dfs[atual_df].columns\n",
    "    # Pega todos os dados sem a primeira linha\n",
    "    dfs[atual_df].loc[-1] = linha_extra\n",
    "    # Ajusta os indices\n",
    "    dfs[atual_df].index = dfs[atual_df].index + 1\n",
    "    dfs[atual_df] = dfs[atual_df].sort_index()\n",
    "    #Atualiza as linhas\n",
    "    dfs[atual_df].columns = colunas"
   ]
  },
  {
   "cell_type": "code",
   "execution_count": null,
   "metadata": {},
   "outputs": [],
   "source": [
    "df_uniao_12 = df1_12\n",
    "for atual_df in lista:\n",
    "    df_uniao_12 = pd.concat([df_uniao_12, dfs[atual_df]], ignore_index=True)"
   ]
  },
  {
   "cell_type": "code",
   "execution_count": null,
   "metadata": {},
   "outputs": [],
   "source": [
    "# df_uniao_12.to_csv('../static/RESULTADOS_12_2023_01_2024_juntados.csv')"
   ]
  },
  {
   "cell_type": "code",
   "execution_count": null,
   "metadata": {},
   "outputs": [],
   "source": [
    "# df_resultados_02 = pd.read_csv('../static/RESULTADOS_02_03_2024_juntados.csv')\n",
    "# df_resultados_04 = pd.read_csv('../static/RESULTADOS_04_06_2024_juntados.csv')\n",
    "# df_resultados_06 = pd.read_csv('../static/RESULTADOS_06_2023_07_2023_juntados.csv')\n",
    "# df_resultados_08 = pd.read_csv('../static/RESULTADOS_08_2023_09_2023_juntados.csv')\n",
    "# df_resultados_10 = pd.read_csv('../static/RESULTADOS_10_2023_11_2023_juntados.csv')\n",
    "# df_resultados_12 = pd.read_csv('../static/RESULTADOS_12_2023_01_2024_juntados.csv')"
   ]
  },
  {
   "cell_type": "markdown",
   "metadata": {},
   "source": [
    "Junção de todos resultados em apenas um Dataframe"
   ]
  },
  {
   "cell_type": "code",
   "execution_count": null,
   "metadata": {},
   "outputs": [],
   "source": [
    "df_resultados = pd.concat([df_uniao_02, df_uniao_04, df_uniao_06, df_uniao_08, df_uniao_10, df_uniao_12], axis=0, ignore_index=True)\n",
    "\n",
    "df_resultados.to_csv(\"../static/RESULTADOS.csv\", index=False)\n",
    "\n",
    "df_resultados"
   ]
  },
  {
   "cell_type": "code",
   "execution_count": null,
   "metadata": {},
   "outputs": [],
   "source": [
    "df_resultados = pd.read_csv(\"../static/RESULTADOS.csv\")\n",
    "df_resultados.drop(df_resultados.columns[0], axis=1, inplace=True)\n",
    "df_resultados"
   ]
  },
  {
   "cell_type": "code",
   "execution_count": null,
   "metadata": {},
   "outputs": [],
   "source": [
    "df_resultados.info()"
   ]
  },
  {
   "cell_type": "code",
   "execution_count": null,
   "metadata": {},
   "outputs": [],
   "source": [
    "# agrupamento do df pelo KNR\n",
    "df_resultados.groupby('KNR').count()"
   ]
  },
  {
   "cell_type": "markdown",
   "metadata": {},
   "source": [
    "### Tratamento da tabela Falhas Predict"
   ]
  },
  {
   "cell_type": "markdown",
   "metadata": {},
   "source": [
    "##### Leitura do arquivo"
   ]
  },
  {
   "cell_type": "code",
   "execution_count": null,
   "metadata": {},
   "outputs": [],
   "source": [
    "df_falhas_predict = pd.read_excel('FALHAS_PREDICT.xlsx')"
   ]
  },
  {
   "cell_type": "code",
   "execution_count": null,
   "metadata": {},
   "outputs": [
    {
     "data": {
      "text/html": [
       "<div>\n",
       "<style scoped>\n",
       "    .dataframe tbody tr th:only-of-type {\n",
       "        vertical-align: middle;\n",
       "    }\n",
       "\n",
       "    .dataframe tbody tr th {\n",
       "        vertical-align: top;\n",
       "    }\n",
       "\n",
       "    .dataframe thead th {\n",
       "        text-align: right;\n",
       "    }\n",
       "</style>\n",
       "<table border=\"1\" class=\"dataframe\">\n",
       "  <thead>\n",
       "    <tr style=\"text-align: right;\">\n",
       "      <th></th>\n",
       "      <th>Unnamed: 0</th>\n",
       "      <th>Unnamed: 1</th>\n",
       "      <th>Unnamed: 2</th>\n",
       "      <th>Unnamed: 3</th>\n",
       "      <th>Unnamed: 4</th>\n",
       "      <th>Unnamed: 5</th>\n",
       "      <th>Unnamed: 6</th>\n",
       "      <th>Unnamed: 7</th>\n",
       "      <th>Unnamed: 8</th>\n",
       "      <th>Unnamed: 9</th>\n",
       "    </tr>\n",
       "  </thead>\n",
       "  <tbody>\n",
       "    <tr>\n",
       "      <th>0</th>\n",
       "      <td>NaN</td>\n",
       "      <td>82662</td>\n",
       "      <td>NaN</td>\n",
       "      <td>NaN</td>\n",
       "      <td>NaN</td>\n",
       "      <td>NaN</td>\n",
       "      <td>NaN</td>\n",
       "      <td>NaN</td>\n",
       "      <td>NaN</td>\n",
       "      <td>NaN</td>\n",
       "    </tr>\n",
       "    <tr>\n",
       "      <th>1</th>\n",
       "      <td>NaN</td>\n",
       "      <td>KNR</td>\n",
       "      <td>MODELO</td>\n",
       "      <td>COR</td>\n",
       "      <td>MOTOR</td>\n",
       "      <td>ESTACAO</td>\n",
       "      <td>USUARIO</td>\n",
       "      <td>HALLE</td>\n",
       "      <td>FALHA</td>\n",
       "      <td>DATA</td>\n",
       "    </tr>\n",
       "    <tr>\n",
       "      <th>2</th>\n",
       "      <td>NaN</td>\n",
       "      <td>2023-1326197</td>\n",
       "      <td>T-CROSS</td>\n",
       "      <td>0Q0Q</td>\n",
       "      <td>DHS</td>\n",
       "      <td>PCEQS100</td>\n",
       "      <td>2043521</td>\n",
       "      <td>ZP5</td>\n",
       "      <td>Porta dianteira Folga (Ajuste)</td>\n",
       "      <td>2023-01-09 22:24:44.272000</td>\n",
       "    </tr>\n",
       "    <tr>\n",
       "      <th>3</th>\n",
       "      <td>NaN</td>\n",
       "      <td>2023-1326197</td>\n",
       "      <td>T-CROSS</td>\n",
       "      <td>0Q0Q</td>\n",
       "      <td>DHS</td>\n",
       "      <td>PCEQS100</td>\n",
       "      <td>2043521</td>\n",
       "      <td>ZP5</td>\n",
       "      <td>Porta traseira Folga (Ajuste)</td>\n",
       "      <td>2023-01-09 22:25:02.960000</td>\n",
       "    </tr>\n",
       "    <tr>\n",
       "      <th>4</th>\n",
       "      <td>NaN</td>\n",
       "      <td>2023-4130482</td>\n",
       "      <td>AUDI Q3</td>\n",
       "      <td>2Y2Y</td>\n",
       "      <td>DSN</td>\n",
       "      <td>PCEQS999</td>\n",
       "      <td>2054701</td>\n",
       "      <td>ESPC</td>\n",
       "      <td>Lanterna tras (09) Interfere</td>\n",
       "      <td>2023-01-10 09:18:25.238000</td>\n",
       "    </tr>\n",
       "  </tbody>\n",
       "</table>\n",
       "</div>"
      ],
      "text/plain": [
       "   Unnamed: 0    Unnamed: 1 Unnamed: 2 Unnamed: 3 Unnamed: 4 Unnamed: 5  \\\n",
       "0         NaN         82662        NaN        NaN        NaN        NaN   \n",
       "1         NaN           KNR     MODELO        COR      MOTOR    ESTACAO   \n",
       "2         NaN  2023-1326197    T-CROSS       0Q0Q        DHS   PCEQS100   \n",
       "3         NaN  2023-1326197    T-CROSS       0Q0Q        DHS   PCEQS100   \n",
       "4         NaN  2023-4130482    AUDI Q3       2Y2Y        DSN   PCEQS999   \n",
       "\n",
       "  Unnamed: 6 Unnamed: 7                      Unnamed: 8  \\\n",
       "0        NaN        NaN                             NaN   \n",
       "1    USUARIO      HALLE                           FALHA   \n",
       "2    2043521        ZP5  Porta dianteira Folga (Ajuste)   \n",
       "3    2043521        ZP5   Porta traseira Folga (Ajuste)   \n",
       "4    2054701       ESPC    Lanterna tras (09) Interfere   \n",
       "\n",
       "                   Unnamed: 9  \n",
       "0                         NaN  \n",
       "1                        DATA  \n",
       "2  2023-01-09 22:24:44.272000  \n",
       "3  2023-01-09 22:25:02.960000  \n",
       "4  2023-01-10 09:18:25.238000  "
      ]
     },
     "execution_count": 9,
     "metadata": {},
     "output_type": "execute_result"
    }
   ],
   "source": [
    "df_falhas_predict.head()"
   ]
  },
  {
   "cell_type": "markdown",
   "metadata": {},
   "source": [
    "##### Tratamento do arquivo\n",
    "\n",
    "Por conta das colunas não estarem definidas, e o nome das colunas estar constanto como linha, temos que reposiciona-las como colunas para um melhor manuseio dos dados."
   ]
  },
  {
   "cell_type": "code",
   "execution_count": null,
   "metadata": {},
   "outputs": [],
   "source": [
    "# Remoção da primeira linha\n",
    "df_falhas_predict.drop(0, inplace=True) \n",
    "df_falhas_predict.drop(df_falhas_predict.columns[0], axis=1, inplace=True)\n",
    "\n",
    "colunas = df_falhas_predict.iloc[0]\n",
    "df_falhas_predict = df_falhas_predict[1:]\n",
    "df_falhas_predict.columns = colunas"
   ]
  },
  {
   "cell_type": "code",
   "execution_count": null,
   "metadata": {},
   "outputs": [
    {
     "data": {
      "text/html": [
       "<div>\n",
       "<style scoped>\n",
       "    .dataframe tbody tr th:only-of-type {\n",
       "        vertical-align: middle;\n",
       "    }\n",
       "\n",
       "    .dataframe tbody tr th {\n",
       "        vertical-align: top;\n",
       "    }\n",
       "\n",
       "    .dataframe thead th {\n",
       "        text-align: right;\n",
       "    }\n",
       "</style>\n",
       "<table border=\"1\" class=\"dataframe\">\n",
       "  <thead>\n",
       "    <tr style=\"text-align: right;\">\n",
       "      <th>1</th>\n",
       "      <th>KNR</th>\n",
       "      <th>MODELO</th>\n",
       "      <th>COR</th>\n",
       "      <th>MOTOR</th>\n",
       "      <th>ESTACAO</th>\n",
       "      <th>USUARIO</th>\n",
       "      <th>HALLE</th>\n",
       "      <th>FALHA</th>\n",
       "      <th>DATA</th>\n",
       "    </tr>\n",
       "  </thead>\n",
       "  <tbody>\n",
       "    <tr>\n",
       "      <th>2</th>\n",
       "      <td>2023-1326197</td>\n",
       "      <td>T-CROSS</td>\n",
       "      <td>0Q0Q</td>\n",
       "      <td>DHS</td>\n",
       "      <td>PCEQS100</td>\n",
       "      <td>2043521</td>\n",
       "      <td>ZP5</td>\n",
       "      <td>Porta dianteira Folga (Ajuste)</td>\n",
       "      <td>2023-01-09 22:24:44.272000</td>\n",
       "    </tr>\n",
       "    <tr>\n",
       "      <th>3</th>\n",
       "      <td>2023-1326197</td>\n",
       "      <td>T-CROSS</td>\n",
       "      <td>0Q0Q</td>\n",
       "      <td>DHS</td>\n",
       "      <td>PCEQS100</td>\n",
       "      <td>2043521</td>\n",
       "      <td>ZP5</td>\n",
       "      <td>Porta traseira Folga (Ajuste)</td>\n",
       "      <td>2023-01-09 22:25:02.960000</td>\n",
       "    </tr>\n",
       "    <tr>\n",
       "      <th>4</th>\n",
       "      <td>2023-4130482</td>\n",
       "      <td>AUDI Q3</td>\n",
       "      <td>2Y2Y</td>\n",
       "      <td>DSN</td>\n",
       "      <td>PCEQS999</td>\n",
       "      <td>2054701</td>\n",
       "      <td>ESPC</td>\n",
       "      <td>Lanterna tras (09) Interfere</td>\n",
       "      <td>2023-01-10 09:18:25.238000</td>\n",
       "    </tr>\n",
       "    <tr>\n",
       "      <th>5</th>\n",
       "      <td>2023-4130482</td>\n",
       "      <td>AUDI Q3</td>\n",
       "      <td>2Y2Y</td>\n",
       "      <td>DSN</td>\n",
       "      <td>PCEQS999</td>\n",
       "      <td>2054701</td>\n",
       "      <td>ESPC</td>\n",
       "      <td>Emblema / logo - Adesivos em geral Solto(a) ¨</td>\n",
       "      <td>2023-01-10 09:18:40.728000</td>\n",
       "    </tr>\n",
       "    <tr>\n",
       "      <th>6</th>\n",
       "      <td>2023-4130664</td>\n",
       "      <td>AUDI Q3</td>\n",
       "      <td>6Y6Y</td>\n",
       "      <td>DSN</td>\n",
       "      <td>PCEQS805</td>\n",
       "      <td>7000240</td>\n",
       "      <td>ZP82</td>\n",
       "      <td>Painel instrumentos Ruído (-)</td>\n",
       "      <td>2023-01-10 11:17:56.489000</td>\n",
       "    </tr>\n",
       "  </tbody>\n",
       "</table>\n",
       "</div>"
      ],
      "text/plain": [
       "1           KNR   MODELO   COR MOTOR   ESTACAO  USUARIO HALLE  \\\n",
       "2  2023-1326197  T-CROSS  0Q0Q   DHS  PCEQS100  2043521   ZP5   \n",
       "3  2023-1326197  T-CROSS  0Q0Q   DHS  PCEQS100  2043521   ZP5   \n",
       "4  2023-4130482  AUDI Q3  2Y2Y   DSN  PCEQS999  2054701  ESPC   \n",
       "5  2023-4130482  AUDI Q3  2Y2Y   DSN  PCEQS999  2054701  ESPC   \n",
       "6  2023-4130664  AUDI Q3  6Y6Y   DSN  PCEQS805  7000240  ZP82   \n",
       "\n",
       "1                                          FALHA                        DATA  \n",
       "2                 Porta dianteira Folga (Ajuste)  2023-01-09 22:24:44.272000  \n",
       "3                  Porta traseira Folga (Ajuste)  2023-01-09 22:25:02.960000  \n",
       "4                   Lanterna tras (09) Interfere  2023-01-10 09:18:25.238000  \n",
       "5  Emblema / logo - Adesivos em geral Solto(a) ¨  2023-01-10 09:18:40.728000  \n",
       "6                  Painel instrumentos Ruído (-)  2023-01-10 11:17:56.489000  "
      ]
     },
     "execution_count": 11,
     "metadata": {},
     "output_type": "execute_result"
    }
   ],
   "source": [
    "df_falhas_predict.head()"
   ]
  },
  {
   "cell_type": "code",
   "execution_count": null,
   "metadata": {},
   "outputs": [],
   "source": [
    "# Salvando o arquivo tratado\n",
    "df_falhas_predict.to_csv('FALHAS_PREDICT_TRATADO.csv')"
   ]
  },
  {
   "cell_type": "markdown",
   "metadata": {},
   "source": [
    "### Tratamento da tabela Status Predictor"
   ]
  },
  {
   "cell_type": "markdown",
   "metadata": {},
   "source": [
    "Este arquivo está em formato excel e possui mais de uma página, sendo assim, se faz necessário tratar cada página e no final realizar a junção para um melhor manuseio dos dados desse arquivo."
   ]
  },
  {
   "cell_type": "code",
   "execution_count": null,
   "metadata": {},
   "outputs": [
    {
     "name": "stderr",
     "output_type": "stream",
     "text": [
      "/home/rafa/.local/lib/python3.10/site-packages/openpyxl/styles/stylesheet.py:237: UserWarning: Workbook contains no default style, apply openpyxl's default\n",
      "  warn(\"Workbook contains no default style, apply openpyxl's default\")\n"
     ]
    }
   ],
   "source": [
    "df_status_predictor = pd.read_excel('STATUS_PREDICTOR_ANO.xlsx', sheet_name=None)"
   ]
  },
  {
   "cell_type": "code",
   "execution_count": null,
   "metadata": {},
   "outputs": [
    {
     "name": "stdout",
     "output_type": "stream",
     "text": [
      "Relatório 1\n",
      "Relatório 1(1)\n",
      "Relatório 1(2)\n",
      "Relatório 1(3)\n",
      "Relatório 1(4)\n"
     ]
    }
   ],
   "source": [
    "# visualizar todas as páginas da planilha\n",
    "planilhas = []\n",
    "for planilha,df in df_status_predictor.items():\n",
    "    planilhas.append(planilha)\n",
    "    print(planilha)"
   ]
  },
  {
   "cell_type": "code",
   "execution_count": null,
   "metadata": {},
   "outputs": [
    {
     "data": {
      "text/html": [
       "<div>\n",
       "<style scoped>\n",
       "    .dataframe tbody tr th:only-of-type {\n",
       "        vertical-align: middle;\n",
       "    }\n",
       "\n",
       "    .dataframe tbody tr th {\n",
       "        vertical-align: top;\n",
       "    }\n",
       "\n",
       "    .dataframe thead th {\n",
       "        text-align: right;\n",
       "    }\n",
       "</style>\n",
       "<table border=\"1\" class=\"dataframe\">\n",
       "  <thead>\n",
       "    <tr style=\"text-align: right;\">\n",
       "      <th></th>\n",
       "      <th>Unnamed: 0</th>\n",
       "      <th>Unnamed: 1</th>\n",
       "      <th>Unnamed: 2</th>\n",
       "      <th>Unnamed: 3</th>\n",
       "    </tr>\n",
       "  </thead>\n",
       "  <tbody>\n",
       "    <tr>\n",
       "      <th>0</th>\n",
       "      <td>NaN</td>\n",
       "      <td>KNR</td>\n",
       "      <td>STATUS</td>\n",
       "      <td>DATA</td>\n",
       "    </tr>\n",
       "    <tr>\n",
       "      <th>1</th>\n",
       "      <td>NaN</td>\n",
       "      <td>2023-2016173</td>\n",
       "      <td>G620</td>\n",
       "      <td>2023-06-06 07:50:27</td>\n",
       "    </tr>\n",
       "    <tr>\n",
       "      <th>2</th>\n",
       "      <td>NaN</td>\n",
       "      <td>2023-2016173</td>\n",
       "      <td>M620</td>\n",
       "      <td>2023-06-06 07:50:27</td>\n",
       "    </tr>\n",
       "    <tr>\n",
       "      <th>3</th>\n",
       "      <td>NaN</td>\n",
       "      <td>2023-2026032</td>\n",
       "      <td>G620</td>\n",
       "      <td>2023-06-20 17:35:51</td>\n",
       "    </tr>\n",
       "    <tr>\n",
       "      <th>4</th>\n",
       "      <td>NaN</td>\n",
       "      <td>2023-2026032</td>\n",
       "      <td>M620</td>\n",
       "      <td>2023-06-20 17:35:51</td>\n",
       "    </tr>\n",
       "  </tbody>\n",
       "</table>\n",
       "</div>"
      ],
      "text/plain": [
       "   Unnamed: 0    Unnamed: 1 Unnamed: 2           Unnamed: 3\n",
       "0         NaN           KNR     STATUS                 DATA\n",
       "1         NaN  2023-2016173       G620  2023-06-06 07:50:27\n",
       "2         NaN  2023-2016173       M620  2023-06-06 07:50:27\n",
       "3         NaN  2023-2026032       G620  2023-06-20 17:35:51\n",
       "4         NaN  2023-2026032       M620  2023-06-20 17:35:51"
      ]
     },
     "execution_count": 15,
     "metadata": {},
     "output_type": "execute_result"
    }
   ],
   "source": [
    "df1 = df_status_predictor['Relatório 1']\n",
    "df1.head()"
   ]
  },
  {
   "cell_type": "code",
   "execution_count": null,
   "metadata": {},
   "outputs": [
    {
     "data": {
      "text/html": [
       "<div>\n",
       "<style scoped>\n",
       "    .dataframe tbody tr th:only-of-type {\n",
       "        vertical-align: middle;\n",
       "    }\n",
       "\n",
       "    .dataframe tbody tr th {\n",
       "        vertical-align: top;\n",
       "    }\n",
       "\n",
       "    .dataframe thead th {\n",
       "        text-align: right;\n",
       "    }\n",
       "</style>\n",
       "<table border=\"1\" class=\"dataframe\">\n",
       "  <thead>\n",
       "    <tr style=\"text-align: right;\">\n",
       "      <th></th>\n",
       "      <th>KNR</th>\n",
       "      <th>STATUS</th>\n",
       "      <th>DATA</th>\n",
       "    </tr>\n",
       "  </thead>\n",
       "  <tbody>\n",
       "    <tr>\n",
       "      <th>1</th>\n",
       "      <td>2023-2016173</td>\n",
       "      <td>G620</td>\n",
       "      <td>2023-06-06 07:50:27</td>\n",
       "    </tr>\n",
       "    <tr>\n",
       "      <th>2</th>\n",
       "      <td>2023-2016173</td>\n",
       "      <td>M620</td>\n",
       "      <td>2023-06-06 07:50:27</td>\n",
       "    </tr>\n",
       "    <tr>\n",
       "      <th>3</th>\n",
       "      <td>2023-2026032</td>\n",
       "      <td>G620</td>\n",
       "      <td>2023-06-20 17:35:51</td>\n",
       "    </tr>\n",
       "    <tr>\n",
       "      <th>4</th>\n",
       "      <td>2023-2026032</td>\n",
       "      <td>M620</td>\n",
       "      <td>2023-06-20 17:35:51</td>\n",
       "    </tr>\n",
       "    <tr>\n",
       "      <th>5</th>\n",
       "      <td>2023-2026085</td>\n",
       "      <td>G620</td>\n",
       "      <td>2023-06-22 20:22:36</td>\n",
       "    </tr>\n",
       "  </tbody>\n",
       "</table>\n",
       "</div>"
      ],
      "text/plain": [
       "0           KNR STATUS                 DATA\n",
       "1  2023-2016173   G620  2023-06-06 07:50:27\n",
       "2  2023-2016173   M620  2023-06-06 07:50:27\n",
       "3  2023-2026032   G620  2023-06-20 17:35:51\n",
       "4  2023-2026032   M620  2023-06-20 17:35:51\n",
       "5  2023-2026085   G620  2023-06-22 20:22:36"
      ]
     },
     "execution_count": 16,
     "metadata": {},
     "output_type": "execute_result"
    }
   ],
   "source": [
    "# remove a primeira coluna\n",
    "df1.drop(df1.columns[0], axis=1, inplace=True)\n",
    "colunas = df1.iloc[0]\n",
    "\n",
    "# remove a primeira linha\n",
    "df1 = df1[1:]\n",
    "df1.columns = colunas\n",
    "\n",
    "df1.head()"
   ]
  },
  {
   "cell_type": "markdown",
   "metadata": {},
   "source": [
    "Tratamento da segunda página"
   ]
  },
  {
   "cell_type": "code",
   "execution_count": null,
   "metadata": {},
   "outputs": [
    {
     "data": {
      "text/html": [
       "<div>\n",
       "<style scoped>\n",
       "    .dataframe tbody tr th:only-of-type {\n",
       "        vertical-align: middle;\n",
       "    }\n",
       "\n",
       "    .dataframe tbody tr th {\n",
       "        vertical-align: top;\n",
       "    }\n",
       "\n",
       "    .dataframe thead th {\n",
       "        text-align: right;\n",
       "    }\n",
       "</style>\n",
       "<table border=\"1\" class=\"dataframe\">\n",
       "  <thead>\n",
       "    <tr style=\"text-align: right;\">\n",
       "      <th></th>\n",
       "      <th>KNR</th>\n",
       "      <th>STATUS</th>\n",
       "      <th>DATA</th>\n",
       "    </tr>\n",
       "  </thead>\n",
       "  <tbody>\n",
       "    <tr>\n",
       "      <th>0</th>\n",
       "      <td>2023-4026002</td>\n",
       "      <td>R600</td>\n",
       "      <td>2023-09-29 07:14:44</td>\n",
       "    </tr>\n",
       "    <tr>\n",
       "      <th>1</th>\n",
       "      <td>2023-4026002</td>\n",
       "      <td>R700</td>\n",
       "      <td>2023-09-29 07:38:47</td>\n",
       "    </tr>\n",
       "    <tr>\n",
       "      <th>2</th>\n",
       "      <td>2023-4026002</td>\n",
       "      <td>R725</td>\n",
       "      <td>2023-09-29 07:53:00</td>\n",
       "    </tr>\n",
       "    <tr>\n",
       "      <th>3</th>\n",
       "      <td>2023-4026002</td>\n",
       "      <td>R750</td>\n",
       "      <td>2023-09-29 08:16:23</td>\n",
       "    </tr>\n",
       "    <tr>\n",
       "      <th>4</th>\n",
       "      <td>2023-4026002</td>\n",
       "      <td>R755</td>\n",
       "      <td>2023-09-29 08:17:01</td>\n",
       "    </tr>\n",
       "  </tbody>\n",
       "</table>\n",
       "</div>"
      ],
      "text/plain": [
       "0           KNR STATUS                DATA\n",
       "0  2023-4026002   R600 2023-09-29 07:14:44\n",
       "1  2023-4026002   R700 2023-09-29 07:38:47\n",
       "2  2023-4026002   R725 2023-09-29 07:53:00\n",
       "3  2023-4026002   R750 2023-09-29 08:16:23\n",
       "4  2023-4026002   R755 2023-09-29 08:17:01"
      ]
     },
     "execution_count": 17,
     "metadata": {},
     "output_type": "execute_result"
    }
   ],
   "source": [
    "df2 = df_status_predictor['Relatório 1(1)']\n",
    "\n",
    "df2.drop(df2.columns[0], axis=1, inplace=True)\n",
    "linha_extra = df2.columns\n",
    "df2.loc[-1] = linha_extra\n",
    "df2.index = df2.index + 1\n",
    "df2 = df2.sort_index()\n",
    "df2.columns = colunas\n",
    "\n",
    "df2.head()"
   ]
  },
  {
   "cell_type": "markdown",
   "metadata": {},
   "source": [
    "Tratamento da terceira página"
   ]
  },
  {
   "cell_type": "code",
   "execution_count": null,
   "metadata": {},
   "outputs": [
    {
     "data": {
      "text/html": [
       "<div>\n",
       "<style scoped>\n",
       "    .dataframe tbody tr th:only-of-type {\n",
       "        vertical-align: middle;\n",
       "    }\n",
       "\n",
       "    .dataframe tbody tr th {\n",
       "        vertical-align: top;\n",
       "    }\n",
       "\n",
       "    .dataframe thead th {\n",
       "        text-align: right;\n",
       "    }\n",
       "</style>\n",
       "<table border=\"1\" class=\"dataframe\">\n",
       "  <thead>\n",
       "    <tr style=\"text-align: right;\">\n",
       "      <th></th>\n",
       "      <th>KNR</th>\n",
       "      <th>STATUS</th>\n",
       "      <th>DATA</th>\n",
       "    </tr>\n",
       "  </thead>\n",
       "  <tbody>\n",
       "    <tr>\n",
       "      <th>0</th>\n",
       "      <td>2024-0346154</td>\n",
       "      <td>A600</td>\n",
       "      <td>2024-01-15 11:11:44</td>\n",
       "    </tr>\n",
       "    <tr>\n",
       "      <th>1</th>\n",
       "      <td>2024-0346154</td>\n",
       "      <td>R100</td>\n",
       "      <td>2024-01-15 11:11:45</td>\n",
       "    </tr>\n",
       "    <tr>\n",
       "      <th>2</th>\n",
       "      <td>2024-0346154</td>\n",
       "      <td>R120</td>\n",
       "      <td>2024-01-15 14:08:31</td>\n",
       "    </tr>\n",
       "    <tr>\n",
       "      <th>3</th>\n",
       "      <td>2024-0346154</td>\n",
       "      <td>R480</td>\n",
       "      <td>2024-01-15 16:47:47</td>\n",
       "    </tr>\n",
       "    <tr>\n",
       "      <th>4</th>\n",
       "      <td>2024-0346154</td>\n",
       "      <td>R600</td>\n",
       "      <td>2024-01-15 17:10:14</td>\n",
       "    </tr>\n",
       "  </tbody>\n",
       "</table>\n",
       "</div>"
      ],
      "text/plain": [
       "0           KNR STATUS                DATA\n",
       "0  2024-0346154   A600 2024-01-15 11:11:44\n",
       "1  2024-0346154   R100 2024-01-15 11:11:45\n",
       "2  2024-0346154   R120 2024-01-15 14:08:31\n",
       "3  2024-0346154   R480 2024-01-15 16:47:47\n",
       "4  2024-0346154   R600 2024-01-15 17:10:14"
      ]
     },
     "execution_count": 18,
     "metadata": {},
     "output_type": "execute_result"
    }
   ],
   "source": [
    "df3 = df_status_predictor['Relatório 1(2)']\n",
    "\n",
    "df3.drop(df3.columns[0], axis=1, inplace=True)\n",
    "linha_extra = df3.columns\n",
    "df3.loc[-1] = linha_extra\n",
    "df3.index = df3.index + 1\n",
    "df3 = df3.sort_index()\n",
    "df3.columns = colunas\n",
    "\n",
    "df3.head()"
   ]
  },
  {
   "cell_type": "markdown",
   "metadata": {},
   "source": [
    "Tratamento da quarta página"
   ]
  },
  {
   "cell_type": "code",
   "execution_count": null,
   "metadata": {},
   "outputs": [
    {
     "data": {
      "text/html": [
       "<div>\n",
       "<style scoped>\n",
       "    .dataframe tbody tr th:only-of-type {\n",
       "        vertical-align: middle;\n",
       "    }\n",
       "\n",
       "    .dataframe tbody tr th {\n",
       "        vertical-align: top;\n",
       "    }\n",
       "\n",
       "    .dataframe thead th {\n",
       "        text-align: right;\n",
       "    }\n",
       "</style>\n",
       "<table border=\"1\" class=\"dataframe\">\n",
       "  <thead>\n",
       "    <tr style=\"text-align: right;\">\n",
       "      <th></th>\n",
       "      <th>KNR</th>\n",
       "      <th>STATUS</th>\n",
       "      <th>DATA</th>\n",
       "    </tr>\n",
       "  </thead>\n",
       "  <tbody>\n",
       "    <tr>\n",
       "      <th>0</th>\n",
       "      <td>2024-1556203</td>\n",
       "      <td>R800</td>\n",
       "      <td>2024-04-10 19:03:20</td>\n",
       "    </tr>\n",
       "    <tr>\n",
       "      <th>1</th>\n",
       "      <td>2024-1556203</td>\n",
       "      <td>L100</td>\n",
       "      <td>2024-04-10 19:22:19</td>\n",
       "    </tr>\n",
       "    <tr>\n",
       "      <th>2</th>\n",
       "      <td>2024-1556203</td>\n",
       "      <td>L150</td>\n",
       "      <td>2024-04-11 06:57:33</td>\n",
       "    </tr>\n",
       "    <tr>\n",
       "      <th>3</th>\n",
       "      <td>2024-1556203</td>\n",
       "      <td>L151</td>\n",
       "      <td>2024-04-11 07:24:16</td>\n",
       "    </tr>\n",
       "    <tr>\n",
       "      <th>4</th>\n",
       "      <td>2024-1556203</td>\n",
       "      <td>L161</td>\n",
       "      <td>2024-04-11 08:18:50</td>\n",
       "    </tr>\n",
       "  </tbody>\n",
       "</table>\n",
       "</div>"
      ],
      "text/plain": [
       "0           KNR STATUS                DATA\n",
       "0  2024-1556203   R800 2024-04-10 19:03:20\n",
       "1  2024-1556203   L100 2024-04-10 19:22:19\n",
       "2  2024-1556203   L150 2024-04-11 06:57:33\n",
       "3  2024-1556203   L151 2024-04-11 07:24:16\n",
       "4  2024-1556203   L161 2024-04-11 08:18:50"
      ]
     },
     "execution_count": 19,
     "metadata": {},
     "output_type": "execute_result"
    }
   ],
   "source": [
    "df4 = df_status_predictor['Relatório 1(3)']\n",
    "\n",
    "df4.drop(df4.columns[0], axis=1, inplace=True)\n",
    "linha_extra = df4.columns\n",
    "df4.loc[-1] = linha_extra\n",
    "df4.index = df4.index + 1\n",
    "df4 = df4.sort_index()\n",
    "df4.columns = colunas\n",
    "\n",
    "df4.head()"
   ]
  },
  {
   "cell_type": "markdown",
   "metadata": {},
   "source": [
    "Tratamento da quinta página"
   ]
  },
  {
   "cell_type": "code",
   "execution_count": null,
   "metadata": {},
   "outputs": [
    {
     "data": {
      "text/html": [
       "<div>\n",
       "<style scoped>\n",
       "    .dataframe tbody tr th:only-of-type {\n",
       "        vertical-align: middle;\n",
       "    }\n",
       "\n",
       "    .dataframe tbody tr th {\n",
       "        vertical-align: top;\n",
       "    }\n",
       "\n",
       "    .dataframe thead th {\n",
       "        text-align: right;\n",
       "    }\n",
       "</style>\n",
       "<table border=\"1\" class=\"dataframe\">\n",
       "  <thead>\n",
       "    <tr style=\"text-align: right;\">\n",
       "      <th></th>\n",
       "      <th>KNR</th>\n",
       "      <th>STATUS</th>\n",
       "      <th>DATA</th>\n",
       "    </tr>\n",
       "  </thead>\n",
       "  <tbody>\n",
       "    <tr>\n",
       "      <th>0</th>\n",
       "      <td>2024-2536233</td>\n",
       "      <td>G710</td>\n",
       "      <td>2024-06-14 17:36:53</td>\n",
       "    </tr>\n",
       "    <tr>\n",
       "      <th>1</th>\n",
       "      <td>2024-2536233</td>\n",
       "      <td>G720</td>\n",
       "      <td>2024-06-14 17:52:45</td>\n",
       "    </tr>\n",
       "    <tr>\n",
       "      <th>2</th>\n",
       "      <td>2024-2536233</td>\n",
       "      <td>G800</td>\n",
       "      <td>2024-06-14 18:07:32</td>\n",
       "    </tr>\n",
       "    <tr>\n",
       "      <th>3</th>\n",
       "      <td>2024-2536234</td>\n",
       "      <td>A600</td>\n",
       "      <td>2024-06-11 21:02:08</td>\n",
       "    </tr>\n",
       "    <tr>\n",
       "      <th>4</th>\n",
       "      <td>2024-2536234</td>\n",
       "      <td>R100</td>\n",
       "      <td>2024-06-11 21:02:09</td>\n",
       "    </tr>\n",
       "  </tbody>\n",
       "</table>\n",
       "</div>"
      ],
      "text/plain": [
       "0           KNR STATUS                DATA\n",
       "0  2024-2536233   G710 2024-06-14 17:36:53\n",
       "1  2024-2536233   G720 2024-06-14 17:52:45\n",
       "2  2024-2536233   G800 2024-06-14 18:07:32\n",
       "3  2024-2536234   A600 2024-06-11 21:02:08\n",
       "4  2024-2536234   R100 2024-06-11 21:02:09"
      ]
     },
     "execution_count": 20,
     "metadata": {},
     "output_type": "execute_result"
    }
   ],
   "source": [
    "df5 = df_status_predictor['Relatório 1(4)']\n",
    "\n",
    "df5.drop(df5.columns[0], axis=1, inplace=True)\n",
    "linha_extra = df5.columns\n",
    "df5.loc[-1] = linha_extra\n",
    "df5.index = df5.index + 1\n",
    "df5 = df5.sort_index()\n",
    "df5.columns = colunas\n",
    "\n",
    "df5.head()"
   ]
  },
  {
   "cell_type": "code",
   "execution_count": null,
   "metadata": {},
   "outputs": [
    {
     "data": {
      "text/plain": [
       "(4347980, 3)"
      ]
     },
     "execution_count": 21,
     "metadata": {},
     "output_type": "execute_result"
    }
   ],
   "source": [
    "# junção de todas as páginas em um único Dataframe\n",
    "df_status_predict_tratado = pd.concat([df1, df2, df3, df4, df5], ignore_index=True)\n",
    "df_status_predict_tratado.shape"
   ]
  },
  {
   "cell_type": "code",
   "execution_count": null,
   "metadata": {},
   "outputs": [],
   "source": [
    "# salva os dados tratados em um csv\n",
    "df_status_predict_tratado.to_csv('STATUS_PREDICT_TRATADO.csv')"
   ]
  },
  {
   "cell_type": "markdown",
   "metadata": {},
   "source": [
    "### Falhas"
   ]
  },
  {
   "cell_type": "code",
   "execution_count": null,
   "metadata": {},
   "outputs": [
    {
     "name": "stderr",
     "output_type": "stream",
     "text": [
      "/home/rafa/.local/lib/python3.10/site-packages/openpyxl/styles/stylesheet.py:237: UserWarning: Workbook contains no default style, apply openpyxl's default\n",
      "  warn(\"Workbook contains no default style, apply openpyxl's default\")\n"
     ]
    }
   ],
   "source": [
    "df_falhas = pd.read_excel('FALHAS_04_05_06_2024.xlsx')"
   ]
  },
  {
   "cell_type": "code",
   "execution_count": null,
   "metadata": {},
   "outputs": [
    {
     "data": {
      "text/html": [
       "<div>\n",
       "<style scoped>\n",
       "    .dataframe tbody tr th:only-of-type {\n",
       "        vertical-align: middle;\n",
       "    }\n",
       "\n",
       "    .dataframe tbody tr th {\n",
       "        vertical-align: top;\n",
       "    }\n",
       "\n",
       "    .dataframe thead th {\n",
       "        text-align: right;\n",
       "    }\n",
       "</style>\n",
       "<table border=\"1\" class=\"dataframe\">\n",
       "  <thead>\n",
       "    <tr style=\"text-align: right;\">\n",
       "      <th></th>\n",
       "      <th>Unnamed: 0</th>\n",
       "      <th>Unnamed: 1</th>\n",
       "      <th>Unnamed: 2</th>\n",
       "      <th>Unnamed: 3</th>\n",
       "      <th>Unnamed: 4</th>\n",
       "      <th>Unnamed: 5</th>\n",
       "      <th>Unnamed: 6</th>\n",
       "      <th>Unnamed: 7</th>\n",
       "      <th>Unnamed: 8</th>\n",
       "      <th>Unnamed: 9</th>\n",
       "    </tr>\n",
       "  </thead>\n",
       "  <tbody>\n",
       "    <tr>\n",
       "      <th>0</th>\n",
       "      <td>NaN</td>\n",
       "      <td>KNR</td>\n",
       "      <td>MODELO</td>\n",
       "      <td>COR</td>\n",
       "      <td>MOTOR</td>\n",
       "      <td>ESTACAO</td>\n",
       "      <td>USUARIO</td>\n",
       "      <td>HALLE</td>\n",
       "      <td>FALHA</td>\n",
       "      <td>DATA</td>\n",
       "    </tr>\n",
       "    <tr>\n",
       "      <th>1</th>\n",
       "      <td>NaN</td>\n",
       "      <td>2023-2056234</td>\n",
       "      <td>T-CROSS</td>\n",
       "      <td>2R2R</td>\n",
       "      <td>DHS</td>\n",
       "      <td>HCEQS506</td>\n",
       "      <td>4013334</td>\n",
       "      <td>ZP7</td>\n",
       "      <td>PARALAMA DIANTEIRO 01. AMASSADO</td>\n",
       "      <td>2024-05-20 21:31:51.992000</td>\n",
       "    </tr>\n",
       "    <tr>\n",
       "      <th>2</th>\n",
       "      <td>NaN</td>\n",
       "      <td>2023-2056234</td>\n",
       "      <td>T-CROSS</td>\n",
       "      <td>2R2R</td>\n",
       "      <td>DHS</td>\n",
       "      <td>HCEQS506</td>\n",
       "      <td>4013334</td>\n",
       "      <td>ZP7</td>\n",
       "      <td>PORTA TRASEIRA 04. CAROÇO / PICO</td>\n",
       "      <td>2024-05-20 21:30:22.772000</td>\n",
       "    </tr>\n",
       "    <tr>\n",
       "      <th>3</th>\n",
       "      <td>NaN</td>\n",
       "      <td>2023-2056234</td>\n",
       "      <td>T-CROSS</td>\n",
       "      <td>2R2R</td>\n",
       "      <td>DHS</td>\n",
       "      <td>PCEQS620</td>\n",
       "      <td>2058570</td>\n",
       "      <td>ZP6</td>\n",
       "      <td>MÓDULO DO ACC (13) PEÇA INCORRETA ¨</td>\n",
       "      <td>2024-05-20 20:04:55.534000</td>\n",
       "    </tr>\n",
       "    <tr>\n",
       "      <th>4</th>\n",
       "      <td>NaN</td>\n",
       "      <td>2023-2056234</td>\n",
       "      <td>T-CROSS</td>\n",
       "      <td>2R2R</td>\n",
       "      <td>DHS</td>\n",
       "      <td>PCEQS999</td>\n",
       "      <td>2087715</td>\n",
       "      <td>ESPC</td>\n",
       "      <td>TAMPA TRASEIRA 05. SUJEIRA NA PINTURA</td>\n",
       "      <td>2024-04-11 12:15:39.616000</td>\n",
       "    </tr>\n",
       "  </tbody>\n",
       "</table>\n",
       "</div>"
      ],
      "text/plain": [
       "   Unnamed: 0    Unnamed: 1 Unnamed: 2 Unnamed: 3 Unnamed: 4 Unnamed: 5  \\\n",
       "0         NaN           KNR     MODELO        COR      MOTOR    ESTACAO   \n",
       "1         NaN  2023-2056234    T-CROSS       2R2R        DHS   HCEQS506   \n",
       "2         NaN  2023-2056234    T-CROSS       2R2R        DHS   HCEQS506   \n",
       "3         NaN  2023-2056234    T-CROSS       2R2R        DHS   PCEQS620   \n",
       "4         NaN  2023-2056234    T-CROSS       2R2R        DHS   PCEQS999   \n",
       "\n",
       "  Unnamed: 6 Unnamed: 7                             Unnamed: 8  \\\n",
       "0    USUARIO      HALLE                                  FALHA   \n",
       "1    4013334       ZP7         PARALAMA DIANTEIRO 01. AMASSADO   \n",
       "2    4013334       ZP7        PORTA TRASEIRA 04. CAROÇO / PICO   \n",
       "3    2058570       ZP6     MÓDULO DO ACC (13) PEÇA INCORRETA ¨   \n",
       "4    2087715       ESPC  TAMPA TRASEIRA 05. SUJEIRA NA PINTURA   \n",
       "\n",
       "                   Unnamed: 9  \n",
       "0                        DATA  \n",
       "1  2024-05-20 21:31:51.992000  \n",
       "2  2024-05-20 21:30:22.772000  \n",
       "3  2024-05-20 20:04:55.534000  \n",
       "4  2024-04-11 12:15:39.616000  "
      ]
     },
     "execution_count": 24,
     "metadata": {},
     "output_type": "execute_result"
    }
   ],
   "source": [
    "df_falhas.head()"
   ]
  },
  {
   "cell_type": "code",
   "execution_count": null,
   "metadata": {},
   "outputs": [
    {
     "data": {
      "text/plain": [
       "(328902, 10)"
      ]
     },
     "execution_count": 25,
     "metadata": {},
     "output_type": "execute_result"
    }
   ],
   "source": [
    "df_falhas.shape"
   ]
  },
  {
   "cell_type": "code",
   "execution_count": null,
   "metadata": {},
   "outputs": [],
   "source": [
    "df_falhas.drop(df_falhas.columns[0], axis=1, inplace=True)\n",
    "\n",
    "colunas = df_falhas.iloc[0]\n",
    "df_falhas = df_falhas[1:]\n",
    "df_falhas.columns = colunas"
   ]
  },
  {
   "cell_type": "code",
   "execution_count": null,
   "metadata": {},
   "outputs": [
    {
     "data": {
      "text/html": [
       "<div>\n",
       "<style scoped>\n",
       "    .dataframe tbody tr th:only-of-type {\n",
       "        vertical-align: middle;\n",
       "    }\n",
       "\n",
       "    .dataframe tbody tr th {\n",
       "        vertical-align: top;\n",
       "    }\n",
       "\n",
       "    .dataframe thead th {\n",
       "        text-align: right;\n",
       "    }\n",
       "</style>\n",
       "<table border=\"1\" class=\"dataframe\">\n",
       "  <thead>\n",
       "    <tr style=\"text-align: right;\">\n",
       "      <th></th>\n",
       "      <th>KNR</th>\n",
       "      <th>MODELO</th>\n",
       "      <th>COR</th>\n",
       "      <th>MOTOR</th>\n",
       "      <th>ESTACAO</th>\n",
       "      <th>USUARIO</th>\n",
       "      <th>HALLE</th>\n",
       "      <th>FALHA</th>\n",
       "      <th>DATA</th>\n",
       "    </tr>\n",
       "  </thead>\n",
       "  <tbody>\n",
       "    <tr>\n",
       "      <th>1</th>\n",
       "      <td>2023-2056234</td>\n",
       "      <td>T-CROSS</td>\n",
       "      <td>2R2R</td>\n",
       "      <td>DHS</td>\n",
       "      <td>HCEQS506</td>\n",
       "      <td>4013334</td>\n",
       "      <td>ZP7</td>\n",
       "      <td>PARALAMA DIANTEIRO 01. AMASSADO</td>\n",
       "      <td>2024-05-20 21:31:51.992000</td>\n",
       "    </tr>\n",
       "    <tr>\n",
       "      <th>2</th>\n",
       "      <td>2023-2056234</td>\n",
       "      <td>T-CROSS</td>\n",
       "      <td>2R2R</td>\n",
       "      <td>DHS</td>\n",
       "      <td>HCEQS506</td>\n",
       "      <td>4013334</td>\n",
       "      <td>ZP7</td>\n",
       "      <td>PORTA TRASEIRA 04. CAROÇO / PICO</td>\n",
       "      <td>2024-05-20 21:30:22.772000</td>\n",
       "    </tr>\n",
       "    <tr>\n",
       "      <th>3</th>\n",
       "      <td>2023-2056234</td>\n",
       "      <td>T-CROSS</td>\n",
       "      <td>2R2R</td>\n",
       "      <td>DHS</td>\n",
       "      <td>PCEQS620</td>\n",
       "      <td>2058570</td>\n",
       "      <td>ZP6</td>\n",
       "      <td>MÓDULO DO ACC (13) PEÇA INCORRETA ¨</td>\n",
       "      <td>2024-05-20 20:04:55.534000</td>\n",
       "    </tr>\n",
       "    <tr>\n",
       "      <th>4</th>\n",
       "      <td>2023-2056234</td>\n",
       "      <td>T-CROSS</td>\n",
       "      <td>2R2R</td>\n",
       "      <td>DHS</td>\n",
       "      <td>PCEQS999</td>\n",
       "      <td>2087715</td>\n",
       "      <td>ESPC</td>\n",
       "      <td>TAMPA TRASEIRA 05. SUJEIRA NA PINTURA</td>\n",
       "      <td>2024-04-11 12:15:39.616000</td>\n",
       "    </tr>\n",
       "    <tr>\n",
       "      <th>5</th>\n",
       "      <td>2023-3896001</td>\n",
       "      <td>T-CROSS</td>\n",
       "      <td>0Q0Q</td>\n",
       "      <td></td>\n",
       "      <td>HCEQS203</td>\n",
       "      <td>2043971</td>\n",
       "      <td>ZP5A</td>\n",
       "      <td>TAMPA DIANTEIRA 05. SUJEIRA NA PINTURA</td>\n",
       "      <td>2024-06-05 17:38:51.565000</td>\n",
       "    </tr>\n",
       "  </tbody>\n",
       "</table>\n",
       "</div>"
      ],
      "text/plain": [
       "0           KNR   MODELO   COR MOTOR   ESTACAO  USUARIO HALLE  \\\n",
       "1  2023-2056234  T-CROSS  2R2R   DHS  HCEQS506  4013334  ZP7    \n",
       "2  2023-2056234  T-CROSS  2R2R   DHS  HCEQS506  4013334  ZP7    \n",
       "3  2023-2056234  T-CROSS  2R2R   DHS  PCEQS620  2058570  ZP6    \n",
       "4  2023-2056234  T-CROSS  2R2R   DHS  PCEQS999  2087715  ESPC   \n",
       "5  2023-3896001  T-CROSS  0Q0Q        HCEQS203  2043971  ZP5A   \n",
       "\n",
       "0                                   FALHA                        DATA  \n",
       "1         PARALAMA DIANTEIRO 01. AMASSADO  2024-05-20 21:31:51.992000  \n",
       "2        PORTA TRASEIRA 04. CAROÇO / PICO  2024-05-20 21:30:22.772000  \n",
       "3     MÓDULO DO ACC (13) PEÇA INCORRETA ¨  2024-05-20 20:04:55.534000  \n",
       "4   TAMPA TRASEIRA 05. SUJEIRA NA PINTURA  2024-04-11 12:15:39.616000  \n",
       "5  TAMPA DIANTEIRA 05. SUJEIRA NA PINTURA  2024-06-05 17:38:51.565000  "
      ]
     },
     "execution_count": 27,
     "metadata": {},
     "output_type": "execute_result"
    }
   ],
   "source": [
    "df_falhas.head()"
   ]
  },
  {
   "cell_type": "code",
   "execution_count": null,
   "metadata": {},
   "outputs": [],
   "source": [
    "df_falhas.to_csv('../static/FALHAS_TRATADO.csv')"
   ]
  },
  {
   "cell_type": "markdown",
   "metadata": {},
   "source": [
    "### Junção dos dados de falha com os de resultado"
   ]
  },
  {
   "cell_type": "code",
   "execution_count": null,
   "metadata": {},
   "outputs": [],
   "source": [
    "falhas_df = pd.read_csv('../static/FALHAS_TRATADO.csv')\n",
    "\n",
    "falhas_df.head()"
   ]
  },
  {
   "cell_type": "code",
   "execution_count": null,
   "metadata": {},
   "outputs": [],
   "source": [
    "falhas_df.drop(falhas_df.columns[0], axis=1, inplace=True)\n",
    "falhas_df"
   ]
  },
  {
   "cell_type": "code",
   "execution_count": null,
   "metadata": {},
   "outputs": [],
   "source": [
    "# deixando apenas os dados cujo HALLE seja igual a ROD\n",
    "falhas_df = falhas_df[falhas_df['HALLE'].str.contains(\"ROD\", na=False)]\n",
    "falhas_df = falhas_df.drop(columns=['HALLE'])\n",
    "falhas_df.head()"
   ]
  },
  {
   "cell_type": "code",
   "execution_count": null,
   "metadata": {},
   "outputs": [],
   "source": [
    "# junção do df de resultados com de falhas através do KNR\n",
    "df = pd.merge(df_resultados, falhas_df, on='KNR', how='outer')"
   ]
  },
  {
   "cell_type": "code",
   "execution_count": null,
   "metadata": {},
   "outputs": [],
   "source": [
    "df.head()"
   ]
  },
  {
   "cell_type": "code",
   "execution_count": null,
   "metadata": {},
   "outputs": [],
   "source": [
    "# removendo a coluna MODELO pois é o mesmo dado para todas as linhas\n",
    "df = df.drop(columns=['MODELO'])\n",
    "df"
   ]
  },
  {
   "cell_type": "code",
   "execution_count": null,
   "metadata": {},
   "outputs": [],
   "source": [
    "# coluna FALHA em letras minúsculas para melhor manuseamento\n",
    "df['FALHA'] = df['FALHA'].str.lower()"
   ]
  },
  {
   "cell_type": "code",
   "execution_count": null,
   "metadata": {},
   "outputs": [],
   "source": [
    "# removendo linhas duplicadas no df\n",
    "df = df.drop_duplicates()"
   ]
  },
  {
   "cell_type": "code",
   "execution_count": null,
   "metadata": {},
   "outputs": [],
   "source": [
    "df.to_csv(\"../static/FALHA_RESULTADOS.csv\", index=False)"
   ]
  }
 ],
 "metadata": {
  "kernelspec": {
   "display_name": "Python 3",
   "language": "python",
   "name": "python3"
  },
  "language_info": {
   "codemirror_mode": {
    "name": "ipython",
    "version": 3
   },
   "file_extension": ".py",
   "mimetype": "text/x-python",
   "name": "python",
   "nbconvert_exporter": "python",
   "pygments_lexer": "ipython3",
   "version": "3.10.12"
  }
 },
 "nbformat": 4,
 "nbformat_minor": 2
}
