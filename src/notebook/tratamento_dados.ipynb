{
 "cells": [
  {
   "cell_type": "markdown",
   "metadata": {},
   "source": [
    "# Tratamento dos dados\n",
    "\n",
    "Este notebook realiza o tratamento dos dados que serão utilizados ao longo do projeto. O tratamento de dados presente está sendo realizado para que, posteriormente, as análises e a construção do modelo sejam feitas de forma mais prática e eficiente, e coletando todos os dados da forma correta, visto a diferença dos formatos trabalhados (.csv e .xlsx), além de organizar colunas e linhas que não estão posicionadas corretamente."
   ]
  },
  {
   "cell_type": "markdown",
   "metadata": {},
   "source": [
    "##### Importando bibliotecas necessárias"
   ]
  },
  {
   "cell_type": "code",
   "execution_count": null,
   "metadata": {},
   "outputs": [],
   "source": [
    "!pip install openpyxl"
   ]
  },
  {
   "cell_type": "code",
   "execution_count": null,
   "metadata": {},
   "outputs": [],
   "source": [
    "import pandas as pd\n",
    "import numpy as np"
   ]
  },
  {
   "cell_type": "markdown",
   "metadata": {},
   "source": [
    "### Tratamento dos resultados"
   ]
  },
  {
   "cell_type": "markdown",
   "metadata": {},
   "source": [
    "Tratamento do resultado 08_2023_09_2023"
   ]
  },
  {
   "cell_type": "code",
   "execution_count": null,
   "metadata": {},
   "outputs": [],
   "source": [
    "df_resultados_08 = pd.read_excel(\"RESULTADOS_08_2023_09_2023.xlsx\", sheet_name=None)\n",
    "\n",
    "df_resultados_08"
   ]
  },
  {
   "cell_type": "code",
   "execution_count": null,
   "metadata": {},
   "outputs": [],
   "source": [
    "planilhas = []\n",
    "for planilha,df in df_resultados_08.items():\n",
    "    planilhas.append(planilha)\n",
    "    print(planilha)"
   ]
  },
  {
   "cell_type": "code",
   "execution_count": null,
   "metadata": {},
   "outputs": [],
   "source": [
    "df1_08 = df_resultados_08['Relatório 1']\n",
    "df1_08.head()"
   ]
  },
  {
   "cell_type": "code",
   "execution_count": null,
   "metadata": {},
   "outputs": [],
   "source": [
    "df1_08.drop(df1_08.columns[0], axis=1, inplace=True)\n",
    "# Pega a primeira linha e coloca ela como as colunas do DataFrame\n",
    "colunas = df1_08.iloc[0]\n",
    "# Pega todos os dados sem a primeira linha\n",
    "df1_08 = df1_08[1:]\n",
    "# Pega a primeira linha e coloca ela como as colunas do DataFrame\n",
    "colunas = df1_08.iloc[0]\n",
    "# Pega todos os dados sem a primeira linha\n",
    "df1_08 = df1_08[1:]\n",
    "# Pega a primeira linha e coloca ela como as colunas do DataFrame\n",
    "colunas = df1_08.iloc[0]\n",
    "# Pega todos os dados sem a primeira linha\n",
    "df1_08 = df1_08[1:]\n",
    "#Atualiza as linhas\n",
    "df1_08.columns = colunas"
   ]
  },
  {
   "cell_type": "code",
   "execution_count": null,
   "metadata": {},
   "outputs": [],
   "source": [
    "lista = ['Relatório 1(1)',\n",
    "'Relatório 1(2)',\n",
    "'Relatório 1(3)',\n",
    "'Relatório 1(4)',\n",
    "'Relatório 1(5)',\n",
    "'Relatório 1(6)',\n",
    "'Relatório 1(7)',\n",
    "'Relatório 1(8)',\n",
    "'Relatório 1(9)',\n",
    "'Relatório 1(10)']"
   ]
  },
  {
   "cell_type": "code",
   "execution_count": null,
   "metadata": {},
   "outputs": [],
   "source": [
    "dfs = {}\n",
    "for atual_df in lista:\n",
    "    dfs[atual_df] = None\n",
    "for atual_df in lista:\n",
    "    # Preparando os demais dataframes\n",
    "    dfs[atual_df] = df_resultados_08[atual_df]\n",
    "    # Remover a primeira coluna\n",
    "    dfs[atual_df].drop(dfs[atual_df].columns[0], axis=1, inplace=True)\n",
    "    # Pega a primeira linha e coloca ela como dados do DataFrame\n",
    "    linha_extra = dfs[atual_df].columns\n",
    "    # Pega todos os dados sem a primeira linha\n",
    "    dfs[atual_df].loc[-1] = linha_extra\n",
    "    # Ajusta os indices\n",
    "    dfs[atual_df].index = dfs[atual_df].index + 1\n",
    "    dfs[atual_df] = dfs[atual_df].sort_index()\n",
    "    #Atualiza as linhas\n",
    "    dfs[atual_df].columns = colunas"
   ]
  },
  {
   "cell_type": "code",
   "execution_count": null,
   "metadata": {},
   "outputs": [],
   "source": [
    "df_uniao_08 = df1_08\n",
    "for atual_df in lista:\n",
    "    df_uniao_08 = pd.concat([df_uniao_08, dfs[atual_df]], ignore_index=True)"
   ]
  },
  {
   "cell_type": "code",
   "execution_count": null,
   "metadata": {},
   "outputs": [],
   "source": [
    "# df_uniao_08.to_csv('../static/RESULTADOS_08_2023_09_2023_juntados.csv')"
   ]
  },
  {
   "cell_type": "markdown",
   "metadata": {},
   "source": [
    "Tratamento do resultado 02_03_2024"
   ]
  },
  {
   "cell_type": "code",
   "execution_count": null,
   "metadata": {},
   "outputs": [],
   "source": [
    "df_resultados_02 = pd.read_excel(\"RESULTADOS_02_03_2024.xlsx\", sheet_name=None)\n",
    "\n",
    "df_resultados_02"
   ]
  },
  {
   "cell_type": "code",
   "execution_count": null,
   "metadata": {},
   "outputs": [],
   "source": [
    "planilhas = []\n",
    "for planilha,df in df_resultados_02.items():\n",
    "    planilhas.append(planilha)\n",
    "    print(planilha)"
   ]
  },
  {
   "cell_type": "code",
   "execution_count": null,
   "metadata": {},
   "outputs": [],
   "source": [
    "df1_02 = df_resultados_02['Relatório 1']\n",
    "df1_02.head()"
   ]
  },
  {
   "cell_type": "code",
   "execution_count": null,
   "metadata": {},
   "outputs": [],
   "source": [
    "df1_02.drop(df1_02.columns[0], axis=1, inplace=True)\n",
    "# Pega a primeira linha e coloca ela como as colunas do DataFrame\n",
    "colunas = df1_02.iloc[0]\n",
    "# Pega todos os dados sem a primeira linha\n",
    "df1_02 = df1_02[1:]\n",
    "#Atualiza as linhas\n",
    "df1_02.columns = colunas\n",
    "df1_02.head()"
   ]
  },
  {
   "cell_type": "code",
   "execution_count": null,
   "metadata": {},
   "outputs": [],
   "source": [
    "lista = ['Relatório 1(1)',\n",
    "'Relatório 1(2)',\n",
    "'Relatório 1(3)',\n",
    "'Relatório 1(4)',\n",
    "'Relatório 1(5)',\n",
    "'Relatório 1(6)',\n",
    "'Relatório 1(7)',\n",
    "'Relatório 1(8)',\n",
    "'Relatório 1(9)',\n",
    "'Relatório 1(10)']"
   ]
  },
  {
   "cell_type": "code",
   "execution_count": null,
   "metadata": {},
   "outputs": [],
   "source": [
    "dfs = {}\n",
    "for atual_df in lista:\n",
    "    dfs[atual_df] = None\n",
    "for atual_df in lista:\n",
    "    # Preparando os demais dataframes\n",
    "    dfs[atual_df] = df_resultados_02[atual_df]\n",
    "    # Remover a primeira coluna\n",
    "    dfs[atual_df].drop(dfs[atual_df].columns[0], axis=1, inplace=True)\n",
    "    # Pega a primeira linha e coloca ela como dados do DataFrame\n",
    "    linha_extra = dfs[atual_df].columns\n",
    "    # Pega todos os dados sem a primeira linha\n",
    "    dfs[atual_df].loc[-1] = linha_extra\n",
    "    # Ajusta os indices\n",
    "    dfs[atual_df].index = dfs[atual_df].index + 1\n",
    "    dfs[atual_df] = dfs[atual_df].sort_index()\n",
    "    #Atualiza as linhas\n",
    "    dfs[atual_df].columns = colunas"
   ]
  },
  {
   "cell_type": "code",
   "execution_count": null,
   "metadata": {},
   "outputs": [],
   "source": [
    "df_uniao_02 = df1_02\n",
    "for atual_df in lista:\n",
    "    df_uniao_02 = pd.concat([df_uniao_02, dfs[atual_df]], ignore_index=True)"
   ]
  },
  {
   "cell_type": "code",
   "execution_count": null,
   "metadata": {},
   "outputs": [],
   "source": [
    "# df_uniao_02.to_csv('../static/RESULTADOS_02_03_2024_juntados.csv')"
   ]
  },
  {
   "cell_type": "markdown",
   "metadata": {},
   "source": [
    "Tratamento do resultado 04_06_2024"
   ]
  },
  {
   "cell_type": "code",
   "execution_count": null,
   "metadata": {},
   "outputs": [],
   "source": [
    "df_resultados_04 = pd.read_excel(\"RESULTADOS_04_06_2024.xlsx\", sheet_name=None)\n",
    "\n",
    "df_resultados_04"
   ]
  },
  {
   "cell_type": "code",
   "execution_count": null,
   "metadata": {},
   "outputs": [],
   "source": [
    "planilhas = []\n",
    "for planilha,df in df_resultados_04.items():\n",
    "    planilhas.append(planilha)\n",
    "    print(planilha)"
   ]
  },
  {
   "cell_type": "code",
   "execution_count": null,
   "metadata": {},
   "outputs": [],
   "source": [
    "df1_04 = df_resultados_04['Relatório 1']\n",
    "df1_04.head()"
   ]
  },
  {
   "cell_type": "code",
   "execution_count": null,
   "metadata": {},
   "outputs": [],
   "source": [
    "df1_04.drop(df1_04.columns[0], axis=1, inplace=True)\n",
    "# Pega a primeira linha e coloca ela como as colunas do DataFrame\n",
    "colunas = df1_04.iloc[0]\n",
    "# Pega todos os dados sem a primeira linha\n",
    "df1_04 = df1_04[1:]\n",
    "#Atualiza as linhas\n",
    "df1_04.columns = colunas\n",
    "df1_04.head()"
   ]
  },
  {
   "cell_type": "code",
   "execution_count": null,
   "metadata": {},
   "outputs": [],
   "source": [
    "lista = ['Relatório 1(1)',\n",
    "'Relatório 1(2)',\n",
    "'Relatório 1(3)',\n",
    "'Relatório 1(4)',\n",
    "'Relatório 1(5)',\n",
    "'Relatório 1(6)',\n",
    "'Relatório 1(7)',\n",
    "'Relatório 1(8)',\n",
    "'Relatório 1(9)',\n",
    "'Relatório 1(10)',\n",
    "'Relatório 1(11)',\n",
    "'Relatório 1(12)',\n",
    "'Relatório 1(13)',\n",
    "'Relatório 1(14)',\n",
    "'Relatório 1(15)',\n",
    "'Relatório 1(16)',\n",
    "'Relatório 1(17)',\n",
    "'Relatório 1(18)',\n",
    "'Relatório 1(19)',\n",
    "'Relatório 1(20)']"
   ]
  },
  {
   "cell_type": "code",
   "execution_count": null,
   "metadata": {},
   "outputs": [],
   "source": [
    "dfs = {}\n",
    "for atual_df in lista:\n",
    "    dfs[atual_df] = None\n",
    "for atual_df in lista:\n",
    "    # Preparando os demais dataframes\n",
    "    dfs[atual_df] = df_resultados_04[atual_df]\n",
    "    # Remover a primeira coluna\n",
    "    dfs[atual_df].drop(dfs[atual_df].columns[0], axis=1, inplace=True)\n",
    "    # Pega a primeira linha e coloca ela como dados do DataFrame\n",
    "    linha_extra = dfs[atual_df].columns\n",
    "    # Pega todos os dados sem a primeira linha\n",
    "    dfs[atual_df].loc[-1] = linha_extra\n",
    "    # Ajusta os indices\n",
    "    dfs[atual_df].index = dfs[atual_df].index + 1\n",
    "    dfs[atual_df] = dfs[atual_df].sort_index()\n",
    "    #Atualiza as linhas\n",
    "    dfs[atual_df].columns = colunas"
   ]
  },
  {
   "cell_type": "code",
   "execution_count": null,
   "metadata": {},
   "outputs": [],
   "source": [
    "df_uniao_04 = df1_04\n",
    "for atual_df in lista:\n",
    "    df_uniao_04 = pd.concat([df_uniao_04, dfs[atual_df]], ignore_index=True)"
   ]
  },
  {
   "cell_type": "code",
   "execution_count": null,
   "metadata": {},
   "outputs": [],
   "source": [
    "# df_uniao_04.to_csv('../static/RESULTADOS_04_06_2024_juntados.csv')"
   ]
  },
  {
   "cell_type": "markdown",
   "metadata": {},
   "source": [
    "Tratamento do resultado 06_2023_07_2023"
   ]
  },
  {
   "cell_type": "code",
   "execution_count": null,
   "metadata": {},
   "outputs": [],
   "source": [
    "df_resultados_06 = pd.read_excel(\"../static/RESULTADOS_06_2023_07_2023.xlsx\", sheet_name=None)\n",
    "\n",
    "df_resultados_06"
   ]
  },
  {
   "cell_type": "code",
   "execution_count": null,
   "metadata": {},
   "outputs": [],
   "source": [
    "planilhas = []\n",
    "for planilha,df in df_resultados_06.items():\n",
    "    planilhas.append(planilha)\n",
    "    print(planilha)"
   ]
  },
  {
   "cell_type": "code",
   "execution_count": null,
   "metadata": {},
   "outputs": [],
   "source": [
    "df1_06 = df_resultados_06['Relatório 1']\n",
    "df1_06.head()"
   ]
  },
  {
   "cell_type": "code",
   "execution_count": null,
   "metadata": {},
   "outputs": [],
   "source": [
    "df1_06.drop(df1_06.columns[0], axis=1, inplace=True)\n",
    "# Pega a primeira linha e coloca ela como as colunas do DataFrame\n",
    "colunas = df1_06.iloc[0]\n",
    "# Pega todos os dados sem a primeira linha\n",
    "df1_06 = df1_06[1:]\n",
    "#Atualiza as linhas\n",
    "df1_06.columns = colunas\n",
    "df1_06.head()"
   ]
  },
  {
   "cell_type": "code",
   "execution_count": null,
   "metadata": {},
   "outputs": [],
   "source": [
    "lista = ['Relatório 1(1)',\n",
    "'Relatório 1(2)',\n",
    "'Relatório 1(3)',\n",
    "'Relatório 1(4)',\n",
    "'Relatório 1(5)',\n",
    "'Relatório 1(6)',\n",
    "'Relatório 1(7)',\n",
    "'Relatório 1(8)',\n",
    "'Relatório 1(9)',\n",
    "'Relatório 1(10)',]"
   ]
  },
  {
   "cell_type": "code",
   "execution_count": null,
   "metadata": {},
   "outputs": [],
   "source": [
    "dfs = {}\n",
    "for atual_df in lista:\n",
    "    dfs[atual_df] = None\n",
    "for atual_df in lista:\n",
    "    # Preparando os demais dataframes\n",
    "    dfs[atual_df] = df_resultados_06[atual_df]\n",
    "    # Remover a primeira coluna\n",
    "    dfs[atual_df].drop(dfs[atual_df].columns[0], axis=1, inplace=True)\n",
    "    # Pega a primeira linha e coloca ela como dados do DataFrame\n",
    "    linha_extra = dfs[atual_df].columns\n",
    "    # Pega todos os dados sem a primeira linha\n",
    "    dfs[atual_df].loc[-1] = linha_extra\n",
    "    # Ajusta os indices\n",
    "    dfs[atual_df].index = dfs[atual_df].index + 1\n",
    "    dfs[atual_df] = dfs[atual_df].sort_index()\n",
    "    #Atualiza as linhas\n",
    "    dfs[atual_df].columns = colunas"
   ]
  },
  {
   "cell_type": "code",
   "execution_count": null,
   "metadata": {},
   "outputs": [],
   "source": [
    "df_uniao_06 = df1_06\n",
    "for atual_df in lista:\n",
    "    df_uniao_06 = pd.concat([df_uniao_06, dfs[atual_df]], ignore_index=True)"
   ]
  },
  {
   "cell_type": "code",
   "execution_count": null,
   "metadata": {},
   "outputs": [],
   "source": [
    "# df_uniao_06.to_csv('../static/RESULTADOS_06_2023_07_2023_juntados.csv')"
   ]
  },
  {
   "cell_type": "markdown",
   "metadata": {},
   "source": [
    "Tratamento do resultado 10_2023_11_2023"
   ]
  },
  {
   "cell_type": "code",
   "execution_count": null,
   "metadata": {},
   "outputs": [],
   "source": [
    "df_resultados_10 = pd.read_excel(\"../static/RESULTADOS_10_2023_11_2023.xlsx\", sheet_name=None)\n",
    "\n",
    "df_resultados_10"
   ]
  },
  {
   "cell_type": "code",
   "execution_count": null,
   "metadata": {},
   "outputs": [],
   "source": [
    "planilhas = []\n",
    "for planilha,df in df_resultados_10.items():\n",
    "    planilhas.append(planilha)\n",
    "    print(planilha)"
   ]
  },
  {
   "cell_type": "code",
   "execution_count": null,
   "metadata": {},
   "outputs": [],
   "source": [
    "df1_10 = df_resultados_10['Relatório 1']\n",
    "df1_10.head()"
   ]
  },
  {
   "cell_type": "code",
   "execution_count": null,
   "metadata": {},
   "outputs": [],
   "source": [
    "df1_10.drop(df1_10.columns[0], axis=1, inplace=True)\n",
    "# Pega a primeira linha e coloca ela como as colunas do DataFrame\n",
    "colunas = df1_10.iloc[0]\n",
    "# Pega todos os dados sem a primeira linha\n",
    "df1_10 = df1_10[1:]\n",
    "#Atualiza as linhas\n",
    "df1_10.columns = colunas\n",
    "df1_10.head()"
   ]
  },
  {
   "cell_type": "code",
   "execution_count": null,
   "metadata": {},
   "outputs": [],
   "source": [
    "lista = ['Relatório 1(1)',\n",
    "'Relatório 1(2)',\n",
    "'Relatório 1(3)',\n",
    "'Relatório 1(4)',\n",
    "'Relatório 1(5)',\n",
    "'Relatório 1(6)',\n",
    "'Relatório 1(7)',\n",
    "'Relatório 1(8)',\n",
    "'Relatório 1(9)',\n",
    "'Relatório 1(10)',\n",
    "'Relatório 1(11)',\n",
    "'Relatório 1(12)',\n",
    "'Relatório 1(13)']"
   ]
  },
  {
   "cell_type": "code",
   "execution_count": null,
   "metadata": {},
   "outputs": [],
   "source": [
    "dfs = {}\n",
    "for atual_df in lista:\n",
    "    dfs[atual_df] = None\n",
    "for atual_df in lista:\n",
    "    # Preparando os demais dataframes\n",
    "    dfs[atual_df] = df_resultados_10[atual_df]\n",
    "    # Remover a primeira coluna\n",
    "    dfs[atual_df].drop(dfs[atual_df].columns[0], axis=1, inplace=True)\n",
    "    # Pega a primeira linha e coloca ela como dados do DataFrame\n",
    "    linha_extra = dfs[atual_df].columns\n",
    "    # Pega todos os dados sem a primeira linha\n",
    "    dfs[atual_df].loc[-1] = linha_extra\n",
    "    # Ajusta os indices\n",
    "    dfs[atual_df].index = dfs[atual_df].index + 1\n",
    "    dfs[atual_df] = dfs[atual_df].sort_index()\n",
    "    #Atualiza as linhas\n",
    "    dfs[atual_df].columns = colunas"
   ]
  },
  {
   "cell_type": "code",
   "execution_count": null,
   "metadata": {},
   "outputs": [],
   "source": [
    "df_uniao_10 = df1_10\n",
    "for atual_df in lista:\n",
    "    df_uniao_10 = pd.concat([df_uniao_10, dfs[atual_df]], ignore_index=True)"
   ]
  },
  {
   "cell_type": "code",
   "execution_count": null,
   "metadata": {},
   "outputs": [],
   "source": [
    "# df_uniao_10.to_csv('../static/RESULTADOS_10_2023_11_2023_juntados.csv')"
   ]
  },
  {
   "cell_type": "markdown",
   "metadata": {},
   "source": [
    "Tratamento do resultado 12_2023_01_2024"
   ]
  },
  {
   "cell_type": "code",
   "execution_count": null,
   "metadata": {},
   "outputs": [],
   "source": [
    "df_resultados_12 = pd.read_excel(\"../static/RESULTADOS_12_2023_01_2024.xlsx\", sheet_name=None)\n",
    "\n",
    "df_resultados_12"
   ]
  },
  {
   "cell_type": "code",
   "execution_count": null,
   "metadata": {},
   "outputs": [],
   "source": [
    "planilhas = []\n",
    "for planilha,df in df_resultados_12.items():\n",
    "    planilhas.append(planilha)\n",
    "    print(planilha)"
   ]
  },
  {
   "cell_type": "code",
   "execution_count": null,
   "metadata": {},
   "outputs": [],
   "source": [
    "df1_12 = df_resultados_12['Relatório 1']\n",
    "df1_12.head()"
   ]
  },
  {
   "cell_type": "code",
   "execution_count": null,
   "metadata": {},
   "outputs": [],
   "source": [
    "df1_12.drop(df1_12.columns[0], axis=1, inplace=True)\n",
    "# Pega a primeira linha e coloca ela como as colunas do DataFrame\n",
    "colunas = df1_12.iloc[0]\n",
    "# Pega todos os dados sem a primeira linha\n",
    "df1_12 = df1_12[1:]\n",
    "#Atualiza as linhas\n",
    "df1_12.columns = colunas\n",
    "df1_12.head()"
   ]
  },
  {
   "cell_type": "code",
   "execution_count": null,
   "metadata": {},
   "outputs": [],
   "source": [
    "lista = ['Relatório 1(1)',\n",
    "'Relatório 1(2)',\n",
    "'Relatório 1(3)',\n",
    "'Relatório 1(4)',\n",
    "'Relatório 1(5)',\n",
    "'Relatório 1(6)',\n",
    "'Relatório 1(7)',\n",
    "'Relatório 1(8)']"
   ]
  },
  {
   "cell_type": "code",
   "execution_count": null,
   "metadata": {},
   "outputs": [],
   "source": [
    "dfs = {}\n",
    "for atual_df in lista:\n",
    "    dfs[atual_df] = None\n",
    "for atual_df in lista:\n",
    "    # Preparando os demais dataframes\n",
    "    dfs[atual_df] = df_resultados_12[atual_df]\n",
    "    # Remover a primeira coluna\n",
    "    dfs[atual_df].drop(dfs[atual_df].columns[0], axis=1, inplace=True)\n",
    "    # Pega a primeira linha e coloca ela como dados do DataFrame\n",
    "    linha_extra = dfs[atual_df].columns\n",
    "    # Pega todos os dados sem a primeira linha\n",
    "    dfs[atual_df].loc[-1] = linha_extra\n",
    "    # Ajusta os indices\n",
    "    dfs[atual_df].index = dfs[atual_df].index + 1\n",
    "    dfs[atual_df] = dfs[atual_df].sort_index()\n",
    "    #Atualiza as linhas\n",
    "    dfs[atual_df].columns = colunas"
   ]
  },
  {
   "cell_type": "code",
   "execution_count": null,
   "metadata": {},
   "outputs": [],
   "source": [
    "df_uniao_12 = df1_12\n",
    "for atual_df in lista:\n",
    "    df_uniao_12 = pd.concat([df_uniao_12, dfs[atual_df]], ignore_index=True)"
   ]
  },
  {
   "cell_type": "code",
   "execution_count": null,
   "metadata": {},
   "outputs": [],
   "source": [
    "# df_uniao_12.to_csv('../static/RESULTADOS_12_2023_01_2024_juntados.csv')"
   ]
  },
  {
   "cell_type": "code",
   "execution_count": null,
   "metadata": {},
   "outputs": [],
   "source": [
    "# df_resultados_02 = pd.read_csv('../static/RESULTADOS_02_03_2024_juntados.csv')\n",
    "# df_resultados_04 = pd.read_csv('../static/RESULTADOS_04_06_2024_juntados.csv')\n",
    "# df_resultados_06 = pd.read_csv('../static/RESULTADOS_06_2023_07_2023_juntados.csv')\n",
    "# df_resultados_08 = pd.read_csv('../static/RESULTADOS_08_2023_09_2023_juntados.csv')\n",
    "# df_resultados_10 = pd.read_csv('../static/RESULTADOS_10_2023_11_2023_juntados.csv')\n",
    "# df_resultados_12 = pd.read_csv('../static/RESULTADOS_12_2023_01_2024_juntados.csv')"
   ]
  },
  {
   "cell_type": "markdown",
   "metadata": {},
   "source": [
    "Junção de todos resultados em apenas um Dataframe"
   ]
  },
  {
   "cell_type": "code",
   "execution_count": null,
   "metadata": {},
   "outputs": [],
   "source": [
    "df_resultados = pd.concat([df_uniao_02, df_uniao_04, df_uniao_06, df_uniao_08, df_uniao_10, df_uniao_12], axis=0, ignore_index=True)\n",
    "\n",
    "df_resultados.to_csv(\"../static/RESULTADOS.csv\", index=False)\n",
    "\n",
    "df_resultados"
   ]
  },
  {
   "cell_type": "code",
   "execution_count": null,
   "metadata": {},
   "outputs": [],
   "source": [
    "df_resultados = pd.read_csv(\"../static/RESULTADOS.csv\")\n",
    "df_resultados.drop(df_resultados.columns[0], axis=1, inplace=True)\n",
    "df_resultados"
   ]
  },
  {
   "cell_type": "code",
   "execution_count": null,
   "metadata": {},
   "outputs": [],
   "source": [
    "df_resultados.info()"
   ]
  },
  {
   "cell_type": "code",
   "execution_count": null,
   "metadata": {},
   "outputs": [],
   "source": [
    "# agrupamento do df pelo KNR\n",
    "df_resultados.groupby('KNR').count()"
   ]
  },
  {
   "cell_type": "markdown",
   "metadata": {},
   "source": [
    "### Tratamento da tabela Falhas Predict"
   ]
  },
  {
   "cell_type": "markdown",
   "metadata": {},
   "source": [
    "##### Leitura do arquivo"
   ]
  },
  {
   "cell_type": "code",
   "execution_count": null,
   "metadata": {},
   "outputs": [],
   "source": [
    "df_falhas_predict = pd.read_excel('FALHAS_PREDICT.xlsx')"
   ]
  },
  {
   "cell_type": "code",
   "execution_count": null,
   "metadata": {},
   "outputs": [],
   "source": [
    "df_falhas_predict.head()"
   ]
  },
  {
   "cell_type": "markdown",
   "metadata": {},
   "source": [
    "##### Tratamento do arquivo\n",
    "\n",
    "Por conta das colunas não estarem definidas, e o nome das colunas estar constanto como linha, temos que reposiciona-las como colunas para um melhor manuseio dos dados."
   ]
  },
  {
   "cell_type": "code",
   "execution_count": null,
   "metadata": {},
   "outputs": [],
   "source": [
    "# Remoção da primeira linha\n",
    "df_falhas_predict.drop(0, inplace=True) \n",
    "df_falhas_predict.drop(df_falhas_predict.columns[0], axis=1, inplace=True)\n",
    "\n",
    "colunas = df_falhas_predict.iloc[0]\n",
    "df_falhas_predict = df_falhas_predict[1:]\n",
    "df_falhas_predict.columns = colunas"
   ]
  },
  {
   "cell_type": "code",
   "execution_count": null,
   "metadata": {},
   "outputs": [],
   "source": [
    "df_falhas_predict.head()"
   ]
  },
  {
   "cell_type": "code",
   "execution_count": null,
   "metadata": {},
   "outputs": [],
   "source": [
    "# Salvando o arquivo tratado\n",
    "df_falhas_predict.to_csv('FALHAS_PREDICT_TRATADO.csv')"
   ]
  },
  {
   "cell_type": "markdown",
   "metadata": {},
   "source": [
    "### Tratamento da tabela Status Predictor"
   ]
  },
  {
   "cell_type": "markdown",
   "metadata": {},
   "source": [
    "Este arquivo está em formato excel e possui mais de uma página, sendo assim, se faz necessário tratar cada página e no final realizar a junção para um melhor manuseio dos dados desse arquivo."
   ]
  },
  {
   "cell_type": "code",
   "execution_count": null,
   "metadata": {},
   "outputs": [],
   "source": [
    "df_status_predictor = pd.read_excel('STATUS_PREDICTOR_ANO.xlsx', sheet_name=None)"
   ]
  },
  {
   "cell_type": "code",
   "execution_count": null,
   "metadata": {},
   "outputs": [],
   "source": [
    "# visualizar todas as páginas da planilha\n",
    "planilhas = []\n",
    "for planilha,df in df_status_predictor.items():\n",
    "    planilhas.append(planilha)\n",
    "    print(planilha)"
   ]
  },
  {
   "cell_type": "code",
   "execution_count": null,
   "metadata": {},
   "outputs": [],
   "source": [
    "df1 = df_status_predictor['Relatório 1']\n",
    "df1.head()"
   ]
  },
  {
   "cell_type": "code",
   "execution_count": null,
   "metadata": {},
   "outputs": [],
   "source": [
    "# remove a primeira coluna\n",
    "df1.drop(df1.columns[0], axis=1, inplace=True)\n",
    "colunas = df1.iloc[0]\n",
    "\n",
    "# remove a primeira linha\n",
    "df1 = df1[1:]\n",
    "df1.columns = colunas\n",
    "\n",
    "df1.head()"
   ]
  },
  {
   "cell_type": "markdown",
   "metadata": {},
   "source": [
    "Tratamento da segunda página"
   ]
  },
  {
   "cell_type": "code",
   "execution_count": null,
   "metadata": {},
   "outputs": [],
   "source": [
    "df2 = df_status_predictor['Relatório 1(1)']\n",
    "\n",
    "df2.drop(df2.columns[0], axis=1, inplace=True)\n",
    "linha_extra = df2.columns\n",
    "df2.loc[-1] = linha_extra\n",
    "df2.index = df2.index + 1\n",
    "df2 = df2.sort_index()\n",
    "df2.columns = colunas\n",
    "\n",
    "df2.head()"
   ]
  },
  {
   "cell_type": "markdown",
   "metadata": {},
   "source": [
    "Tratamento da terceira página"
   ]
  },
  {
   "cell_type": "code",
   "execution_count": null,
   "metadata": {},
   "outputs": [],
   "source": [
    "df3 = df_status_predictor['Relatório 1(2)']\n",
    "\n",
    "df3.drop(df3.columns[0], axis=1, inplace=True)\n",
    "linha_extra = df3.columns\n",
    "df3.loc[-1] = linha_extra\n",
    "df3.index = df3.index + 1\n",
    "df3 = df3.sort_index()\n",
    "df3.columns = colunas\n",
    "\n",
    "df3.head()"
   ]
  },
  {
   "cell_type": "markdown",
   "metadata": {},
   "source": [
    "Tratamento da quarta página"
   ]
  },
  {
   "cell_type": "code",
   "execution_count": null,
   "metadata": {},
   "outputs": [],
   "source": [
    "df4 = df_status_predictor['Relatório 1(3)']\n",
    "\n",
    "df4.drop(df4.columns[0], axis=1, inplace=True)\n",
    "linha_extra = df4.columns\n",
    "df4.loc[-1] = linha_extra\n",
    "df4.index = df4.index + 1\n",
    "df4 = df4.sort_index()\n",
    "df4.columns = colunas\n",
    "\n",
    "df4.head()"
   ]
  },
  {
   "cell_type": "markdown",
   "metadata": {},
   "source": [
    "Tratamento da quinta página"
   ]
  },
  {
   "cell_type": "code",
   "execution_count": null,
   "metadata": {},
   "outputs": [],
   "source": [
    "df5 = df_status_predictor['Relatório 1(4)']\n",
    "\n",
    "df5.drop(df5.columns[0], axis=1, inplace=True)\n",
    "linha_extra = df5.columns\n",
    "df5.loc[-1] = linha_extra\n",
    "df5.index = df5.index + 1\n",
    "df5 = df5.sort_index()\n",
    "df5.columns = colunas\n",
    "\n",
    "df5.head()"
   ]
  },
  {
   "cell_type": "code",
   "execution_count": null,
   "metadata": {},
   "outputs": [],
   "source": [
    "# junção de todas as páginas em um único Dataframe\n",
    "df_status_predict_tratado = pd.concat([df1, df2, df3, df4, df5], ignore_index=True)\n",
    "df_status_predict_tratado.shape"
   ]
  },
  {
   "cell_type": "code",
   "execution_count": null,
   "metadata": {},
   "outputs": [],
   "source": [
    "# salva os dados tratados em um csv\n",
    "df_status_predict_tratado.to_csv('STATUS_PREDICT_TRATADO.csv')"
   ]
  },
  {
   "cell_type": "markdown",
   "metadata": {},
   "source": [
    "### Falhas"
   ]
  },
  {
   "cell_type": "code",
   "execution_count": null,
   "metadata": {},
   "outputs": [],
   "source": [
    "df_falhas = pd.read_excel('FALHAS_04_05_06_2024.xlsx')"
   ]
  },
  {
   "cell_type": "code",
   "execution_count": null,
   "metadata": {},
   "outputs": [],
   "source": [
    "df_falhas.head()"
   ]
  },
  {
   "cell_type": "code",
   "execution_count": null,
   "metadata": {},
   "outputs": [],
   "source": [
    "df_falhas.shape"
   ]
  },
  {
   "cell_type": "code",
   "execution_count": null,
   "metadata": {},
   "outputs": [],
   "source": [
    "df_falhas.drop(df_falhas.columns[0], axis=1, inplace=True)\n",
    "\n",
    "colunas = df_falhas.iloc[0]\n",
    "df_falhas = df_falhas[1:]\n",
    "df_falhas.columns = colunas"
   ]
  },
  {
   "cell_type": "code",
   "execution_count": null,
   "metadata": {},
   "outputs": [],
   "source": [
    "df_falhas.head()"
   ]
  },
  {
   "cell_type": "code",
   "execution_count": null,
   "metadata": {},
   "outputs": [],
   "source": [
    "df_falhas.to_csv('../static/FALHAS_TRATADO.csv')"
   ]
  },
  {
   "cell_type": "markdown",
   "metadata": {},
   "source": [
    "### Junção dos dados de falha com os de resultado"
   ]
  },
  {
   "cell_type": "code",
   "execution_count": null,
   "metadata": {},
   "outputs": [],
   "source": [
    "falhas_df = pd.read_csv('../static/FALHAS_TRATADO.csv')\n",
    "\n",
    "falhas_df.head()"
   ]
  },
  {
   "cell_type": "code",
   "execution_count": null,
   "metadata": {},
   "outputs": [],
   "source": [
    "falhas_df.drop(falhas_df.columns[0], axis=1, inplace=True)\n",
    "falhas_df"
   ]
  },
  {
   "cell_type": "code",
   "execution_count": null,
   "metadata": {},
   "outputs": [],
   "source": [
    "# deixando apenas os dados cujo HALLE seja igual a ROD\n",
    "falhas_df = falhas_df[falhas_df['HALLE'].str.contains(\"ROD\", na=False)]\n",
    "falhas_df = falhas_df.drop(columns=['HALLE'])\n",
    "falhas_df.head()"
   ]
  },
  {
   "cell_type": "code",
   "execution_count": null,
   "metadata": {},
   "outputs": [],
   "source": [
    "# junção do df de resultados com de falhas através do KNR\n",
    "df = pd.merge(df_resultados, falhas_df, on='KNR', how='outer')"
   ]
  },
  {
   "cell_type": "code",
   "execution_count": null,
   "metadata": {},
   "outputs": [],
   "source": [
    "df.head()"
   ]
  },
  {
   "cell_type": "code",
   "execution_count": null,
   "metadata": {},
   "outputs": [],
   "source": [
    "# removendo a coluna MODELO pois é o mesmo dado para todas as linhas\n",
    "df = df.drop(columns=['MODELO'])\n",
    "df"
   ]
  },
  {
   "cell_type": "code",
   "execution_count": null,
   "metadata": {},
   "outputs": [],
   "source": [
    "# coluna FALHA em letras minúsculas para melhor manuseamento\n",
    "df['FALHA'] = df['FALHA'].str.lower()"
   ]
  },
  {
   "cell_type": "code",
   "execution_count": null,
   "metadata": {},
   "outputs": [],
   "source": [
    "# removendo linhas duplicadas no df\n",
    "df = df.drop_duplicates()"
   ]
  },
  {
   "cell_type": "code",
   "execution_count": null,
   "metadata": {},
   "outputs": [],
   "source": [
    "df.to_csv(\"../static/FALHA_RESULTADOS.csv\", index=False)"
   ]
  }
 ],
 "metadata": {
  "kernelspec": {
   "display_name": "Python 3",
   "language": "python",
   "name": "python3"
  },
  "language_info": {
   "codemirror_mode": {
    "name": "ipython",
    "version": 3
   },
   "file_extension": ".py",
   "mimetype": "text/x-python",
   "name": "python",
   "nbconvert_exporter": "python",
   "pygments_lexer": "ipython3",
   "version": "3.10.12"
  }
 },
 "nbformat": 4,
 "nbformat_minor": 2
}
