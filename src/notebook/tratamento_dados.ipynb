{
 "cells": [
  {
   "cell_type": "markdown",
   "metadata": {},
   "source": [
    "##### Importando bibliotecas necessárias"
   ]
  },
  {
   "cell_type": "code",
   "execution_count": 7,
   "metadata": {},
   "outputs": [],
   "source": [
    "import pandas as pd"
   ]
  },
  {
   "cell_type": "markdown",
   "metadata": {},
   "source": [
    "### Tratamento da tabela Falhas Predict"
   ]
  },
  {
   "cell_type": "markdown",
   "metadata": {},
   "source": [
    "##### Leitura do arquivo"
   ]
  },
  {
   "cell_type": "code",
   "execution_count": 8,
   "metadata": {},
   "outputs": [],
   "source": [
    "df_falhas_predict = pd.read_excel('FALHAS_PREDICT.xlsx')"
   ]
  },
  {
   "cell_type": "code",
   "execution_count": 9,
   "metadata": {},
   "outputs": [
    {
     "data": {
      "text/html": [
       "<div>\n",
       "<style scoped>\n",
       "    .dataframe tbody tr th:only-of-type {\n",
       "        vertical-align: middle;\n",
       "    }\n",
       "\n",
       "    .dataframe tbody tr th {\n",
       "        vertical-align: top;\n",
       "    }\n",
       "\n",
       "    .dataframe thead th {\n",
       "        text-align: right;\n",
       "    }\n",
       "</style>\n",
       "<table border=\"1\" class=\"dataframe\">\n",
       "  <thead>\n",
       "    <tr style=\"text-align: right;\">\n",
       "      <th></th>\n",
       "      <th>Unnamed: 0</th>\n",
       "      <th>Unnamed: 1</th>\n",
       "      <th>Unnamed: 2</th>\n",
       "      <th>Unnamed: 3</th>\n",
       "      <th>Unnamed: 4</th>\n",
       "      <th>Unnamed: 5</th>\n",
       "      <th>Unnamed: 6</th>\n",
       "      <th>Unnamed: 7</th>\n",
       "      <th>Unnamed: 8</th>\n",
       "      <th>Unnamed: 9</th>\n",
       "    </tr>\n",
       "  </thead>\n",
       "  <tbody>\n",
       "    <tr>\n",
       "      <th>0</th>\n",
       "      <td>NaN</td>\n",
       "      <td>82662</td>\n",
       "      <td>NaN</td>\n",
       "      <td>NaN</td>\n",
       "      <td>NaN</td>\n",
       "      <td>NaN</td>\n",
       "      <td>NaN</td>\n",
       "      <td>NaN</td>\n",
       "      <td>NaN</td>\n",
       "      <td>NaN</td>\n",
       "    </tr>\n",
       "    <tr>\n",
       "      <th>1</th>\n",
       "      <td>NaN</td>\n",
       "      <td>KNR</td>\n",
       "      <td>MODELO</td>\n",
       "      <td>COR</td>\n",
       "      <td>MOTOR</td>\n",
       "      <td>ESTACAO</td>\n",
       "      <td>USUARIO</td>\n",
       "      <td>HALLE</td>\n",
       "      <td>FALHA</td>\n",
       "      <td>DATA</td>\n",
       "    </tr>\n",
       "    <tr>\n",
       "      <th>2</th>\n",
       "      <td>NaN</td>\n",
       "      <td>2023-1326197</td>\n",
       "      <td>T-CROSS</td>\n",
       "      <td>0Q0Q</td>\n",
       "      <td>DHS</td>\n",
       "      <td>PCEQS100</td>\n",
       "      <td>2043521</td>\n",
       "      <td>ZP5</td>\n",
       "      <td>Porta dianteira Folga (Ajuste)</td>\n",
       "      <td>2023-01-09 22:24:44.272000</td>\n",
       "    </tr>\n",
       "    <tr>\n",
       "      <th>3</th>\n",
       "      <td>NaN</td>\n",
       "      <td>2023-1326197</td>\n",
       "      <td>T-CROSS</td>\n",
       "      <td>0Q0Q</td>\n",
       "      <td>DHS</td>\n",
       "      <td>PCEQS100</td>\n",
       "      <td>2043521</td>\n",
       "      <td>ZP5</td>\n",
       "      <td>Porta traseira Folga (Ajuste)</td>\n",
       "      <td>2023-01-09 22:25:02.960000</td>\n",
       "    </tr>\n",
       "    <tr>\n",
       "      <th>4</th>\n",
       "      <td>NaN</td>\n",
       "      <td>2023-4130482</td>\n",
       "      <td>AUDI Q3</td>\n",
       "      <td>2Y2Y</td>\n",
       "      <td>DSN</td>\n",
       "      <td>PCEQS999</td>\n",
       "      <td>2054701</td>\n",
       "      <td>ESPC</td>\n",
       "      <td>Lanterna tras (09) Interfere</td>\n",
       "      <td>2023-01-10 09:18:25.238000</td>\n",
       "    </tr>\n",
       "  </tbody>\n",
       "</table>\n",
       "</div>"
      ],
      "text/plain": [
       "   Unnamed: 0    Unnamed: 1 Unnamed: 2 Unnamed: 3 Unnamed: 4 Unnamed: 5  \\\n",
       "0         NaN         82662        NaN        NaN        NaN        NaN   \n",
       "1         NaN           KNR     MODELO        COR      MOTOR    ESTACAO   \n",
       "2         NaN  2023-1326197    T-CROSS       0Q0Q        DHS   PCEQS100   \n",
       "3         NaN  2023-1326197    T-CROSS       0Q0Q        DHS   PCEQS100   \n",
       "4         NaN  2023-4130482    AUDI Q3       2Y2Y        DSN   PCEQS999   \n",
       "\n",
       "  Unnamed: 6 Unnamed: 7                      Unnamed: 8  \\\n",
       "0        NaN        NaN                             NaN   \n",
       "1    USUARIO      HALLE                           FALHA   \n",
       "2    2043521        ZP5  Porta dianteira Folga (Ajuste)   \n",
       "3    2043521        ZP5   Porta traseira Folga (Ajuste)   \n",
       "4    2054701       ESPC    Lanterna tras (09) Interfere   \n",
       "\n",
       "                   Unnamed: 9  \n",
       "0                         NaN  \n",
       "1                        DATA  \n",
       "2  2023-01-09 22:24:44.272000  \n",
       "3  2023-01-09 22:25:02.960000  \n",
       "4  2023-01-10 09:18:25.238000  "
      ]
     },
     "execution_count": 9,
     "metadata": {},
     "output_type": "execute_result"
    }
   ],
   "source": [
    "df_falhas_predict.head()"
   ]
  },
  {
   "cell_type": "markdown",
   "metadata": {},
   "source": [
    "##### Tratamento do arquivo\n",
    "\n",
    "Por conta das colunas não estarem definidas, e o nome das colunas estar constanto como linha, temos que reposiciona-las como colunas para um melhor manuseio dos dados."
   ]
  },
  {
   "cell_type": "code",
   "execution_count": 10,
   "metadata": {},
   "outputs": [],
   "source": [
    "# Remoção da primeira linha\n",
    "df_falhas_predict.drop(0, inplace=True) \n",
    "df_falhas_predict.drop(df_falhas_predict.columns[0], axis=1, inplace=True)\n",
    "\n",
    "colunas = df_falhas_predict.iloc[0]\n",
    "df_falhas_predict = df_falhas_predict[1:]\n",
    "df_falhas_predict.columns = colunas"
   ]
  },
  {
   "cell_type": "code",
   "execution_count": 11,
   "metadata": {},
   "outputs": [
    {
     "data": {
      "text/html": [
       "<div>\n",
       "<style scoped>\n",
       "    .dataframe tbody tr th:only-of-type {\n",
       "        vertical-align: middle;\n",
       "    }\n",
       "\n",
       "    .dataframe tbody tr th {\n",
       "        vertical-align: top;\n",
       "    }\n",
       "\n",
       "    .dataframe thead th {\n",
       "        text-align: right;\n",
       "    }\n",
       "</style>\n",
       "<table border=\"1\" class=\"dataframe\">\n",
       "  <thead>\n",
       "    <tr style=\"text-align: right;\">\n",
       "      <th>1</th>\n",
       "      <th>KNR</th>\n",
       "      <th>MODELO</th>\n",
       "      <th>COR</th>\n",
       "      <th>MOTOR</th>\n",
       "      <th>ESTACAO</th>\n",
       "      <th>USUARIO</th>\n",
       "      <th>HALLE</th>\n",
       "      <th>FALHA</th>\n",
       "      <th>DATA</th>\n",
       "    </tr>\n",
       "  </thead>\n",
       "  <tbody>\n",
       "    <tr>\n",
       "      <th>2</th>\n",
       "      <td>2023-1326197</td>\n",
       "      <td>T-CROSS</td>\n",
       "      <td>0Q0Q</td>\n",
       "      <td>DHS</td>\n",
       "      <td>PCEQS100</td>\n",
       "      <td>2043521</td>\n",
       "      <td>ZP5</td>\n",
       "      <td>Porta dianteira Folga (Ajuste)</td>\n",
       "      <td>2023-01-09 22:24:44.272000</td>\n",
       "    </tr>\n",
       "    <tr>\n",
       "      <th>3</th>\n",
       "      <td>2023-1326197</td>\n",
       "      <td>T-CROSS</td>\n",
       "      <td>0Q0Q</td>\n",
       "      <td>DHS</td>\n",
       "      <td>PCEQS100</td>\n",
       "      <td>2043521</td>\n",
       "      <td>ZP5</td>\n",
       "      <td>Porta traseira Folga (Ajuste)</td>\n",
       "      <td>2023-01-09 22:25:02.960000</td>\n",
       "    </tr>\n",
       "    <tr>\n",
       "      <th>4</th>\n",
       "      <td>2023-4130482</td>\n",
       "      <td>AUDI Q3</td>\n",
       "      <td>2Y2Y</td>\n",
       "      <td>DSN</td>\n",
       "      <td>PCEQS999</td>\n",
       "      <td>2054701</td>\n",
       "      <td>ESPC</td>\n",
       "      <td>Lanterna tras (09) Interfere</td>\n",
       "      <td>2023-01-10 09:18:25.238000</td>\n",
       "    </tr>\n",
       "    <tr>\n",
       "      <th>5</th>\n",
       "      <td>2023-4130482</td>\n",
       "      <td>AUDI Q3</td>\n",
       "      <td>2Y2Y</td>\n",
       "      <td>DSN</td>\n",
       "      <td>PCEQS999</td>\n",
       "      <td>2054701</td>\n",
       "      <td>ESPC</td>\n",
       "      <td>Emblema / logo - Adesivos em geral Solto(a) ¨</td>\n",
       "      <td>2023-01-10 09:18:40.728000</td>\n",
       "    </tr>\n",
       "    <tr>\n",
       "      <th>6</th>\n",
       "      <td>2023-4130664</td>\n",
       "      <td>AUDI Q3</td>\n",
       "      <td>6Y6Y</td>\n",
       "      <td>DSN</td>\n",
       "      <td>PCEQS805</td>\n",
       "      <td>7000240</td>\n",
       "      <td>ZP82</td>\n",
       "      <td>Painel instrumentos Ruído (-)</td>\n",
       "      <td>2023-01-10 11:17:56.489000</td>\n",
       "    </tr>\n",
       "  </tbody>\n",
       "</table>\n",
       "</div>"
      ],
      "text/plain": [
       "1           KNR   MODELO   COR MOTOR   ESTACAO  USUARIO HALLE  \\\n",
       "2  2023-1326197  T-CROSS  0Q0Q   DHS  PCEQS100  2043521   ZP5   \n",
       "3  2023-1326197  T-CROSS  0Q0Q   DHS  PCEQS100  2043521   ZP5   \n",
       "4  2023-4130482  AUDI Q3  2Y2Y   DSN  PCEQS999  2054701  ESPC   \n",
       "5  2023-4130482  AUDI Q3  2Y2Y   DSN  PCEQS999  2054701  ESPC   \n",
       "6  2023-4130664  AUDI Q3  6Y6Y   DSN  PCEQS805  7000240  ZP82   \n",
       "\n",
       "1                                          FALHA                        DATA  \n",
       "2                 Porta dianteira Folga (Ajuste)  2023-01-09 22:24:44.272000  \n",
       "3                  Porta traseira Folga (Ajuste)  2023-01-09 22:25:02.960000  \n",
       "4                   Lanterna tras (09) Interfere  2023-01-10 09:18:25.238000  \n",
       "5  Emblema / logo - Adesivos em geral Solto(a) ¨  2023-01-10 09:18:40.728000  \n",
       "6                  Painel instrumentos Ruído (-)  2023-01-10 11:17:56.489000  "
      ]
     },
     "execution_count": 11,
     "metadata": {},
     "output_type": "execute_result"
    }
   ],
   "source": [
    "df_falhas_predict.head()"
   ]
  },
  {
   "cell_type": "code",
   "execution_count": 12,
   "metadata": {},
   "outputs": [],
   "source": [
    "# Salvando o arquivo tratado\n",
    "df_falhas_predict.to_csv('FALHAS_PREDICT_TRATADO.csv')"
   ]
  },
  {
   "cell_type": "markdown",
   "metadata": {},
   "source": [
    "### Tratamento da tabela Status Predictor"
   ]
  },
  {
   "cell_type": "markdown",
   "metadata": {},
   "source": [
    "Este arquivo está em formato excel e possui mais de uma página, sendo assim, se faz necessário tratar cada página e no final realizar a junção para um melhor manuseio dos dados desse arquivo."
   ]
  },
  {
   "cell_type": "code",
   "execution_count": 13,
   "metadata": {},
   "outputs": [
    {
     "name": "stderr",
     "output_type": "stream",
     "text": [
      "/home/rafa/.local/lib/python3.10/site-packages/openpyxl/styles/stylesheet.py:237: UserWarning: Workbook contains no default style, apply openpyxl's default\n",
      "  warn(\"Workbook contains no default style, apply openpyxl's default\")\n"
     ]
    }
   ],
   "source": [
    "df_status_predictor = pd.read_excel('STATUS_PREDICTOR_ANO.xlsx', sheet_name=None)"
   ]
  },
  {
   "cell_type": "code",
   "execution_count": 14,
   "metadata": {},
   "outputs": [
    {
     "name": "stdout",
     "output_type": "stream",
     "text": [
      "Relatório 1\n",
      "Relatório 1(1)\n",
      "Relatório 1(2)\n",
      "Relatório 1(3)\n",
      "Relatório 1(4)\n"
     ]
    }
   ],
   "source": [
    "# visualizar todas as páginas da planilha\n",
    "planilhas = []\n",
    "for planilha,df in df_status_predictor.items():\n",
    "    planilhas.append(planilha)\n",
    "    print(planilha)"
   ]
  },
  {
   "cell_type": "code",
   "execution_count": 15,
   "metadata": {},
   "outputs": [
    {
     "data": {
      "text/html": [
       "<div>\n",
       "<style scoped>\n",
       "    .dataframe tbody tr th:only-of-type {\n",
       "        vertical-align: middle;\n",
       "    }\n",
       "\n",
       "    .dataframe tbody tr th {\n",
       "        vertical-align: top;\n",
       "    }\n",
       "\n",
       "    .dataframe thead th {\n",
       "        text-align: right;\n",
       "    }\n",
       "</style>\n",
       "<table border=\"1\" class=\"dataframe\">\n",
       "  <thead>\n",
       "    <tr style=\"text-align: right;\">\n",
       "      <th></th>\n",
       "      <th>Unnamed: 0</th>\n",
       "      <th>Unnamed: 1</th>\n",
       "      <th>Unnamed: 2</th>\n",
       "      <th>Unnamed: 3</th>\n",
       "    </tr>\n",
       "  </thead>\n",
       "  <tbody>\n",
       "    <tr>\n",
       "      <th>0</th>\n",
       "      <td>NaN</td>\n",
       "      <td>KNR</td>\n",
       "      <td>STATUS</td>\n",
       "      <td>DATA</td>\n",
       "    </tr>\n",
       "    <tr>\n",
       "      <th>1</th>\n",
       "      <td>NaN</td>\n",
       "      <td>2023-2016173</td>\n",
       "      <td>G620</td>\n",
       "      <td>2023-06-06 07:50:27</td>\n",
       "    </tr>\n",
       "    <tr>\n",
       "      <th>2</th>\n",
       "      <td>NaN</td>\n",
       "      <td>2023-2016173</td>\n",
       "      <td>M620</td>\n",
       "      <td>2023-06-06 07:50:27</td>\n",
       "    </tr>\n",
       "    <tr>\n",
       "      <th>3</th>\n",
       "      <td>NaN</td>\n",
       "      <td>2023-2026032</td>\n",
       "      <td>G620</td>\n",
       "      <td>2023-06-20 17:35:51</td>\n",
       "    </tr>\n",
       "    <tr>\n",
       "      <th>4</th>\n",
       "      <td>NaN</td>\n",
       "      <td>2023-2026032</td>\n",
       "      <td>M620</td>\n",
       "      <td>2023-06-20 17:35:51</td>\n",
       "    </tr>\n",
       "  </tbody>\n",
       "</table>\n",
       "</div>"
      ],
      "text/plain": [
       "   Unnamed: 0    Unnamed: 1 Unnamed: 2           Unnamed: 3\n",
       "0         NaN           KNR     STATUS                 DATA\n",
       "1         NaN  2023-2016173       G620  2023-06-06 07:50:27\n",
       "2         NaN  2023-2016173       M620  2023-06-06 07:50:27\n",
       "3         NaN  2023-2026032       G620  2023-06-20 17:35:51\n",
       "4         NaN  2023-2026032       M620  2023-06-20 17:35:51"
      ]
     },
     "execution_count": 15,
     "metadata": {},
     "output_type": "execute_result"
    }
   ],
   "source": [
    "df1 = df_status_predictor['Relatório 1']\n",
    "df1.head()"
   ]
  },
  {
   "cell_type": "code",
   "execution_count": 16,
   "metadata": {},
   "outputs": [
    {
     "data": {
      "text/html": [
       "<div>\n",
       "<style scoped>\n",
       "    .dataframe tbody tr th:only-of-type {\n",
       "        vertical-align: middle;\n",
       "    }\n",
       "\n",
       "    .dataframe tbody tr th {\n",
       "        vertical-align: top;\n",
       "    }\n",
       "\n",
       "    .dataframe thead th {\n",
       "        text-align: right;\n",
       "    }\n",
       "</style>\n",
       "<table border=\"1\" class=\"dataframe\">\n",
       "  <thead>\n",
       "    <tr style=\"text-align: right;\">\n",
       "      <th></th>\n",
       "      <th>KNR</th>\n",
       "      <th>STATUS</th>\n",
       "      <th>DATA</th>\n",
       "    </tr>\n",
       "  </thead>\n",
       "  <tbody>\n",
       "    <tr>\n",
       "      <th>1</th>\n",
       "      <td>2023-2016173</td>\n",
       "      <td>G620</td>\n",
       "      <td>2023-06-06 07:50:27</td>\n",
       "    </tr>\n",
       "    <tr>\n",
       "      <th>2</th>\n",
       "      <td>2023-2016173</td>\n",
       "      <td>M620</td>\n",
       "      <td>2023-06-06 07:50:27</td>\n",
       "    </tr>\n",
       "    <tr>\n",
       "      <th>3</th>\n",
       "      <td>2023-2026032</td>\n",
       "      <td>G620</td>\n",
       "      <td>2023-06-20 17:35:51</td>\n",
       "    </tr>\n",
       "    <tr>\n",
       "      <th>4</th>\n",
       "      <td>2023-2026032</td>\n",
       "      <td>M620</td>\n",
       "      <td>2023-06-20 17:35:51</td>\n",
       "    </tr>\n",
       "    <tr>\n",
       "      <th>5</th>\n",
       "      <td>2023-2026085</td>\n",
       "      <td>G620</td>\n",
       "      <td>2023-06-22 20:22:36</td>\n",
       "    </tr>\n",
       "  </tbody>\n",
       "</table>\n",
       "</div>"
      ],
      "text/plain": [
       "0           KNR STATUS                 DATA\n",
       "1  2023-2016173   G620  2023-06-06 07:50:27\n",
       "2  2023-2016173   M620  2023-06-06 07:50:27\n",
       "3  2023-2026032   G620  2023-06-20 17:35:51\n",
       "4  2023-2026032   M620  2023-06-20 17:35:51\n",
       "5  2023-2026085   G620  2023-06-22 20:22:36"
      ]
     },
     "execution_count": 16,
     "metadata": {},
     "output_type": "execute_result"
    }
   ],
   "source": [
    "# remove a primeira coluna\n",
    "df1.drop(df1.columns[0], axis=1, inplace=True)\n",
    "colunas = df1.iloc[0]\n",
    "\n",
    "# remove a primeira linha\n",
    "df1 = df1[1:]\n",
    "df1.columns = colunas\n",
    "\n",
    "df1.head()"
   ]
  },
  {
   "cell_type": "markdown",
   "metadata": {},
   "source": [
    "Tratamento da segunda página"
   ]
  },
  {
   "cell_type": "code",
   "execution_count": 17,
   "metadata": {},
   "outputs": [
    {
     "data": {
      "text/html": [
       "<div>\n",
       "<style scoped>\n",
       "    .dataframe tbody tr th:only-of-type {\n",
       "        vertical-align: middle;\n",
       "    }\n",
       "\n",
       "    .dataframe tbody tr th {\n",
       "        vertical-align: top;\n",
       "    }\n",
       "\n",
       "    .dataframe thead th {\n",
       "        text-align: right;\n",
       "    }\n",
       "</style>\n",
       "<table border=\"1\" class=\"dataframe\">\n",
       "  <thead>\n",
       "    <tr style=\"text-align: right;\">\n",
       "      <th></th>\n",
       "      <th>KNR</th>\n",
       "      <th>STATUS</th>\n",
       "      <th>DATA</th>\n",
       "    </tr>\n",
       "  </thead>\n",
       "  <tbody>\n",
       "    <tr>\n",
       "      <th>0</th>\n",
       "      <td>2023-4026002</td>\n",
       "      <td>R600</td>\n",
       "      <td>2023-09-29 07:14:44</td>\n",
       "    </tr>\n",
       "    <tr>\n",
       "      <th>1</th>\n",
       "      <td>2023-4026002</td>\n",
       "      <td>R700</td>\n",
       "      <td>2023-09-29 07:38:47</td>\n",
       "    </tr>\n",
       "    <tr>\n",
       "      <th>2</th>\n",
       "      <td>2023-4026002</td>\n",
       "      <td>R725</td>\n",
       "      <td>2023-09-29 07:53:00</td>\n",
       "    </tr>\n",
       "    <tr>\n",
       "      <th>3</th>\n",
       "      <td>2023-4026002</td>\n",
       "      <td>R750</td>\n",
       "      <td>2023-09-29 08:16:23</td>\n",
       "    </tr>\n",
       "    <tr>\n",
       "      <th>4</th>\n",
       "      <td>2023-4026002</td>\n",
       "      <td>R755</td>\n",
       "      <td>2023-09-29 08:17:01</td>\n",
       "    </tr>\n",
       "  </tbody>\n",
       "</table>\n",
       "</div>"
      ],
      "text/plain": [
       "0           KNR STATUS                DATA\n",
       "0  2023-4026002   R600 2023-09-29 07:14:44\n",
       "1  2023-4026002   R700 2023-09-29 07:38:47\n",
       "2  2023-4026002   R725 2023-09-29 07:53:00\n",
       "3  2023-4026002   R750 2023-09-29 08:16:23\n",
       "4  2023-4026002   R755 2023-09-29 08:17:01"
      ]
     },
     "execution_count": 17,
     "metadata": {},
     "output_type": "execute_result"
    }
   ],
   "source": [
    "df2 = df_status_predictor['Relatório 1(1)']\n",
    "\n",
    "df2.drop(df2.columns[0], axis=1, inplace=True)\n",
    "linha_extra = df2.columns\n",
    "df2.loc[-1] = linha_extra\n",
    "df2.index = df2.index + 1\n",
    "df2 = df2.sort_index()\n",
    "df2.columns = colunas\n",
    "\n",
    "df2.head()"
   ]
  },
  {
   "cell_type": "markdown",
   "metadata": {},
   "source": [
    "Tratamento da terceira página"
   ]
  },
  {
   "cell_type": "code",
   "execution_count": 18,
   "metadata": {},
   "outputs": [
    {
     "data": {
      "text/html": [
       "<div>\n",
       "<style scoped>\n",
       "    .dataframe tbody tr th:only-of-type {\n",
       "        vertical-align: middle;\n",
       "    }\n",
       "\n",
       "    .dataframe tbody tr th {\n",
       "        vertical-align: top;\n",
       "    }\n",
       "\n",
       "    .dataframe thead th {\n",
       "        text-align: right;\n",
       "    }\n",
       "</style>\n",
       "<table border=\"1\" class=\"dataframe\">\n",
       "  <thead>\n",
       "    <tr style=\"text-align: right;\">\n",
       "      <th></th>\n",
       "      <th>KNR</th>\n",
       "      <th>STATUS</th>\n",
       "      <th>DATA</th>\n",
       "    </tr>\n",
       "  </thead>\n",
       "  <tbody>\n",
       "    <tr>\n",
       "      <th>0</th>\n",
       "      <td>2024-0346154</td>\n",
       "      <td>A600</td>\n",
       "      <td>2024-01-15 11:11:44</td>\n",
       "    </tr>\n",
       "    <tr>\n",
       "      <th>1</th>\n",
       "      <td>2024-0346154</td>\n",
       "      <td>R100</td>\n",
       "      <td>2024-01-15 11:11:45</td>\n",
       "    </tr>\n",
       "    <tr>\n",
       "      <th>2</th>\n",
       "      <td>2024-0346154</td>\n",
       "      <td>R120</td>\n",
       "      <td>2024-01-15 14:08:31</td>\n",
       "    </tr>\n",
       "    <tr>\n",
       "      <th>3</th>\n",
       "      <td>2024-0346154</td>\n",
       "      <td>R480</td>\n",
       "      <td>2024-01-15 16:47:47</td>\n",
       "    </tr>\n",
       "    <tr>\n",
       "      <th>4</th>\n",
       "      <td>2024-0346154</td>\n",
       "      <td>R600</td>\n",
       "      <td>2024-01-15 17:10:14</td>\n",
       "    </tr>\n",
       "  </tbody>\n",
       "</table>\n",
       "</div>"
      ],
      "text/plain": [
       "0           KNR STATUS                DATA\n",
       "0  2024-0346154   A600 2024-01-15 11:11:44\n",
       "1  2024-0346154   R100 2024-01-15 11:11:45\n",
       "2  2024-0346154   R120 2024-01-15 14:08:31\n",
       "3  2024-0346154   R480 2024-01-15 16:47:47\n",
       "4  2024-0346154   R600 2024-01-15 17:10:14"
      ]
     },
     "execution_count": 18,
     "metadata": {},
     "output_type": "execute_result"
    }
   ],
   "source": [
    "df3 = df_status_predictor['Relatório 1(2)']\n",
    "\n",
    "df3.drop(df3.columns[0], axis=1, inplace=True)\n",
    "linha_extra = df3.columns\n",
    "df3.loc[-1] = linha_extra\n",
    "df3.index = df3.index + 1\n",
    "df3 = df3.sort_index()\n",
    "df3.columns = colunas\n",
    "\n",
    "df3.head()"
   ]
  },
  {
   "cell_type": "markdown",
   "metadata": {},
   "source": [
    "Tratamento da quarta página"
   ]
  },
  {
   "cell_type": "code",
   "execution_count": 19,
   "metadata": {},
   "outputs": [
    {
     "data": {
      "text/html": [
       "<div>\n",
       "<style scoped>\n",
       "    .dataframe tbody tr th:only-of-type {\n",
       "        vertical-align: middle;\n",
       "    }\n",
       "\n",
       "    .dataframe tbody tr th {\n",
       "        vertical-align: top;\n",
       "    }\n",
       "\n",
       "    .dataframe thead th {\n",
       "        text-align: right;\n",
       "    }\n",
       "</style>\n",
       "<table border=\"1\" class=\"dataframe\">\n",
       "  <thead>\n",
       "    <tr style=\"text-align: right;\">\n",
       "      <th></th>\n",
       "      <th>KNR</th>\n",
       "      <th>STATUS</th>\n",
       "      <th>DATA</th>\n",
       "    </tr>\n",
       "  </thead>\n",
       "  <tbody>\n",
       "    <tr>\n",
       "      <th>0</th>\n",
       "      <td>2024-1556203</td>\n",
       "      <td>R800</td>\n",
       "      <td>2024-04-10 19:03:20</td>\n",
       "    </tr>\n",
       "    <tr>\n",
       "      <th>1</th>\n",
       "      <td>2024-1556203</td>\n",
       "      <td>L100</td>\n",
       "      <td>2024-04-10 19:22:19</td>\n",
       "    </tr>\n",
       "    <tr>\n",
       "      <th>2</th>\n",
       "      <td>2024-1556203</td>\n",
       "      <td>L150</td>\n",
       "      <td>2024-04-11 06:57:33</td>\n",
       "    </tr>\n",
       "    <tr>\n",
       "      <th>3</th>\n",
       "      <td>2024-1556203</td>\n",
       "      <td>L151</td>\n",
       "      <td>2024-04-11 07:24:16</td>\n",
       "    </tr>\n",
       "    <tr>\n",
       "      <th>4</th>\n",
       "      <td>2024-1556203</td>\n",
       "      <td>L161</td>\n",
       "      <td>2024-04-11 08:18:50</td>\n",
       "    </tr>\n",
       "  </tbody>\n",
       "</table>\n",
       "</div>"
      ],
      "text/plain": [
       "0           KNR STATUS                DATA\n",
       "0  2024-1556203   R800 2024-04-10 19:03:20\n",
       "1  2024-1556203   L100 2024-04-10 19:22:19\n",
       "2  2024-1556203   L150 2024-04-11 06:57:33\n",
       "3  2024-1556203   L151 2024-04-11 07:24:16\n",
       "4  2024-1556203   L161 2024-04-11 08:18:50"
      ]
     },
     "execution_count": 19,
     "metadata": {},
     "output_type": "execute_result"
    }
   ],
   "source": [
    "df4 = df_status_predictor['Relatório 1(3)']\n",
    "\n",
    "df4.drop(df4.columns[0], axis=1, inplace=True)\n",
    "linha_extra = df4.columns\n",
    "df4.loc[-1] = linha_extra\n",
    "df4.index = df4.index + 1\n",
    "df4 = df4.sort_index()\n",
    "df4.columns = colunas\n",
    "\n",
    "df4.head()"
   ]
  },
  {
   "cell_type": "markdown",
   "metadata": {},
   "source": [
    "Tratamento da quinta página"
   ]
  },
  {
   "cell_type": "code",
   "execution_count": 20,
   "metadata": {},
   "outputs": [
    {
     "data": {
      "text/html": [
       "<div>\n",
       "<style scoped>\n",
       "    .dataframe tbody tr th:only-of-type {\n",
       "        vertical-align: middle;\n",
       "    }\n",
       "\n",
       "    .dataframe tbody tr th {\n",
       "        vertical-align: top;\n",
       "    }\n",
       "\n",
       "    .dataframe thead th {\n",
       "        text-align: right;\n",
       "    }\n",
       "</style>\n",
       "<table border=\"1\" class=\"dataframe\">\n",
       "  <thead>\n",
       "    <tr style=\"text-align: right;\">\n",
       "      <th></th>\n",
       "      <th>KNR</th>\n",
       "      <th>STATUS</th>\n",
       "      <th>DATA</th>\n",
       "    </tr>\n",
       "  </thead>\n",
       "  <tbody>\n",
       "    <tr>\n",
       "      <th>0</th>\n",
       "      <td>2024-2536233</td>\n",
       "      <td>G710</td>\n",
       "      <td>2024-06-14 17:36:53</td>\n",
       "    </tr>\n",
       "    <tr>\n",
       "      <th>1</th>\n",
       "      <td>2024-2536233</td>\n",
       "      <td>G720</td>\n",
       "      <td>2024-06-14 17:52:45</td>\n",
       "    </tr>\n",
       "    <tr>\n",
       "      <th>2</th>\n",
       "      <td>2024-2536233</td>\n",
       "      <td>G800</td>\n",
       "      <td>2024-06-14 18:07:32</td>\n",
       "    </tr>\n",
       "    <tr>\n",
       "      <th>3</th>\n",
       "      <td>2024-2536234</td>\n",
       "      <td>A600</td>\n",
       "      <td>2024-06-11 21:02:08</td>\n",
       "    </tr>\n",
       "    <tr>\n",
       "      <th>4</th>\n",
       "      <td>2024-2536234</td>\n",
       "      <td>R100</td>\n",
       "      <td>2024-06-11 21:02:09</td>\n",
       "    </tr>\n",
       "  </tbody>\n",
       "</table>\n",
       "</div>"
      ],
      "text/plain": [
       "0           KNR STATUS                DATA\n",
       "0  2024-2536233   G710 2024-06-14 17:36:53\n",
       "1  2024-2536233   G720 2024-06-14 17:52:45\n",
       "2  2024-2536233   G800 2024-06-14 18:07:32\n",
       "3  2024-2536234   A600 2024-06-11 21:02:08\n",
       "4  2024-2536234   R100 2024-06-11 21:02:09"
      ]
     },
     "execution_count": 20,
     "metadata": {},
     "output_type": "execute_result"
    }
   ],
   "source": [
    "df5 = df_status_predictor['Relatório 1(4)']\n",
    "\n",
    "df5.drop(df5.columns[0], axis=1, inplace=True)\n",
    "linha_extra = df5.columns\n",
    "df5.loc[-1] = linha_extra\n",
    "df5.index = df5.index + 1\n",
    "df5 = df5.sort_index()\n",
    "df5.columns = colunas\n",
    "\n",
    "df5.head()"
   ]
  },
  {
   "cell_type": "code",
   "execution_count": 21,
   "metadata": {},
   "outputs": [
    {
     "data": {
      "text/plain": [
       "(4347980, 3)"
      ]
     },
     "execution_count": 21,
     "metadata": {},
     "output_type": "execute_result"
    }
   ],
   "source": [
    "# junção de todas as páginas em um único Dataframe\n",
    "df_status_predict_tratado = pd.concat([df1, df2, df3, df4, df5], ignore_index=True)\n",
    "df_status_predict_tratado.shape"
   ]
  },
  {
   "cell_type": "code",
   "execution_count": 22,
   "metadata": {},
   "outputs": [],
   "source": [
    "# salva os dados tratados em um csv\n",
    "df_status_predict_tratado.to_csv('STATUS_PREDICT_TRATADO.csv')"
   ]
  },
  {
   "cell_type": "markdown",
   "metadata": {},
   "source": [
    "### Falhas"
   ]
  },
  {
   "cell_type": "code",
   "execution_count": 23,
   "metadata": {},
   "outputs": [
    {
     "name": "stderr",
     "output_type": "stream",
     "text": [
      "/home/rafa/.local/lib/python3.10/site-packages/openpyxl/styles/stylesheet.py:237: UserWarning: Workbook contains no default style, apply openpyxl's default\n",
      "  warn(\"Workbook contains no default style, apply openpyxl's default\")\n"
     ]
    }
   ],
   "source": [
    "df_falhas = pd.read_excel('FALHAS_04_05_06_2024.xlsx')"
   ]
  },
  {
   "cell_type": "code",
   "execution_count": 24,
   "metadata": {},
   "outputs": [
    {
     "data": {
      "text/html": [
       "<div>\n",
       "<style scoped>\n",
       "    .dataframe tbody tr th:only-of-type {\n",
       "        vertical-align: middle;\n",
       "    }\n",
       "\n",
       "    .dataframe tbody tr th {\n",
       "        vertical-align: top;\n",
       "    }\n",
       "\n",
       "    .dataframe thead th {\n",
       "        text-align: right;\n",
       "    }\n",
       "</style>\n",
       "<table border=\"1\" class=\"dataframe\">\n",
       "  <thead>\n",
       "    <tr style=\"text-align: right;\">\n",
       "      <th></th>\n",
       "      <th>Unnamed: 0</th>\n",
       "      <th>Unnamed: 1</th>\n",
       "      <th>Unnamed: 2</th>\n",
       "      <th>Unnamed: 3</th>\n",
       "      <th>Unnamed: 4</th>\n",
       "      <th>Unnamed: 5</th>\n",
       "      <th>Unnamed: 6</th>\n",
       "      <th>Unnamed: 7</th>\n",
       "      <th>Unnamed: 8</th>\n",
       "      <th>Unnamed: 9</th>\n",
       "    </tr>\n",
       "  </thead>\n",
       "  <tbody>\n",
       "    <tr>\n",
       "      <th>0</th>\n",
       "      <td>NaN</td>\n",
       "      <td>KNR</td>\n",
       "      <td>MODELO</td>\n",
       "      <td>COR</td>\n",
       "      <td>MOTOR</td>\n",
       "      <td>ESTACAO</td>\n",
       "      <td>USUARIO</td>\n",
       "      <td>HALLE</td>\n",
       "      <td>FALHA</td>\n",
       "      <td>DATA</td>\n",
       "    </tr>\n",
       "    <tr>\n",
       "      <th>1</th>\n",
       "      <td>NaN</td>\n",
       "      <td>2023-2056234</td>\n",
       "      <td>T-CROSS</td>\n",
       "      <td>2R2R</td>\n",
       "      <td>DHS</td>\n",
       "      <td>HCEQS506</td>\n",
       "      <td>4013334</td>\n",
       "      <td>ZP7</td>\n",
       "      <td>PARALAMA DIANTEIRO 01. AMASSADO</td>\n",
       "      <td>2024-05-20 21:31:51.992000</td>\n",
       "    </tr>\n",
       "    <tr>\n",
       "      <th>2</th>\n",
       "      <td>NaN</td>\n",
       "      <td>2023-2056234</td>\n",
       "      <td>T-CROSS</td>\n",
       "      <td>2R2R</td>\n",
       "      <td>DHS</td>\n",
       "      <td>HCEQS506</td>\n",
       "      <td>4013334</td>\n",
       "      <td>ZP7</td>\n",
       "      <td>PORTA TRASEIRA 04. CAROÇO / PICO</td>\n",
       "      <td>2024-05-20 21:30:22.772000</td>\n",
       "    </tr>\n",
       "    <tr>\n",
       "      <th>3</th>\n",
       "      <td>NaN</td>\n",
       "      <td>2023-2056234</td>\n",
       "      <td>T-CROSS</td>\n",
       "      <td>2R2R</td>\n",
       "      <td>DHS</td>\n",
       "      <td>PCEQS620</td>\n",
       "      <td>2058570</td>\n",
       "      <td>ZP6</td>\n",
       "      <td>MÓDULO DO ACC (13) PEÇA INCORRETA ¨</td>\n",
       "      <td>2024-05-20 20:04:55.534000</td>\n",
       "    </tr>\n",
       "    <tr>\n",
       "      <th>4</th>\n",
       "      <td>NaN</td>\n",
       "      <td>2023-2056234</td>\n",
       "      <td>T-CROSS</td>\n",
       "      <td>2R2R</td>\n",
       "      <td>DHS</td>\n",
       "      <td>PCEQS999</td>\n",
       "      <td>2087715</td>\n",
       "      <td>ESPC</td>\n",
       "      <td>TAMPA TRASEIRA 05. SUJEIRA NA PINTURA</td>\n",
       "      <td>2024-04-11 12:15:39.616000</td>\n",
       "    </tr>\n",
       "  </tbody>\n",
       "</table>\n",
       "</div>"
      ],
      "text/plain": [
       "   Unnamed: 0    Unnamed: 1 Unnamed: 2 Unnamed: 3 Unnamed: 4 Unnamed: 5  \\\n",
       "0         NaN           KNR     MODELO        COR      MOTOR    ESTACAO   \n",
       "1         NaN  2023-2056234    T-CROSS       2R2R        DHS   HCEQS506   \n",
       "2         NaN  2023-2056234    T-CROSS       2R2R        DHS   HCEQS506   \n",
       "3         NaN  2023-2056234    T-CROSS       2R2R        DHS   PCEQS620   \n",
       "4         NaN  2023-2056234    T-CROSS       2R2R        DHS   PCEQS999   \n",
       "\n",
       "  Unnamed: 6 Unnamed: 7                             Unnamed: 8  \\\n",
       "0    USUARIO      HALLE                                  FALHA   \n",
       "1    4013334       ZP7         PARALAMA DIANTEIRO 01. AMASSADO   \n",
       "2    4013334       ZP7        PORTA TRASEIRA 04. CAROÇO / PICO   \n",
       "3    2058570       ZP6     MÓDULO DO ACC (13) PEÇA INCORRETA ¨   \n",
       "4    2087715       ESPC  TAMPA TRASEIRA 05. SUJEIRA NA PINTURA   \n",
       "\n",
       "                   Unnamed: 9  \n",
       "0                        DATA  \n",
       "1  2024-05-20 21:31:51.992000  \n",
       "2  2024-05-20 21:30:22.772000  \n",
       "3  2024-05-20 20:04:55.534000  \n",
       "4  2024-04-11 12:15:39.616000  "
      ]
     },
     "execution_count": 24,
     "metadata": {},
     "output_type": "execute_result"
    }
   ],
   "source": [
    "df_falhas.head()"
   ]
  },
  {
   "cell_type": "code",
   "execution_count": 25,
   "metadata": {},
   "outputs": [
    {
     "data": {
      "text/plain": [
       "(328902, 10)"
      ]
     },
     "execution_count": 25,
     "metadata": {},
     "output_type": "execute_result"
    }
   ],
   "source": [
    "df_falhas.shape"
   ]
  },
  {
   "cell_type": "code",
   "execution_count": 26,
   "metadata": {},
   "outputs": [],
   "source": [
    "df_falhas.drop(df_falhas.columns[0], axis=1, inplace=True)\n",
    "\n",
    "colunas = df_falhas.iloc[0]\n",
    "df_falhas = df_falhas[1:]\n",
    "df_falhas.columns = colunas"
   ]
  },
  {
   "cell_type": "code",
   "execution_count": 27,
   "metadata": {},
   "outputs": [
    {
     "data": {
      "text/html": [
       "<div>\n",
       "<style scoped>\n",
       "    .dataframe tbody tr th:only-of-type {\n",
       "        vertical-align: middle;\n",
       "    }\n",
       "\n",
       "    .dataframe tbody tr th {\n",
       "        vertical-align: top;\n",
       "    }\n",
       "\n",
       "    .dataframe thead th {\n",
       "        text-align: right;\n",
       "    }\n",
       "</style>\n",
       "<table border=\"1\" class=\"dataframe\">\n",
       "  <thead>\n",
       "    <tr style=\"text-align: right;\">\n",
       "      <th></th>\n",
       "      <th>KNR</th>\n",
       "      <th>MODELO</th>\n",
       "      <th>COR</th>\n",
       "      <th>MOTOR</th>\n",
       "      <th>ESTACAO</th>\n",
       "      <th>USUARIO</th>\n",
       "      <th>HALLE</th>\n",
       "      <th>FALHA</th>\n",
       "      <th>DATA</th>\n",
       "    </tr>\n",
       "  </thead>\n",
       "  <tbody>\n",
       "    <tr>\n",
       "      <th>1</th>\n",
       "      <td>2023-2056234</td>\n",
       "      <td>T-CROSS</td>\n",
       "      <td>2R2R</td>\n",
       "      <td>DHS</td>\n",
       "      <td>HCEQS506</td>\n",
       "      <td>4013334</td>\n",
       "      <td>ZP7</td>\n",
       "      <td>PARALAMA DIANTEIRO 01. AMASSADO</td>\n",
       "      <td>2024-05-20 21:31:51.992000</td>\n",
       "    </tr>\n",
       "    <tr>\n",
       "      <th>2</th>\n",
       "      <td>2023-2056234</td>\n",
       "      <td>T-CROSS</td>\n",
       "      <td>2R2R</td>\n",
       "      <td>DHS</td>\n",
       "      <td>HCEQS506</td>\n",
       "      <td>4013334</td>\n",
       "      <td>ZP7</td>\n",
       "      <td>PORTA TRASEIRA 04. CAROÇO / PICO</td>\n",
       "      <td>2024-05-20 21:30:22.772000</td>\n",
       "    </tr>\n",
       "    <tr>\n",
       "      <th>3</th>\n",
       "      <td>2023-2056234</td>\n",
       "      <td>T-CROSS</td>\n",
       "      <td>2R2R</td>\n",
       "      <td>DHS</td>\n",
       "      <td>PCEQS620</td>\n",
       "      <td>2058570</td>\n",
       "      <td>ZP6</td>\n",
       "      <td>MÓDULO DO ACC (13) PEÇA INCORRETA ¨</td>\n",
       "      <td>2024-05-20 20:04:55.534000</td>\n",
       "    </tr>\n",
       "    <tr>\n",
       "      <th>4</th>\n",
       "      <td>2023-2056234</td>\n",
       "      <td>T-CROSS</td>\n",
       "      <td>2R2R</td>\n",
       "      <td>DHS</td>\n",
       "      <td>PCEQS999</td>\n",
       "      <td>2087715</td>\n",
       "      <td>ESPC</td>\n",
       "      <td>TAMPA TRASEIRA 05. SUJEIRA NA PINTURA</td>\n",
       "      <td>2024-04-11 12:15:39.616000</td>\n",
       "    </tr>\n",
       "    <tr>\n",
       "      <th>5</th>\n",
       "      <td>2023-3896001</td>\n",
       "      <td>T-CROSS</td>\n",
       "      <td>0Q0Q</td>\n",
       "      <td></td>\n",
       "      <td>HCEQS203</td>\n",
       "      <td>2043971</td>\n",
       "      <td>ZP5A</td>\n",
       "      <td>TAMPA DIANTEIRA 05. SUJEIRA NA PINTURA</td>\n",
       "      <td>2024-06-05 17:38:51.565000</td>\n",
       "    </tr>\n",
       "  </tbody>\n",
       "</table>\n",
       "</div>"
      ],
      "text/plain": [
       "0           KNR   MODELO   COR MOTOR   ESTACAO  USUARIO HALLE  \\\n",
       "1  2023-2056234  T-CROSS  2R2R   DHS  HCEQS506  4013334  ZP7    \n",
       "2  2023-2056234  T-CROSS  2R2R   DHS  HCEQS506  4013334  ZP7    \n",
       "3  2023-2056234  T-CROSS  2R2R   DHS  PCEQS620  2058570  ZP6    \n",
       "4  2023-2056234  T-CROSS  2R2R   DHS  PCEQS999  2087715  ESPC   \n",
       "5  2023-3896001  T-CROSS  0Q0Q        HCEQS203  2043971  ZP5A   \n",
       "\n",
       "0                                   FALHA                        DATA  \n",
       "1         PARALAMA DIANTEIRO 01. AMASSADO  2024-05-20 21:31:51.992000  \n",
       "2        PORTA TRASEIRA 04. CAROÇO / PICO  2024-05-20 21:30:22.772000  \n",
       "3     MÓDULO DO ACC (13) PEÇA INCORRETA ¨  2024-05-20 20:04:55.534000  \n",
       "4   TAMPA TRASEIRA 05. SUJEIRA NA PINTURA  2024-04-11 12:15:39.616000  \n",
       "5  TAMPA DIANTEIRA 05. SUJEIRA NA PINTURA  2024-06-05 17:38:51.565000  "
      ]
     },
     "execution_count": 27,
     "metadata": {},
     "output_type": "execute_result"
    }
   ],
   "source": [
    "df_falhas.head()"
   ]
  },
  {
   "cell_type": "code",
   "execution_count": 28,
   "metadata": {},
   "outputs": [],
   "source": [
    "df_falhas.to_csv('FALHAS_TRATADO.csv')"
   ]
  }
 ],
 "metadata": {
  "kernelspec": {
   "display_name": "Python 3",
   "language": "python",
   "name": "python3"
  },
  "language_info": {
   "codemirror_mode": {
    "name": "ipython",
    "version": 3
   },
   "file_extension": ".py",
   "mimetype": "text/x-python",
   "name": "python",
   "nbconvert_exporter": "python",
   "pygments_lexer": "ipython3",
   "version": "3.10.12"
  }
 },
 "nbformat": 4,
 "nbformat_minor": 2
}
