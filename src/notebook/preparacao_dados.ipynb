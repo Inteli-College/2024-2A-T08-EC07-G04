{
 "cells": [
  {
   "cell_type": "code",
   "execution_count": null,
   "metadata": {},
   "outputs": [],
   "source": [
    "import pandas as pd\n"
   ]
  },
  {
   "cell_type": "code",
   "execution_count": null,
   "metadata": {},
   "outputs": [],
   "source": [
    "Resultados8 = pd.read_excel(\"../static/RESULTADOS_08_2023_09_2023.xlsx\", sheet_name=None)\n",
    "\n",
    "Resultados8"
   ]
  },
  {
   "cell_type": "code",
   "execution_count": null,
   "metadata": {},
   "outputs": [],
   "source": [
    "planilhas = []\n",
    "for planilha,df in Resultados8.items():\n",
    "    planilhas.append(planilha)\n",
    "    print(planilha)"
   ]
  },
  {
   "cell_type": "code",
   "execution_count": null,
   "metadata": {},
   "outputs": [],
   "source": [
    "prime = Resultados8['Relatório 1']\n",
    "prime.head()"
   ]
  },
  {
   "cell_type": "code",
   "execution_count": null,
   "metadata": {},
   "outputs": [],
   "source": [
    "prime.drop(prime.columns[0], axis=1, inplace=True)\n",
    "# Pega a primeira linha e coloca ela como as colunas do DataFrame\n",
    "colunas = prime.iloc[0]\n",
    "# Pega todos os dados sem a primeira linha\n",
    "prime = prime[1:]\n",
    "# Pega a primeira linha e coloca ela como as colunas do DataFrame\n",
    "colunas = prime.iloc[0]\n",
    "# Pega todos os dados sem a primeira linha\n",
    "prime = prime[1:]\n",
    "# Pega a primeira linha e coloca ela como as colunas do DataFrame\n",
    "colunas = prime.iloc[0]\n",
    "# Pega todos os dados sem a primeira linha\n",
    "prime = prime[1:]\n",
    "#Atualiza as linhas\n",
    "prime.columns = colunas"
   ]
  },
  {
   "cell_type": "code",
   "execution_count": null,
   "metadata": {},
   "outputs": [],
   "source": [
    "lista = ['Relatório 1(1)',\n",
    "'Relatório 1(2)',\n",
    "'Relatório 1(3)',\n",
    "'Relatório 1(4)',\n",
    "'Relatório 1(5)',\n",
    "'Relatório 1(6)',\n",
    "'Relatório 1(7)',\n",
    "'Relatório 1(8)',\n",
    "'Relatório 1(9)',\n",
    "'Relatório 1(10)']"
   ]
  },
  {
   "cell_type": "code",
   "execution_count": null,
   "metadata": {},
   "outputs": [],
   "source": [
    "dfs = {}\n",
    "for atual_df in lista:\n",
    "    dfs[atual_df] = None\n",
    "for atual_df in lista:\n",
    "    # Preparando os demais dataframes\n",
    "    dfs[atual_df] = Resultados8[atual_df]\n",
    "    # Remover a primeira coluna\n",
    "    dfs[atual_df].drop(dfs[atual_df].columns[0], axis=1, inplace=True)\n",
    "    # Pega a primeira linha e coloca ela como dados do DataFrame\n",
    "    linha_extra = dfs[atual_df].columns\n",
    "    # Pega todos os dados sem a primeira linha\n",
    "    dfs[atual_df].loc[-1] = linha_extra\n",
    "    # Ajusta os indices\n",
    "    dfs[atual_df].index = dfs[atual_df].index + 1\n",
    "    dfs[atual_df] = dfs[atual_df].sort_index()\n",
    "    #Atualiza as linhas\n",
    "    dfs[atual_df].columns = colunas"
   ]
  },
  {
   "cell_type": "code",
   "execution_count": null,
   "metadata": {},
   "outputs": [],
   "source": [
    "uniao = prime\n",
    "for atual_df in lista:\n",
    "    uniao = pd.concat([uniao, dfs[atual_df]], ignore_index=True)"
   ]
  },
  {
   "cell_type": "code",
   "execution_count": null,
   "metadata": {},
   "outputs": [],
   "source": [
    "uniao"
   ]
  },
  {
   "cell_type": "code",
   "execution_count": null,
   "metadata": {},
   "outputs": [],
   "source": [
    "uniao.to_csv('../static/RESULTADOS_08_2023_09_2023_juntados.csv')"
   ]
  },
  {
   "cell_type": "code",
   "execution_count": null,
   "metadata": {},
   "outputs": [],
   "source": [
    "Resultados2 = pd.read_excel(\"../static/RESULTADOS_02_03_2024.xlsx\", sheet_name=None)\n",
    "\n",
    "Resultados2"
   ]
  },
  {
   "cell_type": "code",
   "execution_count": null,
   "metadata": {},
   "outputs": [],
   "source": [
    "planilhas = []\n",
    "for planilha,df in Resultados2.items():\n",
    "    planilhas.append(planilha)\n",
    "    print(planilha)"
   ]
  },
  {
   "cell_type": "code",
   "execution_count": null,
   "metadata": {},
   "outputs": [],
   "source": [
    "prime = Resultados2['Relatório 1']\n",
    "prime.head()"
   ]
  },
  {
   "cell_type": "code",
   "execution_count": null,
   "metadata": {},
   "outputs": [],
   "source": [
    "prime.drop(prime.columns[0], axis=1, inplace=True)\n",
    "# Pega a primeira linha e coloca ela como as colunas do DataFrame\n",
    "colunas = prime.iloc[0]\n",
    "# Pega todos os dados sem a primeira linha\n",
    "prime = prime[1:]\n",
    "#Atualiza as linhas\n",
    "prime.columns = colunas\n",
    "prime.head()"
   ]
  },
  {
   "cell_type": "code",
   "execution_count": null,
   "metadata": {},
   "outputs": [],
   "source": [
    "lista = ['Relatório 1(1)',\n",
    "'Relatório 1(2)',\n",
    "'Relatório 1(3)',\n",
    "'Relatório 1(4)',\n",
    "'Relatório 1(5)',\n",
    "'Relatório 1(6)',\n",
    "'Relatório 1(7)',\n",
    "'Relatório 1(8)',\n",
    "'Relatório 1(9)',\n",
    "'Relatório 1(10)']"
   ]
  },
  {
   "cell_type": "code",
   "execution_count": null,
   "metadata": {},
   "outputs": [],
   "source": [
    "dfs = {}\n",
    "for atual_df in lista:\n",
    "    dfs[atual_df] = None\n",
    "for atual_df in lista:\n",
    "    # Preparando os demais dataframes\n",
    "    dfs[atual_df] = Resultados2[atual_df]\n",
    "    # Remover a primeira coluna\n",
    "    dfs[atual_df].drop(dfs[atual_df].columns[0], axis=1, inplace=True)\n",
    "    # Pega a primeira linha e coloca ela como dados do DataFrame\n",
    "    linha_extra = dfs[atual_df].columns\n",
    "    # Pega todos os dados sem a primeira linha\n",
    "    dfs[atual_df].loc[-1] = linha_extra\n",
    "    # Ajusta os indices\n",
    "    dfs[atual_df].index = dfs[atual_df].index + 1\n",
    "    dfs[atual_df] = dfs[atual_df].sort_index()\n",
    "    #Atualiza as linhas\n",
    "    dfs[atual_df].columns = colunas"
   ]
  },
  {
   "cell_type": "code",
   "execution_count": null,
   "metadata": {},
   "outputs": [],
   "source": [
    "uniao = prime\n",
    "for atual_df in lista:\n",
    "    uniao = pd.concat([uniao, dfs[atual_df]], ignore_index=True)"
   ]
  },
  {
   "cell_type": "code",
   "execution_count": null,
   "metadata": {},
   "outputs": [],
   "source": [
    "uniao.to_csv('../static/RESULTADOS_02_03_2024_juntados.csv')"
   ]
  },
  {
   "cell_type": "code",
   "execution_count": null,
   "metadata": {},
   "outputs": [],
   "source": [
    "Resultados4 = pd.read_excel(\"../static/RESULTADOS_04_06_2024.xlsx\", sheet_name=None)\n",
    "\n",
    "Resultados4"
   ]
  },
  {
   "cell_type": "code",
   "execution_count": null,
   "metadata": {},
   "outputs": [],
   "source": [
    "planilhas = []\n",
    "for planilha,df in Resultados4.items():\n",
    "    planilhas.append(planilha)\n",
    "    print(planilha)"
   ]
  },
  {
   "cell_type": "code",
   "execution_count": null,
   "metadata": {},
   "outputs": [],
   "source": [
    "prime = Resultados4['Relatório 1']\n",
    "prime.head()"
   ]
  },
  {
   "cell_type": "code",
   "execution_count": null,
   "metadata": {},
   "outputs": [],
   "source": [
    "prime.drop(prime.columns[0], axis=1, inplace=True)\n",
    "# Pega a primeira linha e coloca ela como as colunas do DataFrame\n",
    "colunas = prime.iloc[0]\n",
    "# Pega todos os dados sem a primeira linha\n",
    "prime = prime[1:]\n",
    "#Atualiza as linhas\n",
    "prime.columns = colunas\n",
    "prime.head()"
   ]
  },
  {
   "cell_type": "code",
   "execution_count": null,
   "metadata": {},
   "outputs": [],
   "source": [
    "lista = ['Relatório 1(1)',\n",
    "'Relatório 1(2)',\n",
    "'Relatório 1(3)',\n",
    "'Relatório 1(4)',\n",
    "'Relatório 1(5)',\n",
    "'Relatório 1(6)',\n",
    "'Relatório 1(7)',\n",
    "'Relatório 1(8)',\n",
    "'Relatório 1(9)',\n",
    "'Relatório 1(10)',\n",
    "'Relatório 1(11)',\n",
    "'Relatório 1(12)',\n",
    "'Relatório 1(13)',\n",
    "'Relatório 1(14)',\n",
    "'Relatório 1(15)',\n",
    "'Relatório 1(16)',\n",
    "'Relatório 1(17)',\n",
    "'Relatório 1(18)',\n",
    "'Relatório 1(19)',\n",
    "'Relatório 1(20)']"
   ]
  },
  {
   "cell_type": "code",
   "execution_count": null,
   "metadata": {},
   "outputs": [],
   "source": [
    "dfs = {}\n",
    "for atual_df in lista:\n",
    "    dfs[atual_df] = None\n",
    "for atual_df in lista:\n",
    "    # Preparando os demais dataframes\n",
    "    dfs[atual_df] = Resultados4[atual_df]\n",
    "    # Remover a primeira coluna\n",
    "    dfs[atual_df].drop(dfs[atual_df].columns[0], axis=1, inplace=True)\n",
    "    # Pega a primeira linha e coloca ela como dados do DataFrame\n",
    "    linha_extra = dfs[atual_df].columns\n",
    "    # Pega todos os dados sem a primeira linha\n",
    "    dfs[atual_df].loc[-1] = linha_extra\n",
    "    # Ajusta os indices\n",
    "    dfs[atual_df].index = dfs[atual_df].index + 1\n",
    "    dfs[atual_df] = dfs[atual_df].sort_index()\n",
    "    #Atualiza as linhas\n",
    "    dfs[atual_df].columns = colunas"
   ]
  },
  {
   "cell_type": "code",
   "execution_count": null,
   "metadata": {},
   "outputs": [],
   "source": [
    "uniao = prime\n",
    "for atual_df in lista:\n",
    "    uniao = pd.concat([uniao, dfs[atual_df]], ignore_index=True)"
   ]
  },
  {
   "cell_type": "code",
   "execution_count": null,
   "metadata": {},
   "outputs": [],
   "source": [
    "uniao.to_csv('../static/RESULTADOS_04_06_2024_juntados.csv')"
   ]
  },
  {
   "cell_type": "code",
   "execution_count": null,
   "metadata": {},
   "outputs": [],
   "source": [
    "Resultados6 = pd.read_excel(\"../static/RESULTADOS_06_2023_07_2023.xlsx\", sheet_name=None)\n",
    "\n",
    "Resultados6"
   ]
  },
  {
   "cell_type": "code",
   "execution_count": null,
   "metadata": {},
   "outputs": [],
   "source": [
    "planilhas = []\n",
    "for planilha,df in Resultados6.items():\n",
    "    planilhas.append(planilha)\n",
    "    print(planilha)"
   ]
  },
  {
   "cell_type": "code",
   "execution_count": null,
   "metadata": {},
   "outputs": [],
   "source": [
    "prime = Resultados6['Relatório 1']\n",
    "prime.head()"
   ]
  },
  {
   "cell_type": "code",
   "execution_count": null,
   "metadata": {},
   "outputs": [],
   "source": [
    "prime.drop(prime.columns[0], axis=1, inplace=True)\n",
    "# Pega a primeira linha e coloca ela como as colunas do DataFrame\n",
    "colunas = prime.iloc[0]\n",
    "# Pega todos os dados sem a primeira linha\n",
    "prime = prime[1:]\n",
    "#Atualiza as linhas\n",
    "prime.columns = colunas\n",
    "prime.head()"
   ]
  },
  {
   "cell_type": "code",
   "execution_count": null,
   "metadata": {},
   "outputs": [],
   "source": [
    "lista = ['Relatório 1(1)',\n",
    "'Relatório 1(2)',\n",
    "'Relatório 1(3)',\n",
    "'Relatório 1(4)',\n",
    "'Relatório 1(5)',\n",
    "'Relatório 1(6)',\n",
    "'Relatório 1(7)',\n",
    "'Relatório 1(8)',\n",
    "'Relatório 1(9)',\n",
    "'Relatório 1(10)',]"
   ]
  },
  {
   "cell_type": "code",
   "execution_count": null,
   "metadata": {},
   "outputs": [],
   "source": [
    "dfs = {}\n",
    "for atual_df in lista:\n",
    "    dfs[atual_df] = None\n",
    "for atual_df in lista:\n",
    "    # Preparando os demais dataframes\n",
    "    dfs[atual_df] = Resultados6[atual_df]\n",
    "    # Remover a primeira coluna\n",
    "    dfs[atual_df].drop(dfs[atual_df].columns[0], axis=1, inplace=True)\n",
    "    # Pega a primeira linha e coloca ela como dados do DataFrame\n",
    "    linha_extra = dfs[atual_df].columns\n",
    "    # Pega todos os dados sem a primeira linha\n",
    "    dfs[atual_df].loc[-1] = linha_extra\n",
    "    # Ajusta os indices\n",
    "    dfs[atual_df].index = dfs[atual_df].index + 1\n",
    "    dfs[atual_df] = dfs[atual_df].sort_index()\n",
    "    #Atualiza as linhas\n",
    "    dfs[atual_df].columns = colunas"
   ]
  },
  {
   "cell_type": "code",
   "execution_count": null,
   "metadata": {},
   "outputs": [],
   "source": [
    "uniao = prime\n",
    "for atual_df in lista:\n",
    "    uniao = pd.concat([uniao, dfs[atual_df]], ignore_index=True)"
   ]
  },
  {
   "cell_type": "code",
   "execution_count": null,
   "metadata": {},
   "outputs": [],
   "source": [
    "uniao.to_csv('../static/RESULTADOS_06_2023_07_2023_juntados.csv')"
   ]
  },
  {
   "cell_type": "code",
   "execution_count": null,
   "metadata": {},
   "outputs": [],
   "source": [
    "Resultados10 = pd.read_excel(\"../static/RESULTADOS_10_2023_11_2023.xlsx\", sheet_name=None)\n",
    "\n",
    "Resultados10"
   ]
  },
  {
   "cell_type": "code",
   "execution_count": null,
   "metadata": {},
   "outputs": [],
   "source": [
    "planilhas = []\n",
    "for planilha,df in Resultados10.items():\n",
    "    planilhas.append(planilha)\n",
    "    print(planilha)"
   ]
  },
  {
   "cell_type": "code",
   "execution_count": null,
   "metadata": {},
   "outputs": [],
   "source": [
    "prime = Resultados10['Relatório 1']\n",
    "prime.head()"
   ]
  },
  {
   "cell_type": "code",
   "execution_count": null,
   "metadata": {},
   "outputs": [],
   "source": [
    "prime.drop(prime.columns[0], axis=1, inplace=True)\n",
    "# Pega a primeira linha e coloca ela como as colunas do DataFrame\n",
    "colunas = prime.iloc[0]\n",
    "# Pega todos os dados sem a primeira linha\n",
    "prime = prime[1:]\n",
    "#Atualiza as linhas\n",
    "prime.columns = colunas\n",
    "prime.head()"
   ]
  },
  {
   "cell_type": "code",
   "execution_count": null,
   "metadata": {},
   "outputs": [],
   "source": [
    "lista = ['Relatório 1(1)',\n",
    "'Relatório 1(2)',\n",
    "'Relatório 1(3)',\n",
    "'Relatório 1(4)',\n",
    "'Relatório 1(5)',\n",
    "'Relatório 1(6)',\n",
    "'Relatório 1(7)',\n",
    "'Relatório 1(8)',\n",
    "'Relatório 1(9)',\n",
    "'Relatório 1(10)',\n",
    "'Relatório 1(11)',\n",
    "'Relatório 1(12)',\n",
    "'Relatório 1(13)']"
   ]
  },
  {
   "cell_type": "code",
   "execution_count": null,
   "metadata": {},
   "outputs": [],
   "source": [
    "dfs = {}\n",
    "for atual_df in lista:\n",
    "    dfs[atual_df] = None\n",
    "for atual_df in lista:\n",
    "    # Preparando os demais dataframes\n",
    "    dfs[atual_df] = Resultados10[atual_df]\n",
    "    # Remover a primeira coluna\n",
    "    dfs[atual_df].drop(dfs[atual_df].columns[0], axis=1, inplace=True)\n",
    "    # Pega a primeira linha e coloca ela como dados do DataFrame\n",
    "    linha_extra = dfs[atual_df].columns\n",
    "    # Pega todos os dados sem a primeira linha\n",
    "    dfs[atual_df].loc[-1] = linha_extra\n",
    "    # Ajusta os indices\n",
    "    dfs[atual_df].index = dfs[atual_df].index + 1\n",
    "    dfs[atual_df] = dfs[atual_df].sort_index()\n",
    "    #Atualiza as linhas\n",
    "    dfs[atual_df].columns = colunas"
   ]
  },
  {
   "cell_type": "code",
   "execution_count": null,
   "metadata": {},
   "outputs": [],
   "source": [
    "uniao = prime\n",
    "for atual_df in lista:\n",
    "    uniao = pd.concat([uniao, dfs[atual_df]], ignore_index=True)"
   ]
  },
  {
   "cell_type": "code",
   "execution_count": null,
   "metadata": {},
   "outputs": [],
   "source": [
    "uniao.to_csv('../static/RESULTADOS_10_2023_11_2023_juntados.csv')"
   ]
  },
  {
   "cell_type": "code",
   "execution_count": null,
   "metadata": {},
   "outputs": [],
   "source": [
    "Resultados12 = pd.read_excel(\"../static/RESULTADOS_12_2023_01_2024.xlsx\", sheet_name=None)\n",
    "\n",
    "Resultados12"
   ]
  },
  {
   "cell_type": "code",
   "execution_count": null,
   "metadata": {},
   "outputs": [],
   "source": [
    "planilhas = []\n",
    "for planilha,df in Resultados12.items():\n",
    "    planilhas.append(planilha)\n",
    "    print(planilha)"
   ]
  },
  {
   "cell_type": "code",
   "execution_count": null,
   "metadata": {},
   "outputs": [],
   "source": [
    "prime = Resultados12['Relatório 1']\n",
    "prime.head()"
   ]
  },
  {
   "cell_type": "code",
   "execution_count": null,
   "metadata": {},
   "outputs": [],
   "source": [
    "prime.drop(prime.columns[0], axis=1, inplace=True)\n",
    "# Pega a primeira linha e coloca ela como as colunas do DataFrame\n",
    "colunas = prime.iloc[0]\n",
    "# Pega todos os dados sem a primeira linha\n",
    "prime = prime[1:]\n",
    "#Atualiza as linhas\n",
    "prime.columns = colunas\n",
    "prime.head()"
   ]
  },
  {
   "cell_type": "code",
   "execution_count": null,
   "metadata": {},
   "outputs": [],
   "source": [
    "lista = ['Relatório 1(1)',\n",
    "'Relatório 1(2)',\n",
    "'Relatório 1(3)',\n",
    "'Relatório 1(4)',\n",
    "'Relatório 1(5)',\n",
    "'Relatório 1(6)',\n",
    "'Relatório 1(7)',\n",
    "'Relatório 1(8)']"
   ]
  },
  {
   "cell_type": "code",
   "execution_count": null,
   "metadata": {},
   "outputs": [],
   "source": [
    "dfs = {}\n",
    "for atual_df in lista:\n",
    "    dfs[atual_df] = None\n",
    "for atual_df in lista:\n",
    "    # Preparando os demais dataframes\n",
    "    dfs[atual_df] = Resultados12[atual_df]\n",
    "    # Remover a primeira coluna\n",
    "    dfs[atual_df].drop(dfs[atual_df].columns[0], axis=1, inplace=True)\n",
    "    # Pega a primeira linha e coloca ela como dados do DataFrame\n",
    "    linha_extra = dfs[atual_df].columns\n",
    "    # Pega todos os dados sem a primeira linha\n",
    "    dfs[atual_df].loc[-1] = linha_extra\n",
    "    # Ajusta os indices\n",
    "    dfs[atual_df].index = dfs[atual_df].index + 1\n",
    "    dfs[atual_df] = dfs[atual_df].sort_index()\n",
    "    #Atualiza as linhas\n",
    "    dfs[atual_df].columns = colunas"
   ]
  },
  {
   "cell_type": "code",
   "execution_count": null,
   "metadata": {},
   "outputs": [],
   "source": [
    "uniao = prime\n",
    "for atual_df in lista:\n",
    "    uniao = pd.concat([uniao, dfs[atual_df]], ignore_index=True)"
   ]
  },
  {
   "cell_type": "code",
   "execution_count": null,
   "metadata": {},
   "outputs": [],
   "source": [
    "uniao.to_csv('../static/RESULTADOS_12_2023_01_2024_juntados.csv')"
   ]
  },
  {
   "cell_type": "code",
   "execution_count": null,
   "metadata": {},
   "outputs": [],
   "source": [
    "Resultado12 = pd.read_csv('../static/RESULTADOS_12_2023_01_2024_juntados.csv')\n",
    "Resultado12"
   ]
  },
  {
   "cell_type": "code",
   "execution_count": null,
   "metadata": {},
   "outputs": [],
   "source": [
    "Resultado2 = pd.read_csv('../static/RESULTADOS_02_03_2024_juntados.csv')\n",
    "Resultado2"
   ]
  },
  {
   "cell_type": "code",
   "execution_count": null,
   "metadata": {},
   "outputs": [],
   "source": [
    "Resultado4 = pd.read_csv('../static/RESULTADOS_04_06_2024_juntados.csv')\n",
    "Resultado4"
   ]
  },
  {
   "cell_type": "code",
   "execution_count": null,
   "metadata": {},
   "outputs": [],
   "source": [
    "Resultado6 = pd.read_csv('../static/RESULTADOS_06_2023_07_2023_juntados.csv')\n",
    "Resultado6"
   ]
  },
  {
   "cell_type": "code",
   "execution_count": null,
   "metadata": {},
   "outputs": [],
   "source": [
    "Resultado8 = pd.read_csv('../static/RESULTADOS_08_2023_09_2023_juntados.csv')\n",
    "Resultado8"
   ]
  },
  {
   "cell_type": "code",
   "execution_count": null,
   "metadata": {},
   "outputs": [],
   "source": [
    "Resultado10 = pd.read_csv('../static/RESULTADOS_10_2023_11_2023_juntados.csv')\n",
    "Resultado10"
   ]
  },
  {
   "cell_type": "code",
   "execution_count": null,
   "metadata": {},
   "outputs": [],
   "source": [
    "combined_df = pd.concat([Resultado2, Resultado4, Resultado6, Resultado8, Resultado10, Resultado12], axis=0, ignore_index=True)\n",
    "\n",
    "# Save the concatenated DataFrame to a new CSV file (optional)\n",
    "combined_df.to_csv(\"../static/Resultados_juntos.csv\", index=False)\n",
    "\n",
    "combined_df"
   ]
  },
  {
   "cell_type": "code",
   "execution_count": null,
   "metadata": {},
   "outputs": [],
   "source": [
    "combined_df = pd.read_csv(\"../static/Resultados_juntos.csv\")\n",
    "combined_df.drop(combined_df.columns[0], axis=1, inplace=True)\n",
    "combined_df"
   ]
  },
  {
   "cell_type": "code",
   "execution_count": null,
   "metadata": {},
   "outputs": [],
   "source": [
    "combined_df.info()"
   ]
  },
  {
   "cell_type": "code",
   "execution_count": null,
   "metadata": {},
   "outputs": [],
   "source": [
    "combined_df.groupby('KNR').count()"
   ]
  },
  {
   "cell_type": "code",
   "execution_count": null,
   "metadata": {},
   "outputs": [],
   "source": [
    "falhas_df = pd.read_csv('../static/FALHAS_TRATADO.csv')\n",
    "falhas_df"
   ]
  },
  {
   "cell_type": "code",
   "execution_count": null,
   "metadata": {},
   "outputs": [],
   "source": [
    "falhas_df.drop(falhas_df.columns[0], axis=1, inplace=True)\n",
    "falhas_df"
   ]
  },
  {
   "cell_type": "code",
   "execution_count": null,
   "metadata": {},
   "outputs": [],
   "source": [
    "falhas_df = falhas_df[falhas_df['HALLE'].str.contains(\"ROD\", na=False)]\n",
    "falhas_df = falhas_df.drop(columns=['HALLE'])\n",
    "falhas_df.head()"
   ]
  },
  {
   "cell_type": "code",
   "execution_count": null,
   "metadata": {},
   "outputs": [],
   "source": [
    "merged_df = pd.merge(combined_df, falhas_df, on='KNR', how='inner')"
   ]
  },
  {
   "cell_type": "code",
   "execution_count": null,
   "metadata": {},
   "outputs": [],
   "source": [
    "murilo_df = pd.merge(combined_df, falhas_df, on='KNR', how='outer')"
   ]
  },
  {
   "cell_type": "code",
   "execution_count": null,
   "metadata": {},
   "outputs": [],
   "source": [
    "murilo_df"
   ]
  },
  {
   "cell_type": "code",
   "execution_count": null,
   "metadata": {},
   "outputs": [],
   "source": [
    "murilo_df.head()"
   ]
  },
  {
   "cell_type": "code",
   "execution_count": null,
   "metadata": {},
   "outputs": [],
   "source": [
    "murilo_df = murilo_df.drop(columns=['MODELO'])\n",
    "murilo_df"
   ]
  },
  {
   "cell_type": "code",
   "execution_count": null,
   "metadata": {},
   "outputs": [],
   "source": [
    "murilo_df['FALHA'] = murilo_df['FALHA'].str.lower()"
   ]
  },
  {
   "cell_type": "code",
   "execution_count": null,
   "metadata": {},
   "outputs": [],
   "source": [
    "murilo_df = murilo_df.drop_duplicates()"
   ]
  },
  {
   "cell_type": "code",
   "execution_count": null,
   "metadata": {},
   "outputs": [],
   "source": [
    "murilo_df.to_csv(\"../static/happiness_table.csv\", index=False)"
   ]
  },
  {
   "cell_type": "code",
   "execution_count": null,
   "metadata": {},
   "outputs": [],
   "source": [
    "merged_df.shape"
   ]
  },
  {
   "cell_type": "code",
   "execution_count": null,
   "metadata": {},
   "outputs": [],
   "source": [
    "merged_df"
   ]
  },
  {
   "cell_type": "code",
   "execution_count": null,
   "metadata": {},
   "outputs": [],
   "source": [
    "merged_df.columns"
   ]
  },
  {
   "cell_type": "code",
   "execution_count": null,
   "metadata": {},
   "outputs": [],
   "source": [
    "merged_df.to_csv(\"../static/falhas_resultados.csv\", index=False)"
   ]
  },
  {
   "cell_type": "code",
   "execution_count": null,
   "metadata": {},
   "outputs": [],
   "source": [
    "merged_df.info()"
   ]
  },
  {
   "cell_type": "code",
   "execution_count": null,
   "metadata": {},
   "outputs": [],
   "source": [
    "merged_df.describe()"
   ]
  },
  {
   "cell_type": "code",
   "execution_count": null,
   "metadata": {},
   "outputs": [],
   "source": [
    "merged_df = merged_df[merged_df['MODELO'].str.contains(\"T-CROSS\", na=False)]\n",
    "merged_df = merged_df.drop(columns=['MODELO'])\n",
    "merged_df"
   ]
  },
  {
   "cell_type": "code",
   "execution_count": null,
   "metadata": {},
   "outputs": [],
   "source": [
    "df_cleaned = merged_df.dropna(subset=['UNIT', 'VALUE_ID', 'VALUE', 'STATUS'])\n",
    "df_cleaned"
   ]
  },
  {
   "cell_type": "code",
   "execution_count": null,
   "metadata": {},
   "outputs": [],
   "source": [
    "df_cleaned = df_cleaned.drop(columns=['ESTACAO'])\n",
    "df_cleaned"
   ]
  },
  {
   "cell_type": "code",
   "execution_count": null,
   "metadata": {},
   "outputs": [],
   "source": [
    "df_cleaned['FALHA'] = df_cleaned['FALHA'].str.lower()"
   ]
  },
  {
   "cell_type": "code",
   "execution_count": null,
   "metadata": {},
   "outputs": [],
   "source": [
    "df_cleaned = df_cleaned.drop_duplicates()"
   ]
  },
  {
   "cell_type": "code",
   "execution_count": null,
   "metadata": {},
   "outputs": [],
   "source": [
    "df_cleaned"
   ]
  },
  {
   "cell_type": "code",
   "execution_count": null,
   "metadata": {},
   "outputs": [],
   "source": [
    "df_cleaned.to_csv(\"../static/tabela_da_felicidade.csv\", index=False)"
   ]
  },
  {
   "cell_type": "code",
   "execution_count": null,
   "metadata": {},
   "outputs": [],
   "source": [
    "df = pd.read_csv(\"../static/FALHAS_TRATADO.csv\")\n",
    "df['FALHA'].isnull().any()"
   ]
  },
  {
   "cell_type": "code",
   "execution_count": null,
   "metadata": {},
   "outputs": [],
   "source": []
  }
 ],
 "metadata": {
  "kernelspec": {
   "display_name": "Python 3",
   "language": "python",
   "name": "python3"
  },
  "language_info": {
   "codemirror_mode": {
    "name": "ipython",
    "version": 3
   },
   "file_extension": ".py",
   "mimetype": "text/x-python",
   "name": "python",
   "nbconvert_exporter": "python",
   "pygments_lexer": "ipython3",
   "version": "3.12.1"
  }
 },
 "nbformat": 4,
 "nbformat_minor": 2
}
