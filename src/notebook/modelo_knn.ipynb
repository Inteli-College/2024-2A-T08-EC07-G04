{
 "cells": [
  {
   "cell_type": "markdown",
   "metadata": {},
   "source": [
    "# Modelo KNN (K-nearest neighbors)"
   ]
  },
  {
   "cell_type": "code",
   "execution_count": null,
   "metadata": {},
   "outputs": [],
   "source": [
    "# Import das dependências \n",
    "import pandas as pd\n",
    "from sklearn.model_selection import train_test_split\n",
    "from sklearn.neighbors import KNeighborsClassifier\n",
    "from sklearn.preprocessing import MinMaxScaler\n",
    "from sklearn.metrics import accuracy_score, classification_report, confusion_matrix\n",
    "from sklearn.impute import SimpleImputer\n",
    "import matplotlib.pyplot as plt\n",
    "import seaborn as sns\n",
    "from sklearn.metrics import confusion_matrix, ConfusionMatrixDisplay"
   ]
  },
  {
   "cell_type": "code",
   "execution_count": null,
   "metadata": {},
   "outputs": [],
   "source": [
    "df = pd.read_csv(\"tabela_modelo.csv\")"
   ]
  },
  {
   "cell_type": "code",
   "execution_count": null,
   "metadata": {},
   "outputs": [],
   "source": [
    "# Remove a primeira coluna que está vazia\n",
    "df.drop(df.columns[0], axis=1, inplace=True)\n",
    "df"
   ]
  },
  {
   "cell_type": "code",
   "execution_count": null,
   "metadata": {},
   "outputs": [],
   "source": [
    "df.head()"
   ]
  },
  {
   "cell_type": "code",
   "execution_count": null,
   "metadata": {},
   "outputs": [],
   "source": [
    "# Conversão dos datetime para numeric\n",
    "\n",
    "df['ID1 temp med'] = pd.to_numeric(df['ID1 temp med'], errors='coerce')\n",
    "df['ID2 temp med'] = pd.to_numeric(df['ID2 temp med'], errors='coerce')\n",
    "df['ID718 temp med'] = pd.to_numeric(df['ID718 temp med'], errors='coerce')"
   ]
  },
  {
   "cell_type": "code",
   "execution_count": null,
   "metadata": {},
   "outputs": [],
   "source": [
    "df.info()"
   ]
  },
  {
   "cell_type": "code",
   "execution_count": null,
   "metadata": {},
   "outputs": [],
   "source": [
    "# Normalização de colunas numéricas\n",
    "columns_to_normalize = ['ID1 S OK', 'ID2 S OK', 'ID718 S OK', 'ID1 S NOK', 'ID2 S NOK', 'ID718 S NOK']\n",
    "scaler = MinMaxScaler()\n",
    "df[columns_to_normalize] = scaler.fit_transform(df[columns_to_normalize])"
   ]
  },
  {
   "cell_type": "code",
   "execution_count": null,
   "metadata": {},
   "outputs": [],
   "source": [
    "# Criar variáveis alvo e preditoras\n",
    "df['TOTAL OK'] = df['ID1 S OK'] + df['ID2 S OK'] + df['ID718 S OK']\n",
    "df['TOTAL NOK'] = df['ID1 S NOK'] + df['ID2 S NOK'] + df['ID718 S NOK']\n",
    "\n",
    "# Definir a coluna 'RESULTADO' onde 1 = \"OK\" e 0 = \"NOK\" se houver ao menos um NOK\n",
    "df['RESULTADO'] = (df['TOTAL NOK'] == 0).astype(int)\n",
    "\n",
    "# Preparar os dados para a predição da falha\n",
    "# Criar a coluna 'FALHA_OPER' indicando onde a falha pode ocorrer\n",
    "df['FALHA_OPER'] = df[['ID1 S NOK', 'ID2 S NOK', 'ID718 S NOK']].idxmax(axis=1)\n",
    "df['FALHA_OPER'] = df['FALHA_OPER'].map({'ID1 S NOK': 'ID1', 'ID2 S NOK': 'ID2', 'ID718 S NOK': 'ID718'})\n",
    "\n",
    "# Se não houver nenhuma falha, definir 'FALHA_OPER' como 'Nenhuma'\n",
    "df.loc[df['TOTAL NOK'] == 0, 'FALHA_OPER'] = 'Nenhuma'\n",
    "\n",
    "# Features (X) e Target (y) para a predição de falha\n",
    "X = df[['ID1 QT', 'ID1 temp med',\n",
    "        'ID2 QT', 'ID2 temp med',\n",
    "        'ID718 QT', 'ID718 temp med']]\n",
    "y = df['FALHA_OPER']\n",
    "\n",
    "# Transformar a variável alvo (y) em numérica para o modelo de classificação\n",
    "y_encoded = y.map({'ID1': 0, 'ID2': 1, 'ID718': 2, 'Nenhuma': 3})\n",
    "\n",
    "# Imputar valores faltantes\n",
    "imputer = SimpleImputer(strategy='mean')\n",
    "X_imputed = imputer.fit_transform(X)\n",
    "\n",
    "# Dividir os dados em conjunto de treino e teste\n",
    "X_train, X_test, y_train, y_test = train_test_split(X_imputed, y_encoded, test_size=0.3, random_state=42)\n",
    "\n",
    "# Treinar o modelo KNN\n",
    "model = KNeighborsClassifier(n_neighbors=5)\n",
    "model.fit(X_train, y_train)\n",
    "\n",
    "# Prever os resultados no conjunto de teste\n",
    "y_pred = model.predict(X_test)\n",
    "\n",
    "# Avaliar a performance do modelo\n",
    "print(\"Acurácia:\", accuracy_score(y_test, y_pred))\n",
    "print(\"\\nRelatório de Classificação:\")\n",
    "print(classification_report(y_test, y_pred, target_names=['ID1', 'ID2', 'ID718', 'Nenhuma']))\n",
    "print(\"\\nMatriz de Confusão:\")\n",
    "print(confusion_matrix(y_test, y_pred))\n",
    "\n",
    "# Adicionar a coluna 'FALHA_OPER' no DataFrame original com as previsões\n",
    "df['FALHA_OPER'] = model.predict(imputer.transform(X))\n",
    "df['FALHA_OPER'] = df['FALHA_OPER'].map({0: 'ID1', 1: 'ID2', 2: 'ID718', 3: 'Nenhuma'})\n",
    "\n",
    "print(\"\\nDataFrame com previsões:\")\n",
    "df"
   ]
  },
  {
   "cell_type": "code",
   "execution_count": null,
   "metadata": {},
   "outputs": [],
   "source": [
    "# Criar a matriz de confusão\n",
    "cm = confusion_matrix(y_test, y_pred, labels=[0, 1, 2, 3])\n",
    "\n",
    "# Criar a visualização\n",
    "disp = ConfusionMatrixDisplay(confusion_matrix=cm, display_labels=['ID1', 'ID2', 'ID718', 'Nenhuma'])\n",
    "\n",
    "# Plotar a matriz de confusão\n",
    "fig, ax = plt.subplots(figsize=(8, 8))\n",
    "disp.plot(ax=ax, cmap=plt.cm.Blues, colorbar=True)\n",
    "\n",
    "# Adicionar títulos e labels\n",
    "plt.title('Matriz de Confusão do Modelo KNN')\n",
    "plt.show()"
   ]
  }
 ],
 "metadata": {
  "language_info": {
   "name": "python"
  }
 },
 "nbformat": 4,
 "nbformat_minor": 2
}
