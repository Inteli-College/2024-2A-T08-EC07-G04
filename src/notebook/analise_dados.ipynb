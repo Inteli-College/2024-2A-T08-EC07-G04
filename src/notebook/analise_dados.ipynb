{
 "cells": [
  {
   "cell_type": "markdown",
   "metadata": {},
   "source": [
    "# Análise de dados gerais\n",
    "\n",
    "Este notebook possui uma análise dos dados dos resultados junto com os dados das falhas, afim de ser uma análise para realizar o modelo posteriormente."
   ]
  },
  {
   "cell_type": "code",
   "execution_count": null,
   "metadata": {},
   "outputs": [],
   "source": [
    "# importando dependências\n",
    "import pandas as pd\n",
    "import numpy as np "
   ]
  },
  {
   "cell_type": "code",
   "execution_count": null,
   "metadata": {},
   "outputs": [],
   "source": [
    "# carregando os dados de resultados e falhas em conjunto\n",
    "df = pd.read_csv(\"Tabela_start.csv\")"
   ]
  },
  {
   "cell_type": "code",
   "execution_count": null,
   "metadata": {},
   "outputs": [],
   "source": [
    "df.head()"
   ]
  },
  {
   "cell_type": "code",
   "execution_count": null,
   "metadata": {},
   "outputs": [],
   "source": [
    "# conversão para parquet\n",
    "df.to_parquet('table_start_parquet.parquet')"
   ]
  },
  {
   "cell_type": "markdown",
   "metadata": {},
   "source": [
    "Para conjuntos de dados muito grandes, o formato Parquet permite um acesso mais eficiente e pode ser processado em paralelo, reduzindo o tempo total de processamento e treinamento do modelo. Como Parquet armazena dados em um formato colunar, é mais eficiente para ler apenas as colunas necessárias para a análise, ao contrário de um CSV que precisa ser lido sequencialmente."
   ]
  },
  {
   "cell_type": "code",
   "execution_count": null,
   "metadata": {},
   "outputs": [],
   "source": [
    "df_parquet = pd.read_parquet(\"table_start_parquet.parquet\")"
   ]
  },
  {
   "cell_type": "markdown",
   "metadata": {},
   "source": [
    "### Features\n",
    "\n",
    "Com a análise feita posteriormente e o tratamento de dados, foram feitas novas features a partir dos dados de resultados e falhas em conjunto"
   ]
  },
  {
   "cell_type": "code",
   "execution_count": null,
   "metadata": {},
   "outputs": [],
   "source": [
    "def create_summary(df_parquet):\n",
    "    def count_status(group, id_val, status_val):\n",
    "        return len(group[(group['ID'] == id_val) & (group['STATUS'] == status_val)])\n",
    "    \n",
    "    def mean_date(group, id_val):\n",
    "        return group.loc[group['ID'] == id_val, 'DATA_x'].mean()\n",
    "\n",
    "    summary = df_parquet.groupby('KNR').apply(lambda group: pd.Series({\n",
    "        'NAME': group['NAME'].iloc[0],\n",
    "        'ID1 QT': len(group[group['ID'] == 1]),\n",
    "        'ID1 S OK': count_status(group, 1, 10),\n",
    "        'ID1 S NOK': count_status(group, 1, 13),\n",
    "        'ID1 temp med': mean_date(group, 1),\n",
    "        'ID2 QT': len(group[group['ID'] == 2]),\n",
    "        'ID2 S OK': count_status(group, 2, 10),\n",
    "        'ID2 S NOK': count_status(group, 2, 13),\n",
    "        'ID2 temp med': mean_date(group, 2),\n",
    "        'ID718 QT': len(group[group['ID'] == 718]),\n",
    "        'ID718 S OK': count_status(group, 718, 10),\n",
    "        'ID718 S NOK': count_status(group, 718, 13),\n",
    "        'ID718 temp med': mean_date(group, 718),\n",
    "    })).reset_index()\n",
    "    \n",
    "    return summary\n",
    "\n",
    "df_summary = create_summary(df_parquet)\n",
    "\n",
    "df_summary\n"
   ]
  },
  {
   "cell_type": "code",
   "execution_count": null,
   "metadata": {},
   "outputs": [],
   "source": [
    "# salva o novo dataframe com as novas features\n",
    "df_summary = df_summary.to_csv('tabela_modelo.csv')"
   ]
  }
 ],
 "metadata": {
  "kernelspec": {
   "display_name": "Python 3",
   "language": "python",
   "name": "python3"
  },
  "language_info": {
   "codemirror_mode": {
    "name": "ipython",
    "version": 3
   },
   "file_extension": ".py",
   "mimetype": "text/x-python",
   "name": "python",
   "nbconvert_exporter": "python",
   "pygments_lexer": "ipython3",
   "version": "3.10.12"
  }
 },
 "nbformat": 4,
 "nbformat_minor": 2
}
