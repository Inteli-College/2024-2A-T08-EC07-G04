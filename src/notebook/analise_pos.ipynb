{
 "cells": [
  {
   "cell_type": "code",
   "execution_count": 31,
   "metadata": {},
   "outputs": [],
   "source": [
    "import pandas as pd"
   ]
  },
  {
   "cell_type": "markdown",
   "metadata": {},
   "source": [
    "### Tratamento da tabela Falhas Predict"
   ]
  },
  {
   "cell_type": "code",
   "execution_count": 32,
   "metadata": {},
   "outputs": [],
   "source": [
    "df_falhas_predict = pd.read_excel('FALHAS_PREDICT.xlsx', sheet_name=None)"
   ]
  },
  {
   "cell_type": "code",
   "execution_count": null,
   "metadata": {},
   "outputs": [],
   "source": [
    "df_falhas_predict.head()"
   ]
  },
  {
   "cell_type": "code",
   "execution_count": 34,
   "metadata": {},
   "outputs": [
    {
     "ename": "AttributeError",
     "evalue": "'dict' object has no attribute 'drop'",
     "output_type": "error",
     "traceback": [
      "\u001b[0;31m---------------------------------------------------------------------------\u001b[0m",
      "\u001b[0;31mAttributeError\u001b[0m                            Traceback (most recent call last)",
      "Cell \u001b[0;32mIn[34], line 1\u001b[0m\n\u001b[0;32m----> 1\u001b[0m \u001b[43mdf_falhas_predict\u001b[49m\u001b[38;5;241;43m.\u001b[39;49m\u001b[43mdrop\u001b[49m(\u001b[38;5;241m0\u001b[39m, inplace\u001b[38;5;241m=\u001b[39m\u001b[38;5;28;01mTrue\u001b[39;00m)\n\u001b[1;32m      2\u001b[0m df_falhas_predict\u001b[38;5;241m.\u001b[39mdrop(df_falhas_predict\u001b[38;5;241m.\u001b[39mcolumns[\u001b[38;5;241m0\u001b[39m], axis\u001b[38;5;241m=\u001b[39m\u001b[38;5;241m1\u001b[39m, inplace\u001b[38;5;241m=\u001b[39m\u001b[38;5;28;01mTrue\u001b[39;00m)\n\u001b[1;32m      4\u001b[0m colunas \u001b[38;5;241m=\u001b[39m df_falhas_predict\u001b[38;5;241m.\u001b[39miloc[\u001b[38;5;241m0\u001b[39m]\n",
      "\u001b[0;31mAttributeError\u001b[0m: 'dict' object has no attribute 'drop'"
     ]
    }
   ],
   "source": [
    "df_falhas_predict.drop(0, inplace=True)\n",
    "df_falhas_predict.drop(df_falhas_predict.columns[0], axis=1, inplace=True)\n",
    "\n",
    "colunas = df_falhas_predict.iloc[0]\n",
    "df_falhas_predict = df_falhas_predict[1:]\n",
    "df_falhas_predict.columns = colunas"
   ]
  },
  {
   "cell_type": "code",
   "execution_count": null,
   "metadata": {},
   "outputs": [
    {
     "data": {
      "text/html": [
       "<div>\n",
       "<style scoped>\n",
       "    .dataframe tbody tr th:only-of-type {\n",
       "        vertical-align: middle;\n",
       "    }\n",
       "\n",
       "    .dataframe tbody tr th {\n",
       "        vertical-align: top;\n",
       "    }\n",
       "\n",
       "    .dataframe thead th {\n",
       "        text-align: right;\n",
       "    }\n",
       "</style>\n",
       "<table border=\"1\" class=\"dataframe\">\n",
       "  <thead>\n",
       "    <tr style=\"text-align: right;\">\n",
       "      <th>1</th>\n",
       "      <th>KNR</th>\n",
       "      <th>MODELO</th>\n",
       "      <th>COR</th>\n",
       "      <th>MOTOR</th>\n",
       "      <th>ESTACAO</th>\n",
       "      <th>USUARIO</th>\n",
       "      <th>HALLE</th>\n",
       "      <th>FALHA</th>\n",
       "      <th>DATA</th>\n",
       "    </tr>\n",
       "  </thead>\n",
       "  <tbody>\n",
       "    <tr>\n",
       "      <th>2</th>\n",
       "      <td>2023-1326197</td>\n",
       "      <td>T-CROSS</td>\n",
       "      <td>0Q0Q</td>\n",
       "      <td>DHS</td>\n",
       "      <td>PCEQS100</td>\n",
       "      <td>2043521</td>\n",
       "      <td>ZP5</td>\n",
       "      <td>Porta dianteira Folga (Ajuste)</td>\n",
       "      <td>2023-01-09 22:24:44.272000</td>\n",
       "    </tr>\n",
       "    <tr>\n",
       "      <th>3</th>\n",
       "      <td>2023-1326197</td>\n",
       "      <td>T-CROSS</td>\n",
       "      <td>0Q0Q</td>\n",
       "      <td>DHS</td>\n",
       "      <td>PCEQS100</td>\n",
       "      <td>2043521</td>\n",
       "      <td>ZP5</td>\n",
       "      <td>Porta traseira Folga (Ajuste)</td>\n",
       "      <td>2023-01-09 22:25:02.960000</td>\n",
       "    </tr>\n",
       "    <tr>\n",
       "      <th>4</th>\n",
       "      <td>2023-4130482</td>\n",
       "      <td>AUDI Q3</td>\n",
       "      <td>2Y2Y</td>\n",
       "      <td>DSN</td>\n",
       "      <td>PCEQS999</td>\n",
       "      <td>2054701</td>\n",
       "      <td>ESPC</td>\n",
       "      <td>Lanterna tras (09) Interfere</td>\n",
       "      <td>2023-01-10 09:18:25.238000</td>\n",
       "    </tr>\n",
       "    <tr>\n",
       "      <th>5</th>\n",
       "      <td>2023-4130482</td>\n",
       "      <td>AUDI Q3</td>\n",
       "      <td>2Y2Y</td>\n",
       "      <td>DSN</td>\n",
       "      <td>PCEQS999</td>\n",
       "      <td>2054701</td>\n",
       "      <td>ESPC</td>\n",
       "      <td>Emblema / logo - Adesivos em geral Solto(a) ¨</td>\n",
       "      <td>2023-01-10 09:18:40.728000</td>\n",
       "    </tr>\n",
       "    <tr>\n",
       "      <th>6</th>\n",
       "      <td>2023-4130664</td>\n",
       "      <td>AUDI Q3</td>\n",
       "      <td>6Y6Y</td>\n",
       "      <td>DSN</td>\n",
       "      <td>PCEQS805</td>\n",
       "      <td>7000240</td>\n",
       "      <td>ZP82</td>\n",
       "      <td>Painel instrumentos Ruído (-)</td>\n",
       "      <td>2023-01-10 11:17:56.489000</td>\n",
       "    </tr>\n",
       "  </tbody>\n",
       "</table>\n",
       "</div>"
      ],
      "text/plain": [
       "1           KNR   MODELO   COR MOTOR   ESTACAO  USUARIO HALLE  \\\n",
       "2  2023-1326197  T-CROSS  0Q0Q   DHS  PCEQS100  2043521   ZP5   \n",
       "3  2023-1326197  T-CROSS  0Q0Q   DHS  PCEQS100  2043521   ZP5   \n",
       "4  2023-4130482  AUDI Q3  2Y2Y   DSN  PCEQS999  2054701  ESPC   \n",
       "5  2023-4130482  AUDI Q3  2Y2Y   DSN  PCEQS999  2054701  ESPC   \n",
       "6  2023-4130664  AUDI Q3  6Y6Y   DSN  PCEQS805  7000240  ZP82   \n",
       "\n",
       "1                                          FALHA                        DATA  \n",
       "2                 Porta dianteira Folga (Ajuste)  2023-01-09 22:24:44.272000  \n",
       "3                  Porta traseira Folga (Ajuste)  2023-01-09 22:25:02.960000  \n",
       "4                   Lanterna tras (09) Interfere  2023-01-10 09:18:25.238000  \n",
       "5  Emblema / logo - Adesivos em geral Solto(a) ¨  2023-01-10 09:18:40.728000  \n",
       "6                  Painel instrumentos Ruído (-)  2023-01-10 11:17:56.489000  "
      ]
     },
     "execution_count": 22,
     "metadata": {},
     "output_type": "execute_result"
    }
   ],
   "source": [
    "df_falhas_predict.head()"
   ]
  },
  {
   "cell_type": "markdown",
   "metadata": {},
   "source": [
    "### Tratamento da tabela Status Predictor"
   ]
  },
  {
   "cell_type": "code",
   "execution_count": null,
   "metadata": {},
   "outputs": [],
   "source": [
    "df_status_predictor = pd.read_excel('STATUS_PREDICTOR_ANO.xlsx', sheet_name=None)"
   ]
  },
  {
   "cell_type": "code",
   "execution_count": null,
   "metadata": {},
   "outputs": [],
   "source": [
    "planilhas = []\n",
    "for planilha,df in df_status_predictor.items():\n",
    "    planilhas.append(planilha)\n",
    "    print(planilha)"
   ]
  }
 ],
 "metadata": {
  "kernelspec": {
   "display_name": "Python 3",
   "language": "python",
   "name": "python3"
  },
  "language_info": {
   "codemirror_mode": {
    "name": "ipython",
    "version": 3
   },
   "file_extension": ".py",
   "mimetype": "text/x-python",
   "name": "python",
   "nbconvert_exporter": "python",
   "pygments_lexer": "ipython3",
   "version": "3.10.12"
  }
 },
 "nbformat": 4,
 "nbformat_minor": 2
}
