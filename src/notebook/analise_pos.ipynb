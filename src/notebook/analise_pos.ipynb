{
 "cells": [
  {
   "cell_type": "code",
   "execution_count": null,
   "metadata": {},
   "outputs": [],
   "source": [
    "import pandas as pd"
   ]
  },
  {
   "cell_type": "markdown",
   "metadata": {},
   "source": [
    "### Tratamento da tabela Falhas Predict"
   ]
  },
  {
   "cell_type": "code",
   "execution_count": null,
   "metadata": {},
   "outputs": [],
   "source": [
    "df_falhas_predict = pd.read_excel('FALHAS_PREDICT.xlsx')"
   ]
  },
  {
   "cell_type": "code",
   "execution_count": null,
   "metadata": {},
   "outputs": [],
   "source": [
    "df_falhas_predict.head()"
   ]
  },
  {
   "cell_type": "code",
   "execution_count": null,
   "metadata": {},
   "outputs": [],
   "source": [
    "df_falhas_predict.drop(0, inplace=True)\n",
    "df_falhas_predict.drop(df_falhas_predict.columns[0], axis=1, inplace=True)\n",
    "\n",
    "colunas = df_falhas_predict.iloc[0]\n",
    "df_falhas_predict = df_falhas_predict[1:]\n",
    "df_falhas_predict.columns = colunas"
   ]
  },
  {
   "cell_type": "code",
   "execution_count": null,
   "metadata": {},
   "outputs": [],
   "source": [
    "df_falhas_predict.head()"
   ]
  },
  {
   "cell_type": "markdown",
   "metadata": {},
   "source": [
    "### Tratamento da tabela Status Predictor"
   ]
  },
  {
   "cell_type": "code",
   "execution_count": null,
   "metadata": {},
   "outputs": [],
   "source": [
    "df_status_predictor = pd.read_excel('STATUS_PREDICTOR_ANO.xlsx', sheet_name=None)"
   ]
  },
  {
   "cell_type": "code",
   "execution_count": null,
   "metadata": {},
   "outputs": [],
   "source": [
    "planilhas = []\n",
    "for planilha,df in df_status_predictor.items():\n",
    "    planilhas.append(planilha)\n",
    "    print(planilha)"
   ]
  },
  {
   "cell_type": "code",
   "execution_count": null,
   "metadata": {},
   "outputs": [],
   "source": [
    "df1 = df_status_predictor['Relatório 1']\n",
    "df1.head()\n"
   ]
  },
  {
   "cell_type": "code",
   "execution_count": null,
   "metadata": {},
   "outputs": [],
   "source": [
    "df1.drop(df1.columns[0], axis=1, inplace=True)\n",
    "\n",
    "colunas = df1.iloc[0]\n",
    "\n",
    "df1 = df1[1:]\n",
    "\n",
    "df1.columns = colunas\n",
    "\n",
    "df1.head()"
   ]
  },
  {
   "cell_type": "code",
   "execution_count": null,
   "metadata": {},
   "outputs": [],
   "source": [
    "df2 = df_status_predictor['Relatório 1(1)']\n",
    "df_status_predictor['Relatório 1(1)']"
   ]
  },
  {
   "cell_type": "code",
   "execution_count": null,
   "metadata": {},
   "outputs": [],
   "source": [
    "df2 = df_status_predictor['Relatório 1(1)']\n",
    "df2.head()"
   ]
  },
  {
   "cell_type": "code",
   "execution_count": null,
   "metadata": {},
   "outputs": [],
   "source": [
    "df2.drop(df2.columns[0], axis=1, inplace=True)\n",
    "linha_extra = df2.columns\n",
    "df2.loc[-1] = linha_extra\n",
    "df2.index = df2.index + 1\n",
    "df2 = df2.sort_index()\n",
    "df2.columns = colunas\n",
    "\n",
    "df2.head()"
   ]
  },
  {
   "cell_type": "code",
   "execution_count": null,
   "metadata": {},
   "outputs": [],
   "source": [
    "df3 = df_status_predictor['Relatório 1(2)']\n",
    "df3.drop(df3.columns[0], axis=1, inplace=True)\n",
    "linha_extra = df3.columns\n",
    "df3.loc[-1] = linha_extra\n",
    "df3.index = df3.index + 1\n",
    "df3 = df3.sort_index()\n",
    "df3.columns = colunas\n",
    "\n",
    "df3.head()"
   ]
  },
  {
   "cell_type": "code",
   "execution_count": null,
   "metadata": {},
   "outputs": [],
   "source": [
    "df4 = df_status_predictor['Relatório 1(3)']\n",
    "df4.drop(df4.columns[0], axis=1, inplace=True)\n",
    "linha_extra = df4.columns\n",
    "df4.loc[-1] = linha_extra\n",
    "df4.index = df4.index + 1\n",
    "df4 = df4.sort_index()\n",
    "df4.columns = colunas\n",
    "\n",
    "df4.head()"
   ]
  },
  {
   "cell_type": "code",
   "execution_count": null,
   "metadata": {},
   "outputs": [],
   "source": [
    "df5 = df_status_predictor['Relatório 1(4)']\n",
    "df5.drop(df5.columns[0], axis=1, inplace=True)\n",
    "linha_extra = df5.columns\n",
    "df5.loc[-1] = linha_extra\n",
    "df5.index = df5.index + 1\n",
    "df5 = df5.sort_index()\n",
    "df5.columns = colunas\n",
    "\n",
    "df5.head()"
   ]
  },
  {
   "cell_type": "code",
   "execution_count": null,
   "metadata": {},
   "outputs": [],
   "source": [
    "df_status_predict_tratado = pd.concat([df1, df2, df3, df4, df5], ignore_index=True)\n",
    "df_status_predict_tratado.shape"
   ]
  },
  {
   "cell_type": "code",
   "execution_count": null,
   "metadata": {},
   "outputs": [],
   "source": [
    "df_status_predict_tratado.to_csv('FALHAS_PREDICT_TRATADO.csv')"
   ]
  }
 ],
 "metadata": {
  "kernelspec": {
   "display_name": "Python 3",
   "language": "python",
   "name": "python3"
  },
  "language_info": {
   "codemirror_mode": {
    "name": "ipython",
    "version": 3
   },
   "file_extension": ".py",
   "mimetype": "text/x-python",
   "name": "python",
   "nbconvert_exporter": "python",
   "pygments_lexer": "ipython3",
   "version": "3.10.12"
  }
 },
 "nbformat": 4,
 "nbformat_minor": 2
}
